{
 "cells": [
  {
   "cell_type": "code",
   "execution_count": 1,
   "id": "2df10ba1",
   "metadata": {
    "executionInfo": {
     "elapsed": 618,
     "status": "ok",
     "timestamp": 1666245298302,
     "user": {
      "displayName": "Dmitry Egoshin",
      "userId": "14725791403337399112"
     },
     "user_tz": -300
    },
    "id": "2df10ba1"
   },
   "outputs": [],
   "source": [
    "import pandas as pd\n",
    "import numpy as np"
   ]
  },
  {
   "cell_type": "code",
   "execution_count": 2,
   "id": "7e8d55d9",
   "metadata": {
    "executionInfo": {
     "elapsed": 925,
     "status": "ok",
     "timestamp": 1666245299209,
     "user": {
      "displayName": "Dmitry Egoshin",
      "userId": "14725791403337399112"
     },
     "user_tz": -300
    },
    "id": "7e8d55d9"
   },
   "outputs": [],
   "source": [
    "import seaborn as sns\n",
    "import matplotlib.pyplot as plt"
   ]
  },
  {
   "cell_type": "markdown",
   "id": "6da2c268",
   "metadata": {
    "id": "6da2c268"
   },
   "source": [
    "#### 1 Dimensions vs Metrics"
   ]
  },
  {
   "cell_type": "markdown",
   "id": "2e0a4812",
   "metadata": {
    "id": "2e0a4812"
   },
   "source": [
    "Have a look at all fields in all reports that we deliver to clients.\n",
    "\n",
    "There are two kind of fields:\n",
    "* dimensions (country, banner_id, campaign_name ..)\n",
    "* metrics: (clicks, spends, impressions …)\n",
    "\n",
    "We need an estimation for a question: what part of the fields are metrics? \n",
    "\n",
    "It is not always easy to say exactly if this field metric is neither dimension. Ok to have answe liker: from 25% to 35%\n",
    "\n",
    "round answer to integer\n"
   ]
  },
  {
   "cell_type": "code",
   "execution_count": 3,
   "id": "e7d3eae7",
   "metadata": {
    "executionInfo": {
     "elapsed": 30,
     "status": "ok",
     "timestamp": 1666245299213,
     "user": {
      "displayName": "Dmitry Egoshin",
      "userId": "14725791403337399112"
     },
     "user_tz": -300
    },
    "id": "e7d3eae7"
   },
   "outputs": [],
   "source": [
    "pd.set_option('display.max_rows', 100)"
   ]
  },
  {
   "cell_type": "code",
   "execution_count": 4,
   "id": "4cd4671a",
   "metadata": {
    "executionInfo": {
     "elapsed": 875,
     "status": "ok",
     "timestamp": 1666245300062,
     "user": {
      "displayName": "Dmitry Egoshin",
      "userId": "14725791403337399112"
     },
     "user_tz": -300
    },
    "id": "4cd4671a"
   },
   "outputs": [],
   "source": [
    "df = pd.read_csv('https://redash.tools.improvado.io/api/queries/2923/results.csv?api_key=ybPMWxe8hQRtwswE0hwvssRGqtl7fLSfX8XgBgiV')"
   ]
  },
  {
   "cell_type": "code",
   "execution_count": 5,
   "id": "5fbd4673",
   "metadata": {
    "colab": {
     "base_uri": "https://localhost:8080/",
     "height": 424
    },
    "executionInfo": {
     "elapsed": 175,
     "status": "ok",
     "timestamp": 1666245300071,
     "user": {
      "displayName": "Dmitry Egoshin",
      "userId": "14725791403337399112"
     },
     "user_tz": -300
    },
    "id": "5fbd4673",
    "outputId": "310a60af-0e05-4f8c-ece8-51f971188208"
   },
   "outputs": [
    {
     "data": {
      "text/html": [
       "\n",
       "  <div id=\"df-32da21ee-2a5c-4d01-96d6-d071408873ab\">\n",
       "    <div class=\"colab-df-container\">\n",
       "      <div>\n",
       "<style scoped>\n",
       "    .dataframe tbody tr th:only-of-type {\n",
       "        vertical-align: middle;\n",
       "    }\n",
       "\n",
       "    .dataframe tbody tr th {\n",
       "        vertical-align: top;\n",
       "    }\n",
       "\n",
       "    .dataframe thead th {\n",
       "        text-align: right;\n",
       "    }\n",
       "</style>\n",
       "<table border=\"1\" class=\"dataframe\">\n",
       "  <thead>\n",
       "    <tr style=\"text-align: right;\">\n",
       "      <th></th>\n",
       "      <th>data_source_title</th>\n",
       "      <th>report_type_title</th>\n",
       "      <th>field_title</th>\n",
       "      <th>sql_field_name</th>\n",
       "      <th>api_field_name</th>\n",
       "    </tr>\n",
       "  </thead>\n",
       "  <tbody>\n",
       "    <tr>\n",
       "      <th>0</th>\n",
       "      <td>ACME</td>\n",
       "      <td>Transactions</td>\n",
       "      <td>Net Transaction Amount</td>\n",
       "      <td>net_transaction_amount</td>\n",
       "      <td>NetTransactionAmount</td>\n",
       "    </tr>\n",
       "    <tr>\n",
       "      <th>1</th>\n",
       "      <td>ACME</td>\n",
       "      <td>Transactions</td>\n",
       "      <td>Order Amount</td>\n",
       "      <td>order_amount</td>\n",
       "      <td>OrderAmount</td>\n",
       "    </tr>\n",
       "    <tr>\n",
       "      <th>2</th>\n",
       "      <td>ACME</td>\n",
       "      <td>Transactions</td>\n",
       "      <td>Order Balance</td>\n",
       "      <td>order_balance</td>\n",
       "      <td>OrderBalance</td>\n",
       "    </tr>\n",
       "    <tr>\n",
       "      <th>3</th>\n",
       "      <td>ACME</td>\n",
       "      <td>Transactions</td>\n",
       "      <td>Payment Amount</td>\n",
       "      <td>payment_amount</td>\n",
       "      <td>PaymentAmount</td>\n",
       "    </tr>\n",
       "    <tr>\n",
       "      <th>4</th>\n",
       "      <td>ACME</td>\n",
       "      <td>Transactions</td>\n",
       "      <td>Quantity</td>\n",
       "      <td>quantity</td>\n",
       "      <td>Quantity</td>\n",
       "    </tr>\n",
       "    <tr>\n",
       "      <th>...</th>\n",
       "      <td>...</td>\n",
       "      <td>...</td>\n",
       "      <td>...</td>\n",
       "      <td>...</td>\n",
       "      <td>...</td>\n",
       "    </tr>\n",
       "    <tr>\n",
       "      <th>31381</th>\n",
       "      <td>Zignal Labs</td>\n",
       "      <td>Key Metrics</td>\n",
       "      <td>News Blogs</td>\n",
       "      <td>news_blogs</td>\n",
       "      <td>:calc.news_blogs</td>\n",
       "    </tr>\n",
       "    <tr>\n",
       "      <th>31382</th>\n",
       "      <td>Zignal Labs</td>\n",
       "      <td>Key Metrics</td>\n",
       "      <td>Total Mentions</td>\n",
       "      <td>total_mentions</td>\n",
       "      <td>mentions.count</td>\n",
       "    </tr>\n",
       "    <tr>\n",
       "      <th>31383</th>\n",
       "      <td>Zignal Labs</td>\n",
       "      <td>Key Metrics</td>\n",
       "      <td>Mqs</td>\n",
       "      <td>mqs</td>\n",
       "      <td>mqs.media_quality_score</td>\n",
       "    </tr>\n",
       "    <tr>\n",
       "      <th>31384</th>\n",
       "      <td>Zignal Labs</td>\n",
       "      <td>Newsroom Stories</td>\n",
       "      <td>Influence</td>\n",
       "      <td>influence</td>\n",
       "      <td>influence</td>\n",
       "    </tr>\n",
       "    <tr>\n",
       "      <th>31385</th>\n",
       "      <td>Zignal Labs</td>\n",
       "      <td>Newsroom Stories</td>\n",
       "      <td>Potential Impressions</td>\n",
       "      <td>potential_impressions</td>\n",
       "      <td>potential_impressions</td>\n",
       "    </tr>\n",
       "  </tbody>\n",
       "</table>\n",
       "<p>31386 rows × 5 columns</p>\n",
       "</div>\n",
       "      <button class=\"colab-df-convert\" onclick=\"convertToInteractive('df-32da21ee-2a5c-4d01-96d6-d071408873ab')\"\n",
       "              title=\"Convert this dataframe to an interactive table.\"\n",
       "              style=\"display:none;\">\n",
       "        \n",
       "  <svg xmlns=\"http://www.w3.org/2000/svg\" height=\"24px\"viewBox=\"0 0 24 24\"\n",
       "       width=\"24px\">\n",
       "    <path d=\"M0 0h24v24H0V0z\" fill=\"none\"/>\n",
       "    <path d=\"M18.56 5.44l.94 2.06.94-2.06 2.06-.94-2.06-.94-.94-2.06-.94 2.06-2.06.94zm-11 1L8.5 8.5l.94-2.06 2.06-.94-2.06-.94L8.5 2.5l-.94 2.06-2.06.94zm10 10l.94 2.06.94-2.06 2.06-.94-2.06-.94-.94-2.06-.94 2.06-2.06.94z\"/><path d=\"M17.41 7.96l-1.37-1.37c-.4-.4-.92-.59-1.43-.59-.52 0-1.04.2-1.43.59L10.3 9.45l-7.72 7.72c-.78.78-.78 2.05 0 2.83L4 21.41c.39.39.9.59 1.41.59.51 0 1.02-.2 1.41-.59l7.78-7.78 2.81-2.81c.8-.78.8-2.07 0-2.86zM5.41 20L4 18.59l7.72-7.72 1.47 1.35L5.41 20z\"/>\n",
       "  </svg>\n",
       "      </button>\n",
       "      \n",
       "  <style>\n",
       "    .colab-df-container {\n",
       "      display:flex;\n",
       "      flex-wrap:wrap;\n",
       "      gap: 12px;\n",
       "    }\n",
       "\n",
       "    .colab-df-convert {\n",
       "      background-color: #E8F0FE;\n",
       "      border: none;\n",
       "      border-radius: 50%;\n",
       "      cursor: pointer;\n",
       "      display: none;\n",
       "      fill: #1967D2;\n",
       "      height: 32px;\n",
       "      padding: 0 0 0 0;\n",
       "      width: 32px;\n",
       "    }\n",
       "\n",
       "    .colab-df-convert:hover {\n",
       "      background-color: #E2EBFA;\n",
       "      box-shadow: 0px 1px 2px rgba(60, 64, 67, 0.3), 0px 1px 3px 1px rgba(60, 64, 67, 0.15);\n",
       "      fill: #174EA6;\n",
       "    }\n",
       "\n",
       "    [theme=dark] .colab-df-convert {\n",
       "      background-color: #3B4455;\n",
       "      fill: #D2E3FC;\n",
       "    }\n",
       "\n",
       "    [theme=dark] .colab-df-convert:hover {\n",
       "      background-color: #434B5C;\n",
       "      box-shadow: 0px 1px 3px 1px rgba(0, 0, 0, 0.15);\n",
       "      filter: drop-shadow(0px 1px 2px rgba(0, 0, 0, 0.3));\n",
       "      fill: #FFFFFF;\n",
       "    }\n",
       "  </style>\n",
       "\n",
       "      <script>\n",
       "        const buttonEl =\n",
       "          document.querySelector('#df-32da21ee-2a5c-4d01-96d6-d071408873ab button.colab-df-convert');\n",
       "        buttonEl.style.display =\n",
       "          google.colab.kernel.accessAllowed ? 'block' : 'none';\n",
       "\n",
       "        async function convertToInteractive(key) {\n",
       "          const element = document.querySelector('#df-32da21ee-2a5c-4d01-96d6-d071408873ab');\n",
       "          const dataTable =\n",
       "            await google.colab.kernel.invokeFunction('convertToInteractive',\n",
       "                                                     [key], {});\n",
       "          if (!dataTable) return;\n",
       "\n",
       "          const docLinkHtml = 'Like what you see? Visit the ' +\n",
       "            '<a target=\"_blank\" href=https://colab.research.google.com/notebooks/data_table.ipynb>data table notebook</a>'\n",
       "            + ' to learn more about interactive tables.';\n",
       "          element.innerHTML = '';\n",
       "          dataTable['output_type'] = 'display_data';\n",
       "          await google.colab.output.renderOutput(dataTable, element);\n",
       "          const docLink = document.createElement('div');\n",
       "          docLink.innerHTML = docLinkHtml;\n",
       "          element.appendChild(docLink);\n",
       "        }\n",
       "      </script>\n",
       "    </div>\n",
       "  </div>\n",
       "  "
      ],
      "text/plain": [
       "      data_source_title report_type_title             field_title  \\\n",
       "0                  ACME      Transactions  Net Transaction Amount   \n",
       "1                  ACME      Transactions            Order Amount   \n",
       "2                  ACME      Transactions           Order Balance   \n",
       "3                  ACME      Transactions          Payment Amount   \n",
       "4                  ACME      Transactions                Quantity   \n",
       "...                 ...               ...                     ...   \n",
       "31381       Zignal Labs       Key Metrics              News Blogs   \n",
       "31382       Zignal Labs       Key Metrics          Total Mentions   \n",
       "31383       Zignal Labs       Key Metrics                     Mqs   \n",
       "31384       Zignal Labs  Newsroom Stories               Influence   \n",
       "31385       Zignal Labs  Newsroom Stories   Potential Impressions   \n",
       "\n",
       "               sql_field_name           api_field_name  \n",
       "0      net_transaction_amount     NetTransactionAmount  \n",
       "1                order_amount              OrderAmount  \n",
       "2               order_balance             OrderBalance  \n",
       "3              payment_amount            PaymentAmount  \n",
       "4                    quantity                 Quantity  \n",
       "...                       ...                      ...  \n",
       "31381              news_blogs         :calc.news_blogs  \n",
       "31382          total_mentions           mentions.count  \n",
       "31383                     mqs  mqs.media_quality_score  \n",
       "31384               influence                influence  \n",
       "31385   potential_impressions    potential_impressions  \n",
       "\n",
       "[31386 rows x 5 columns]"
      ]
     },
     "execution_count": 5,
     "metadata": {},
     "output_type": "execute_result"
    }
   ],
   "source": [
    "df"
   ]
  },
  {
   "cell_type": "code",
   "execution_count": 6,
   "id": "e3eec48b",
   "metadata": {
    "colab": {
     "base_uri": "https://localhost:8080/"
    },
    "executionInfo": {
     "elapsed": 153,
     "status": "ok",
     "timestamp": 1666245300081,
     "user": {
      "displayName": "Dmitry Egoshin",
      "userId": "14725791403337399112"
     },
     "user_tz": -300
    },
    "id": "e3eec48b",
    "outputId": "00b79cf7-d44c-447d-d23d-f6b60b5073c0"
   },
   "outputs": [
    {
     "data": {
      "text/plain": [
       "array(['ACME', 'ActiveCampaign', 'Act on', 'Adform', 'AdFox', 'Adition',\n",
       "       'Adjust API', 'Adobe Analytics', 'Adobe Analytics Data Feed',\n",
       "       'Adriver', 'AdRoll', 'Adthena', 'Advangelists', 'Advantage',\n",
       "       'Amazon Advertising', 'Amazon Advertising DSP',\n",
       "       'Amazon Attribution', 'Amazon MWS', 'Amazon Selling Partner',\n",
       "       'Amazon Selling Partner for Sellers', 'Apple Search', 'AppsFlyer',\n",
       "       'AppsFlyer Master Api', 'Appsflyer SKADnetwork', 'Atlassian Jira',\n",
       "       'Authoritas', 'AutoPilot', 'AWIN', 'Basis Platform API', 'Beeswax',\n",
       "       'Beeswax Entity', 'Belboon', 'Bing Ads (Microsoft Advertising)',\n",
       "       'Bing Webmaster Tools', 'Botify', 'Box', 'Branch', 'Brandwatch',\n",
       "       'Business.Idealo', 'Buzzoola', 'CallRail', 'CallTrackingMetrics',\n",
       "       'Campaign Monitor', 'Capterra', 'Centro DSP', 'Convertr', 'Criteo',\n",
       "       'Criteo Retail Media', 'Deputy', 'Dialogtech', 'Domain',\n",
       "       'Dot Digital', 'eBay', 'Eventbrite', 'Everflow Affiliate API',\n",
       "       'Example', 'Facebook', 'Facebook Groups', 'Facebook Pages',\n",
       "       'Fanpage Karma', 'Freshdesk', 'Gemius', 'GetCake', 'Getintent',\n",
       "       'Gmail', 'Google Ad Manager', 'Google Ads',\n",
       "       'Google Analytics 4 (Analytics Data API)',\n",
       "       'Google Campaign Manager',\n",
       "       'Google Campaign Manager (by Advertisers)',\n",
       "       'Google Campaign Manager (by Profile)', 'Google Display&Video 360',\n",
       "       'Google My Business', 'Google Search Ads 360',\n",
       "       'Google Search Console', 'Google Universal Analytics', 'GRIN',\n",
       "       'HasOffers', 'HubSpot', 'Hybrid', 'Imho', 'Impact Radius',\n",
       "       'InfoPlus', 'Instagram Hashtag', 'Instagram Organic',\n",
       "       'Instagram Stories and Mentions', 'Iterable', 'Kenshoo',\n",
       "       'Kenshoo V3 API', 'Klaviyo', 'Kochava', 'LinkedIn Ads',\n",
       "       'LinkedIn Organic', 'LiveIntent', 'MailChimp', 'Mandrill',\n",
       "       'Marilyn', 'Marketo', 'MediaMath', 'Meltwater', 'Mercado Libre',\n",
       "       'Microsoft Dynamic 365', 'Mixpanel', 'Moat', 'Moloco Cloud', 'Moz',\n",
       "       'MTS DSP', 'My Target For Agency', 'My Target For Client',\n",
       "       'My Target For Manager', 'Native Roll', 'NetBase',\n",
       "       'OpenMoves Mailer', 'Outbrain', 'Outreach', 'OWA Pro', 'Ozon',\n",
       "       'Pardot API', 'Partnerize', 'Pepperjam',\n",
       "       'Performance Marketing Lab', 'Pinterest Ads', 'Pinterest Organic',\n",
       "       'Pipedrive', 'Placed', 'Quora Ads', 'Rakuten Advertising',\n",
       "       'Rambler Leto', 'RealEstate', 'RealEstate DP&FAE',\n",
       "       'Recharge Payments', 'Recurly', 'Reddit', 'RedTrack', 'RevContent',\n",
       "       'Salesforce', 'Salesforce Marketing Cloud', 'Segmento', 'SEMrush',\n",
       "       'ShareASale', 'Shopify', 'Simpli.fi', 'Site Impact', 'Sizmek',\n",
       "       'Sizmek DSP API', 'Sizmek SAS', 'SlickJump', 'Smart Adserver',\n",
       "       'Snapchat Ads', 'Snapchat Organic', 'Spotify Organic',\n",
       "       'StackAdapt', 'STAT Search Analytics', 'Stripe', 'Tableau',\n",
       "       'Taboola', 'Teads API', 'The Trade Desk Api', 'TikTok Ads',\n",
       "       'Ttarget', 'Tune', 'Tune Affiliate', 'TV Squared', 'Twitter',\n",
       "       'Unbounce', 'VK Ads', 'VK Ads Clients', 'Voluum', 'Weborama',\n",
       "       'XING', 'Yahoo DSP', 'Yahoo Gemini', 'Yandex Direct',\n",
       "       'Yandex Display (deprecated)', 'Yandex Market', 'Yandex Metrica',\n",
       "       'Yext', 'Youtube Organic', 'Zemanta', 'Zendesk', 'Zignal Labs'],\n",
       "      dtype=object)"
      ]
     },
     "execution_count": 6,
     "metadata": {},
     "output_type": "execute_result"
    }
   ],
   "source": [
    "df['data_source_title'].unique()"
   ]
  },
  {
   "cell_type": "code",
   "execution_count": 7,
   "id": "1df15073",
   "metadata": {
    "colab": {
     "base_uri": "https://localhost:8080/",
     "height": 424
    },
    "executionInfo": {
     "elapsed": 132,
     "status": "ok",
     "timestamp": 1666245300087,
     "user": {
      "displayName": "Dmitry Egoshin",
      "userId": "14725791403337399112"
     },
     "user_tz": -300
    },
    "id": "1df15073",
    "outputId": "6bfff55b-ab74-455d-f6b9-af7ff22512dc"
   },
   "outputs": [
    {
     "data": {
      "text/html": [
       "\n",
       "  <div id=\"df-c783fa03-2abc-4189-ace8-3c3d8186b6ed\">\n",
       "    <div class=\"colab-df-container\">\n",
       "      <div>\n",
       "<style scoped>\n",
       "    .dataframe tbody tr th:only-of-type {\n",
       "        vertical-align: middle;\n",
       "    }\n",
       "\n",
       "    .dataframe tbody tr th {\n",
       "        vertical-align: top;\n",
       "    }\n",
       "\n",
       "    .dataframe thead th {\n",
       "        text-align: right;\n",
       "    }\n",
       "</style>\n",
       "<table border=\"1\" class=\"dataframe\">\n",
       "  <thead>\n",
       "    <tr style=\"text-align: right;\">\n",
       "      <th></th>\n",
       "      <th>data_source_title</th>\n",
       "      <th>report_type_title</th>\n",
       "      <th>field_title</th>\n",
       "      <th>sql_field_name</th>\n",
       "      <th>api_field_name</th>\n",
       "    </tr>\n",
       "  </thead>\n",
       "  <tbody>\n",
       "    <tr>\n",
       "      <th>11899</th>\n",
       "      <td>Google Ads</td>\n",
       "      <td>Adgroups</td>\n",
       "      <td>Interactions</td>\n",
       "      <td>interactions</td>\n",
       "      <td>metrics.interactions</td>\n",
       "    </tr>\n",
       "    <tr>\n",
       "      <th>11900</th>\n",
       "      <td>Google Ads</td>\n",
       "      <td>Adgroups</td>\n",
       "      <td>All Conversions</td>\n",
       "      <td>all_conversions</td>\n",
       "      <td>metrics.all_conversions</td>\n",
       "    </tr>\n",
       "    <tr>\n",
       "      <th>11901</th>\n",
       "      <td>Google Ads</td>\n",
       "      <td>Adgroups</td>\n",
       "      <td>All Conversions Value</td>\n",
       "      <td>all_conversions_value</td>\n",
       "      <td>metrics.all_conversions_value</td>\n",
       "    </tr>\n",
       "    <tr>\n",
       "      <th>11902</th>\n",
       "      <td>Google Ads</td>\n",
       "      <td>Adgroups</td>\n",
       "      <td>Impressions</td>\n",
       "      <td>impressions</td>\n",
       "      <td>metrics.impressions</td>\n",
       "    </tr>\n",
       "    <tr>\n",
       "      <th>11903</th>\n",
       "      <td>Google Ads</td>\n",
       "      <td>Adgroups</td>\n",
       "      <td>Conversions Value</td>\n",
       "      <td>conversions_value</td>\n",
       "      <td>metrics.conversions_value</td>\n",
       "    </tr>\n",
       "    <tr>\n",
       "      <th>...</th>\n",
       "      <td>...</td>\n",
       "      <td>...</td>\n",
       "      <td>...</td>\n",
       "      <td>...</td>\n",
       "      <td>...</td>\n",
       "    </tr>\n",
       "    <tr>\n",
       "      <th>13570</th>\n",
       "      <td>Google Ads</td>\n",
       "      <td>Geo Adgroups City</td>\n",
       "      <td>Ad group</td>\n",
       "      <td>ad_group_name</td>\n",
       "      <td>ad_group.name</td>\n",
       "    </tr>\n",
       "    <tr>\n",
       "      <th>13571</th>\n",
       "      <td>Google Ads</td>\n",
       "      <td>Geo Adgroups City</td>\n",
       "      <td>Ad group ID</td>\n",
       "      <td>ad_group_id</td>\n",
       "      <td>ad_group.id</td>\n",
       "    </tr>\n",
       "    <tr>\n",
       "      <th>13572</th>\n",
       "      <td>Google Ads</td>\n",
       "      <td>Geo Adgroups City</td>\n",
       "      <td>Campaign</td>\n",
       "      <td>campaign_name</td>\n",
       "      <td>campaign.name</td>\n",
       "    </tr>\n",
       "    <tr>\n",
       "      <th>13573</th>\n",
       "      <td>Google Ads</td>\n",
       "      <td>Geo Adgroups City</td>\n",
       "      <td>Campaign ID</td>\n",
       "      <td>campaign_id</td>\n",
       "      <td>campaign.id</td>\n",
       "    </tr>\n",
       "    <tr>\n",
       "      <th>13574</th>\n",
       "      <td>Google Ads</td>\n",
       "      <td>Conversions</td>\n",
       "      <td>Download Conversions</td>\n",
       "      <td>download_conversions</td>\n",
       "      <td>download_conversions</td>\n",
       "    </tr>\n",
       "  </tbody>\n",
       "</table>\n",
       "<p>1676 rows × 5 columns</p>\n",
       "</div>\n",
       "      <button class=\"colab-df-convert\" onclick=\"convertToInteractive('df-c783fa03-2abc-4189-ace8-3c3d8186b6ed')\"\n",
       "              title=\"Convert this dataframe to an interactive table.\"\n",
       "              style=\"display:none;\">\n",
       "        \n",
       "  <svg xmlns=\"http://www.w3.org/2000/svg\" height=\"24px\"viewBox=\"0 0 24 24\"\n",
       "       width=\"24px\">\n",
       "    <path d=\"M0 0h24v24H0V0z\" fill=\"none\"/>\n",
       "    <path d=\"M18.56 5.44l.94 2.06.94-2.06 2.06-.94-2.06-.94-.94-2.06-.94 2.06-2.06.94zm-11 1L8.5 8.5l.94-2.06 2.06-.94-2.06-.94L8.5 2.5l-.94 2.06-2.06.94zm10 10l.94 2.06.94-2.06 2.06-.94-2.06-.94-.94-2.06-.94 2.06-2.06.94z\"/><path d=\"M17.41 7.96l-1.37-1.37c-.4-.4-.92-.59-1.43-.59-.52 0-1.04.2-1.43.59L10.3 9.45l-7.72 7.72c-.78.78-.78 2.05 0 2.83L4 21.41c.39.39.9.59 1.41.59.51 0 1.02-.2 1.41-.59l7.78-7.78 2.81-2.81c.8-.78.8-2.07 0-2.86zM5.41 20L4 18.59l7.72-7.72 1.47 1.35L5.41 20z\"/>\n",
       "  </svg>\n",
       "      </button>\n",
       "      \n",
       "  <style>\n",
       "    .colab-df-container {\n",
       "      display:flex;\n",
       "      flex-wrap:wrap;\n",
       "      gap: 12px;\n",
       "    }\n",
       "\n",
       "    .colab-df-convert {\n",
       "      background-color: #E8F0FE;\n",
       "      border: none;\n",
       "      border-radius: 50%;\n",
       "      cursor: pointer;\n",
       "      display: none;\n",
       "      fill: #1967D2;\n",
       "      height: 32px;\n",
       "      padding: 0 0 0 0;\n",
       "      width: 32px;\n",
       "    }\n",
       "\n",
       "    .colab-df-convert:hover {\n",
       "      background-color: #E2EBFA;\n",
       "      box-shadow: 0px 1px 2px rgba(60, 64, 67, 0.3), 0px 1px 3px 1px rgba(60, 64, 67, 0.15);\n",
       "      fill: #174EA6;\n",
       "    }\n",
       "\n",
       "    [theme=dark] .colab-df-convert {\n",
       "      background-color: #3B4455;\n",
       "      fill: #D2E3FC;\n",
       "    }\n",
       "\n",
       "    [theme=dark] .colab-df-convert:hover {\n",
       "      background-color: #434B5C;\n",
       "      box-shadow: 0px 1px 3px 1px rgba(0, 0, 0, 0.15);\n",
       "      filter: drop-shadow(0px 1px 2px rgba(0, 0, 0, 0.3));\n",
       "      fill: #FFFFFF;\n",
       "    }\n",
       "  </style>\n",
       "\n",
       "      <script>\n",
       "        const buttonEl =\n",
       "          document.querySelector('#df-c783fa03-2abc-4189-ace8-3c3d8186b6ed button.colab-df-convert');\n",
       "        buttonEl.style.display =\n",
       "          google.colab.kernel.accessAllowed ? 'block' : 'none';\n",
       "\n",
       "        async function convertToInteractive(key) {\n",
       "          const element = document.querySelector('#df-c783fa03-2abc-4189-ace8-3c3d8186b6ed');\n",
       "          const dataTable =\n",
       "            await google.colab.kernel.invokeFunction('convertToInteractive',\n",
       "                                                     [key], {});\n",
       "          if (!dataTable) return;\n",
       "\n",
       "          const docLinkHtml = 'Like what you see? Visit the ' +\n",
       "            '<a target=\"_blank\" href=https://colab.research.google.com/notebooks/data_table.ipynb>data table notebook</a>'\n",
       "            + ' to learn more about interactive tables.';\n",
       "          element.innerHTML = '';\n",
       "          dataTable['output_type'] = 'display_data';\n",
       "          await google.colab.output.renderOutput(dataTable, element);\n",
       "          const docLink = document.createElement('div');\n",
       "          docLink.innerHTML = docLinkHtml;\n",
       "          element.appendChild(docLink);\n",
       "        }\n",
       "      </script>\n",
       "    </div>\n",
       "  </div>\n",
       "  "
      ],
      "text/plain": [
       "      data_source_title  report_type_title            field_title  \\\n",
       "11899        Google Ads           Adgroups           Interactions   \n",
       "11900        Google Ads           Adgroups        All Conversions   \n",
       "11901        Google Ads           Adgroups  All Conversions Value   \n",
       "11902        Google Ads           Adgroups            Impressions   \n",
       "11903        Google Ads           Adgroups      Conversions Value   \n",
       "...                 ...                ...                    ...   \n",
       "13570        Google Ads  Geo Adgroups City               Ad group   \n",
       "13571        Google Ads  Geo Adgroups City            Ad group ID   \n",
       "13572        Google Ads  Geo Adgroups City               Campaign   \n",
       "13573        Google Ads  Geo Adgroups City            Campaign ID   \n",
       "13574        Google Ads        Conversions   Download Conversions   \n",
       "\n",
       "              sql_field_name                 api_field_name  \n",
       "11899           interactions           metrics.interactions  \n",
       "11900        all_conversions        metrics.all_conversions  \n",
       "11901  all_conversions_value  metrics.all_conversions_value  \n",
       "11902            impressions            metrics.impressions  \n",
       "11903      conversions_value      metrics.conversions_value  \n",
       "...                      ...                            ...  \n",
       "13570          ad_group_name                  ad_group.name  \n",
       "13571            ad_group_id                    ad_group.id  \n",
       "13572          campaign_name                  campaign.name  \n",
       "13573            campaign_id                    campaign.id  \n",
       "13574   download_conversions           download_conversions  \n",
       "\n",
       "[1676 rows x 5 columns]"
      ]
     },
     "execution_count": 7,
     "metadata": {},
     "output_type": "execute_result"
    }
   ],
   "source": [
    "df[df['data_source_title'] == 'Google Ads']"
   ]
  },
  {
   "cell_type": "code",
   "execution_count": 8,
   "id": "3fdc5ad2",
   "metadata": {
    "executionInfo": {
     "elapsed": 127,
     "status": "ok",
     "timestamp": 1666245300094,
     "user": {
      "displayName": "Dmitry Egoshin",
      "userId": "14725791403337399112"
     },
     "user_tz": -300
    },
    "id": "3fdc5ad2"
   },
   "outputs": [],
   "source": [
    "conversion_actions = [\n",
    "    'cost', 'spent', 'impression', 'impressions', \n",
    "    'view', 'views', 'reach', \n",
    "    'conversion', 'conversions', 'engage', 'engagement', \n",
    "    'value', 'rate', 'share', 'revenue', \n",
    "    'income', 'score', 'percent', 'like', 'likes',\n",
    "    'comment', 'comments', 'sale', 'sales', \n",
    "    'amount', 'install', 'installs',\n",
    "    'visit', 'visits', 'count', 'duration', 'bounce_rate', \n",
    "    'cost', 'sku', 'transaction', 'transactions', \n",
    "    'tweet', 'tweets', 'user', 'users', \n",
    "    'session', 'sessions', '_num', \n",
    "    'order', 'orders', 'purchase', 'purchases', \n",
    "    'item', 'items', 'click', 'click', 'event', 'depth', \n",
    "    'frequency', 'result', 'results', '_pres']"
   ]
  },
  {
   "cell_type": "code",
   "execution_count": 9,
   "id": "f3e2cf1e",
   "metadata": {
    "executionInfo": {
     "elapsed": 1774,
     "status": "ok",
     "timestamp": 1666245301746,
     "user": {
      "displayName": "Dmitry Egoshin",
      "userId": "14725791403337399112"
     },
     "user_tz": -300
    },
    "id": "f3e2cf1e"
   },
   "outputs": [],
   "source": [
    "d = {}\n",
    "for col in df:\n",
    "    c = 0\n",
    "    d[col] = [len(df[col])]\n",
    "    \n",
    "    for item in df[col]:\n",
    "        # if item in conversion_actions:\n",
    "        if [s for s in conversion_actions if s in item]:\n",
    "            c += 1\n",
    "    d[col].append(c)"
   ]
  },
  {
   "cell_type": "code",
   "execution_count": 10,
   "id": "fa985bbf",
   "metadata": {
    "colab": {
     "base_uri": "https://localhost:8080/"
    },
    "executionInfo": {
     "elapsed": 164,
     "status": "ok",
     "timestamp": 1666245301750,
     "user": {
      "displayName": "Dmitry Egoshin",
      "userId": "14725791403337399112"
     },
     "user_tz": -300
    },
    "id": "fa985bbf",
    "outputId": "dadda13e-52ec-4177-f0d7-b417288c5894"
   },
   "outputs": [
    {
     "data": {
      "text/plain": [
       "{'data_source_title': [31386, 283],\n",
       " 'report_type_title': [31386, 2031],\n",
       " 'field_title': [31386, 2224],\n",
       " 'sql_field_name': [31386, 13557],\n",
       " 'api_field_name': [31386, 9890]}"
      ]
     },
     "execution_count": 10,
     "metadata": {},
     "output_type": "execute_result"
    }
   ],
   "source": [
    "d"
   ]
  },
  {
   "cell_type": "code",
   "execution_count": 11,
   "id": "bb3c83e9",
   "metadata": {
    "colab": {
     "base_uri": "https://localhost:8080/"
    },
    "executionInfo": {
     "elapsed": 133,
     "status": "ok",
     "timestamp": 1666245301756,
     "user": {
      "displayName": "Dmitry Egoshin",
      "userId": "14725791403337399112"
     },
     "user_tz": -300
    },
    "id": "bb3c83e9",
    "outputId": "67bf220b-c419-4244-8428-bb9299489237"
   },
   "outputs": [
    {
     "name": "stdout",
     "output_type": "stream",
     "text": [
      "data_source_title: 0.9\n",
      "report_type_title: 6.47\n",
      "field_title: 7.09\n",
      "sql_field_name: 43.19\n",
      "api_field_name: 31.51\n"
     ]
    }
   ],
   "source": [
    "for key, value in d.items():\n",
    "    print(f'{key}: {round((value[1]/value[0]) * 100, 2)}')"
   ]
  },
  {
   "cell_type": "code",
   "execution_count": 12,
   "id": "f4bb2942",
   "metadata": {
    "colab": {
     "base_uri": "https://localhost:8080/"
    },
    "executionInfo": {
     "elapsed": 115,
     "status": "ok",
     "timestamp": 1666245301761,
     "user": {
      "displayName": "Dmitry Egoshin",
      "userId": "14725791403337399112"
     },
     "user_tz": -300
    },
    "id": "f4bb2942",
    "outputId": "307602ed-68d6-4b7c-fc86-3361a880489a"
   },
   "outputs": [
    {
     "name": "stdout",
     "output_type": "stream",
     "text": [
      "Metric percentage for SQL & API fields: 38%\n"
     ]
    }
   ],
   "source": [
    "print(f'Metric percentage for SQL & API fields: {round((13385 + 9806) / (30718 * 2) * 100)}%')"
   ]
  },
  {
   "cell_type": "markdown",
   "id": "5698bc63",
   "metadata": {
    "id": "5698bc63"
   },
   "source": [
    "#### 2 Sales Manager conversions"
   ]
  },
  {
   "cell_type": "markdown",
   "id": "e833d0cc",
   "metadata": {
    "id": "e833d0cc"
   },
   "source": [
    "Here is `csv` file with sales stats. Calculate conversion rate from touch to deal. What is the best? \n",
    "\n",
    "Be careful. If you don’t feel the data you will make a mistake. You need to understand how data could be matched with real sales processes."
   ]
  },
  {
   "cell_type": "code",
   "execution_count": 13,
   "id": "4f648462",
   "metadata": {
    "executionInfo": {
     "elapsed": 1361,
     "status": "ok",
     "timestamp": 1666245303029,
     "user": {
      "displayName": "Dmitry Egoshin",
      "userId": "14725791403337399112"
     },
     "user_tz": -300
    },
    "id": "4f648462"
   },
   "outputs": [],
   "source": [
    "df = pd.read_csv('https://drive.google.com/uc?id=1JL_qmha_6p7ojtMdT4x95HKPhXaMs_m0')"
   ]
  },
  {
   "cell_type": "code",
   "execution_count": 14,
   "id": "2eead99c",
   "metadata": {
    "executionInfo": {
     "elapsed": 399,
     "status": "ok",
     "timestamp": 1666245303035,
     "user": {
      "displayName": "Dmitry Egoshin",
      "userId": "14725791403337399112"
     },
     "user_tz": -300
    },
    "id": "2eead99c"
   },
   "outputs": [],
   "source": [
    "ft = df[df['event_name'] == 'first_touch']"
   ]
  },
  {
   "cell_type": "code",
   "execution_count": 15,
   "id": "9b9fffe0",
   "metadata": {
    "colab": {
     "base_uri": "https://localhost:8080/",
     "height": 206
    },
    "executionInfo": {
     "elapsed": 403,
     "status": "ok",
     "timestamp": 1666245303044,
     "user": {
      "displayName": "Dmitry Egoshin",
      "userId": "14725791403337399112"
     },
     "user_tz": -300
    },
    "id": "9b9fffe0",
    "outputId": "134a9526-098a-4aca-e7e8-9efd347a26aa"
   },
   "outputs": [
    {
     "data": {
      "text/html": [
       "\n",
       "  <div id=\"df-325e4caa-a7f0-44da-b4dd-d3e3c82a0819\">\n",
       "    <div class=\"colab-df-container\">\n",
       "      <div>\n",
       "<style scoped>\n",
       "    .dataframe tbody tr th:only-of-type {\n",
       "        vertical-align: middle;\n",
       "    }\n",
       "\n",
       "    .dataframe tbody tr th {\n",
       "        vertical-align: top;\n",
       "    }\n",
       "\n",
       "    .dataframe thead th {\n",
       "        text-align: right;\n",
       "    }\n",
       "</style>\n",
       "<table border=\"1\" class=\"dataframe\">\n",
       "  <thead>\n",
       "    <tr style=\"text-align: right;\">\n",
       "      <th></th>\n",
       "      <th>client_account_id</th>\n",
       "      <th>date</th>\n",
       "      <th>event_name</th>\n",
       "      <th>manager_id</th>\n",
       "      <th>manager_nickname</th>\n",
       "    </tr>\n",
       "  </thead>\n",
       "  <tbody>\n",
       "    <tr>\n",
       "      <th>0</th>\n",
       "      <td>0</td>\n",
       "      <td>2022-05-09</td>\n",
       "      <td>first_touch</td>\n",
       "      <td>1.0</td>\n",
       "      <td>Justin Beiber</td>\n",
       "    </tr>\n",
       "    <tr>\n",
       "      <th>1</th>\n",
       "      <td>1</td>\n",
       "      <td>2022-03-21</td>\n",
       "      <td>first_touch</td>\n",
       "      <td>3.0</td>\n",
       "      <td>Joe Biden</td>\n",
       "    </tr>\n",
       "    <tr>\n",
       "      <th>2</th>\n",
       "      <td>2</td>\n",
       "      <td>2022-04-18</td>\n",
       "      <td>first_touch</td>\n",
       "      <td>2.0</td>\n",
       "      <td>Kylie Jenner</td>\n",
       "    </tr>\n",
       "    <tr>\n",
       "      <th>3</th>\n",
       "      <td>3</td>\n",
       "      <td>2022-02-07</td>\n",
       "      <td>first_touch</td>\n",
       "      <td>2.0</td>\n",
       "      <td>Kylie Jenner</td>\n",
       "    </tr>\n",
       "    <tr>\n",
       "      <th>4</th>\n",
       "      <td>4</td>\n",
       "      <td>2022-04-08</td>\n",
       "      <td>first_touch</td>\n",
       "      <td>1.0</td>\n",
       "      <td>Justin Beiber</td>\n",
       "    </tr>\n",
       "  </tbody>\n",
       "</table>\n",
       "</div>\n",
       "      <button class=\"colab-df-convert\" onclick=\"convertToInteractive('df-325e4caa-a7f0-44da-b4dd-d3e3c82a0819')\"\n",
       "              title=\"Convert this dataframe to an interactive table.\"\n",
       "              style=\"display:none;\">\n",
       "        \n",
       "  <svg xmlns=\"http://www.w3.org/2000/svg\" height=\"24px\"viewBox=\"0 0 24 24\"\n",
       "       width=\"24px\">\n",
       "    <path d=\"M0 0h24v24H0V0z\" fill=\"none\"/>\n",
       "    <path d=\"M18.56 5.44l.94 2.06.94-2.06 2.06-.94-2.06-.94-.94-2.06-.94 2.06-2.06.94zm-11 1L8.5 8.5l.94-2.06 2.06-.94-2.06-.94L8.5 2.5l-.94 2.06-2.06.94zm10 10l.94 2.06.94-2.06 2.06-.94-2.06-.94-.94-2.06-.94 2.06-2.06.94z\"/><path d=\"M17.41 7.96l-1.37-1.37c-.4-.4-.92-.59-1.43-.59-.52 0-1.04.2-1.43.59L10.3 9.45l-7.72 7.72c-.78.78-.78 2.05 0 2.83L4 21.41c.39.39.9.59 1.41.59.51 0 1.02-.2 1.41-.59l7.78-7.78 2.81-2.81c.8-.78.8-2.07 0-2.86zM5.41 20L4 18.59l7.72-7.72 1.47 1.35L5.41 20z\"/>\n",
       "  </svg>\n",
       "      </button>\n",
       "      \n",
       "  <style>\n",
       "    .colab-df-container {\n",
       "      display:flex;\n",
       "      flex-wrap:wrap;\n",
       "      gap: 12px;\n",
       "    }\n",
       "\n",
       "    .colab-df-convert {\n",
       "      background-color: #E8F0FE;\n",
       "      border: none;\n",
       "      border-radius: 50%;\n",
       "      cursor: pointer;\n",
       "      display: none;\n",
       "      fill: #1967D2;\n",
       "      height: 32px;\n",
       "      padding: 0 0 0 0;\n",
       "      width: 32px;\n",
       "    }\n",
       "\n",
       "    .colab-df-convert:hover {\n",
       "      background-color: #E2EBFA;\n",
       "      box-shadow: 0px 1px 2px rgba(60, 64, 67, 0.3), 0px 1px 3px 1px rgba(60, 64, 67, 0.15);\n",
       "      fill: #174EA6;\n",
       "    }\n",
       "\n",
       "    [theme=dark] .colab-df-convert {\n",
       "      background-color: #3B4455;\n",
       "      fill: #D2E3FC;\n",
       "    }\n",
       "\n",
       "    [theme=dark] .colab-df-convert:hover {\n",
       "      background-color: #434B5C;\n",
       "      box-shadow: 0px 1px 3px 1px rgba(0, 0, 0, 0.15);\n",
       "      filter: drop-shadow(0px 1px 2px rgba(0, 0, 0, 0.3));\n",
       "      fill: #FFFFFF;\n",
       "    }\n",
       "  </style>\n",
       "\n",
       "      <script>\n",
       "        const buttonEl =\n",
       "          document.querySelector('#df-325e4caa-a7f0-44da-b4dd-d3e3c82a0819 button.colab-df-convert');\n",
       "        buttonEl.style.display =\n",
       "          google.colab.kernel.accessAllowed ? 'block' : 'none';\n",
       "\n",
       "        async function convertToInteractive(key) {\n",
       "          const element = document.querySelector('#df-325e4caa-a7f0-44da-b4dd-d3e3c82a0819');\n",
       "          const dataTable =\n",
       "            await google.colab.kernel.invokeFunction('convertToInteractive',\n",
       "                                                     [key], {});\n",
       "          if (!dataTable) return;\n",
       "\n",
       "          const docLinkHtml = 'Like what you see? Visit the ' +\n",
       "            '<a target=\"_blank\" href=https://colab.research.google.com/notebooks/data_table.ipynb>data table notebook</a>'\n",
       "            + ' to learn more about interactive tables.';\n",
       "          element.innerHTML = '';\n",
       "          dataTable['output_type'] = 'display_data';\n",
       "          await google.colab.output.renderOutput(dataTable, element);\n",
       "          const docLink = document.createElement('div');\n",
       "          docLink.innerHTML = docLinkHtml;\n",
       "          element.appendChild(docLink);\n",
       "        }\n",
       "      </script>\n",
       "    </div>\n",
       "  </div>\n",
       "  "
      ],
      "text/plain": [
       "   client_account_id        date   event_name  manager_id manager_nickname\n",
       "0                  0  2022-05-09  first_touch         1.0    Justin Beiber\n",
       "1                  1  2022-03-21  first_touch         3.0        Joe Biden\n",
       "2                  2  2022-04-18  first_touch         2.0     Kylie Jenner\n",
       "3                  3  2022-02-07  first_touch         2.0     Kylie Jenner\n",
       "4                  4  2022-04-08  first_touch         1.0    Justin Beiber"
      ]
     },
     "execution_count": 15,
     "metadata": {},
     "output_type": "execute_result"
    }
   ],
   "source": [
    "ft.head()"
   ]
  },
  {
   "cell_type": "code",
   "execution_count": 16,
   "id": "4251a905",
   "metadata": {
    "colab": {
     "base_uri": "https://localhost:8080/"
    },
    "executionInfo": {
     "elapsed": 395,
     "status": "ok",
     "timestamp": 1666245303048,
     "user": {
      "displayName": "Dmitry Egoshin",
      "userId": "14725791403337399112"
     },
     "user_tz": -300
    },
    "id": "4251a905",
    "outputId": "3cd11ab8-defd-4385-ba8c-6882ae085dcc"
   },
   "outputs": [
    {
     "data": {
      "text/plain": [
       "array([1., 3., 2.])"
      ]
     },
     "execution_count": 16,
     "metadata": {},
     "output_type": "execute_result"
    }
   ],
   "source": [
    "ft['manager_id'].unique()"
   ]
  },
  {
   "cell_type": "code",
   "execution_count": 17,
   "id": "96f6cc7f",
   "metadata": {
    "colab": {
     "base_uri": "https://localhost:8080/"
    },
    "executionInfo": {
     "elapsed": 374,
     "status": "ok",
     "timestamp": 1666245303058,
     "user": {
      "displayName": "Dmitry Egoshin",
      "userId": "14725791403337399112"
     },
     "user_tz": -300
    },
    "id": "96f6cc7f",
    "outputId": "e150f849-ea3b-4200-e367-3e3fb51efb73"
   },
   "outputs": [
    {
     "data": {
      "text/plain": [
       "array(['Justin Beiber', 'Joe Biden', 'Kylie Jenner'], dtype=object)"
      ]
     },
     "execution_count": 17,
     "metadata": {},
     "output_type": "execute_result"
    }
   ],
   "source": [
    "ft['manager_nickname'].unique()"
   ]
  },
  {
   "cell_type": "code",
   "execution_count": 18,
   "id": "b4f95c2d",
   "metadata": {
    "executionInfo": {
     "elapsed": 363,
     "status": "ok",
     "timestamp": 1666245303070,
     "user": {
      "displayName": "Dmitry Egoshin",
      "userId": "14725791403337399112"
     },
     "user_tz": -300
    },
    "id": "b4f95c2d"
   },
   "outputs": [],
   "source": [
    "d =  df[df['event_name'] == 'deal']"
   ]
  },
  {
   "cell_type": "code",
   "execution_count": 19,
   "id": "65983f4e",
   "metadata": {
    "colab": {
     "base_uri": "https://localhost:8080/",
     "height": 206
    },
    "executionInfo": {
     "elapsed": 375,
     "status": "ok",
     "timestamp": 1666245303087,
     "user": {
      "displayName": "Dmitry Egoshin",
      "userId": "14725791403337399112"
     },
     "user_tz": -300
    },
    "id": "65983f4e",
    "outputId": "47f30c9c-f5a8-4fe6-c56f-d63511ac552d"
   },
   "outputs": [
    {
     "data": {
      "text/html": [
       "\n",
       "  <div id=\"df-d0c28491-a238-4d40-a46d-87c244508522\">\n",
       "    <div class=\"colab-df-container\">\n",
       "      <div>\n",
       "<style scoped>\n",
       "    .dataframe tbody tr th:only-of-type {\n",
       "        vertical-align: middle;\n",
       "    }\n",
       "\n",
       "    .dataframe tbody tr th {\n",
       "        vertical-align: top;\n",
       "    }\n",
       "\n",
       "    .dataframe thead th {\n",
       "        text-align: right;\n",
       "    }\n",
       "</style>\n",
       "<table border=\"1\" class=\"dataframe\">\n",
       "  <thead>\n",
       "    <tr style=\"text-align: right;\">\n",
       "      <th></th>\n",
       "      <th>client_account_id</th>\n",
       "      <th>date</th>\n",
       "      <th>event_name</th>\n",
       "      <th>manager_id</th>\n",
       "      <th>manager_nickname</th>\n",
       "    </tr>\n",
       "  </thead>\n",
       "  <tbody>\n",
       "    <tr>\n",
       "      <th>41</th>\n",
       "      <td>40</td>\n",
       "      <td>2022-02-24</td>\n",
       "      <td>deal</td>\n",
       "      <td>3.0</td>\n",
       "      <td>Joe Biden</td>\n",
       "    </tr>\n",
       "    <tr>\n",
       "      <th>65</th>\n",
       "      <td>63</td>\n",
       "      <td>2022-03-14</td>\n",
       "      <td>deal</td>\n",
       "      <td>2.0</td>\n",
       "      <td>Kylie Jenner</td>\n",
       "    </tr>\n",
       "    <tr>\n",
       "      <th>89</th>\n",
       "      <td>86</td>\n",
       "      <td>2022-05-24</td>\n",
       "      <td>deal</td>\n",
       "      <td>1.0</td>\n",
       "      <td>Justin Beiber</td>\n",
       "    </tr>\n",
       "    <tr>\n",
       "      <th>91</th>\n",
       "      <td>87</td>\n",
       "      <td>2022-05-23</td>\n",
       "      <td>deal</td>\n",
       "      <td>2.0</td>\n",
       "      <td>Kylie Jenner</td>\n",
       "    </tr>\n",
       "    <tr>\n",
       "      <th>132</th>\n",
       "      <td>127</td>\n",
       "      <td>2021-08-30</td>\n",
       "      <td>deal</td>\n",
       "      <td>3.0</td>\n",
       "      <td>Joe Biden</td>\n",
       "    </tr>\n",
       "  </tbody>\n",
       "</table>\n",
       "</div>\n",
       "      <button class=\"colab-df-convert\" onclick=\"convertToInteractive('df-d0c28491-a238-4d40-a46d-87c244508522')\"\n",
       "              title=\"Convert this dataframe to an interactive table.\"\n",
       "              style=\"display:none;\">\n",
       "        \n",
       "  <svg xmlns=\"http://www.w3.org/2000/svg\" height=\"24px\"viewBox=\"0 0 24 24\"\n",
       "       width=\"24px\">\n",
       "    <path d=\"M0 0h24v24H0V0z\" fill=\"none\"/>\n",
       "    <path d=\"M18.56 5.44l.94 2.06.94-2.06 2.06-.94-2.06-.94-.94-2.06-.94 2.06-2.06.94zm-11 1L8.5 8.5l.94-2.06 2.06-.94-2.06-.94L8.5 2.5l-.94 2.06-2.06.94zm10 10l.94 2.06.94-2.06 2.06-.94-2.06-.94-.94-2.06-.94 2.06-2.06.94z\"/><path d=\"M17.41 7.96l-1.37-1.37c-.4-.4-.92-.59-1.43-.59-.52 0-1.04.2-1.43.59L10.3 9.45l-7.72 7.72c-.78.78-.78 2.05 0 2.83L4 21.41c.39.39.9.59 1.41.59.51 0 1.02-.2 1.41-.59l7.78-7.78 2.81-2.81c.8-.78.8-2.07 0-2.86zM5.41 20L4 18.59l7.72-7.72 1.47 1.35L5.41 20z\"/>\n",
       "  </svg>\n",
       "      </button>\n",
       "      \n",
       "  <style>\n",
       "    .colab-df-container {\n",
       "      display:flex;\n",
       "      flex-wrap:wrap;\n",
       "      gap: 12px;\n",
       "    }\n",
       "\n",
       "    .colab-df-convert {\n",
       "      background-color: #E8F0FE;\n",
       "      border: none;\n",
       "      border-radius: 50%;\n",
       "      cursor: pointer;\n",
       "      display: none;\n",
       "      fill: #1967D2;\n",
       "      height: 32px;\n",
       "      padding: 0 0 0 0;\n",
       "      width: 32px;\n",
       "    }\n",
       "\n",
       "    .colab-df-convert:hover {\n",
       "      background-color: #E2EBFA;\n",
       "      box-shadow: 0px 1px 2px rgba(60, 64, 67, 0.3), 0px 1px 3px 1px rgba(60, 64, 67, 0.15);\n",
       "      fill: #174EA6;\n",
       "    }\n",
       "\n",
       "    [theme=dark] .colab-df-convert {\n",
       "      background-color: #3B4455;\n",
       "      fill: #D2E3FC;\n",
       "    }\n",
       "\n",
       "    [theme=dark] .colab-df-convert:hover {\n",
       "      background-color: #434B5C;\n",
       "      box-shadow: 0px 1px 3px 1px rgba(0, 0, 0, 0.15);\n",
       "      filter: drop-shadow(0px 1px 2px rgba(0, 0, 0, 0.3));\n",
       "      fill: #FFFFFF;\n",
       "    }\n",
       "  </style>\n",
       "\n",
       "      <script>\n",
       "        const buttonEl =\n",
       "          document.querySelector('#df-d0c28491-a238-4d40-a46d-87c244508522 button.colab-df-convert');\n",
       "        buttonEl.style.display =\n",
       "          google.colab.kernel.accessAllowed ? 'block' : 'none';\n",
       "\n",
       "        async function convertToInteractive(key) {\n",
       "          const element = document.querySelector('#df-d0c28491-a238-4d40-a46d-87c244508522');\n",
       "          const dataTable =\n",
       "            await google.colab.kernel.invokeFunction('convertToInteractive',\n",
       "                                                     [key], {});\n",
       "          if (!dataTable) return;\n",
       "\n",
       "          const docLinkHtml = 'Like what you see? Visit the ' +\n",
       "            '<a target=\"_blank\" href=https://colab.research.google.com/notebooks/data_table.ipynb>data table notebook</a>'\n",
       "            + ' to learn more about interactive tables.';\n",
       "          element.innerHTML = '';\n",
       "          dataTable['output_type'] = 'display_data';\n",
       "          await google.colab.output.renderOutput(dataTable, element);\n",
       "          const docLink = document.createElement('div');\n",
       "          docLink.innerHTML = docLinkHtml;\n",
       "          element.appendChild(docLink);\n",
       "        }\n",
       "      </script>\n",
       "    </div>\n",
       "  </div>\n",
       "  "
      ],
      "text/plain": [
       "     client_account_id        date event_name  manager_id manager_nickname\n",
       "41                  40  2022-02-24       deal         3.0        Joe Biden\n",
       "65                  63  2022-03-14       deal         2.0     Kylie Jenner\n",
       "89                  86  2022-05-24       deal         1.0    Justin Beiber\n",
       "91                  87  2022-05-23       deal         2.0     Kylie Jenner\n",
       "132                127  2021-08-30       deal         3.0        Joe Biden"
      ]
     },
     "execution_count": 19,
     "metadata": {},
     "output_type": "execute_result"
    }
   ],
   "source": [
    "d.head()"
   ]
  },
  {
   "cell_type": "code",
   "execution_count": 20,
   "id": "8d2d26aa",
   "metadata": {
    "colab": {
     "base_uri": "https://localhost:8080/"
    },
    "executionInfo": {
     "elapsed": 377,
     "status": "ok",
     "timestamp": 1666245303098,
     "user": {
      "displayName": "Dmitry Egoshin",
      "userId": "14725791403337399112"
     },
     "user_tz": -300
    },
    "id": "8d2d26aa",
    "outputId": "8309ee02-14ff-420b-8387-f44f59f298d2"
   },
   "outputs": [
    {
     "data": {
      "text/plain": [
       "array([3., 2., 1.])"
      ]
     },
     "execution_count": 20,
     "metadata": {},
     "output_type": "execute_result"
    }
   ],
   "source": [
    "d['manager_id'].unique()"
   ]
  },
  {
   "cell_type": "code",
   "execution_count": 21,
   "id": "c153b867",
   "metadata": {
    "colab": {
     "base_uri": "https://localhost:8080/"
    },
    "executionInfo": {
     "elapsed": 360,
     "status": "ok",
     "timestamp": 1666245303104,
     "user": {
      "displayName": "Dmitry Egoshin",
      "userId": "14725791403337399112"
     },
     "user_tz": -300
    },
    "id": "c153b867",
    "outputId": "a53a5330-1c8e-4954-d108-a82251d15d13"
   },
   "outputs": [
    {
     "data": {
      "text/plain": [
       "array(['Joe Biden', 'Kylie Jenner', 'Justin Beiber'], dtype=object)"
      ]
     },
     "execution_count": 21,
     "metadata": {},
     "output_type": "execute_result"
    }
   ],
   "source": [
    "d['manager_nickname'].unique()"
   ]
  },
  {
   "cell_type": "code",
   "execution_count": 22,
   "id": "ae2fbee4",
   "metadata": {
    "executionInfo": {
     "elapsed": 346,
     "status": "ok",
     "timestamp": 1666245303111,
     "user": {
      "displayName": "Dmitry Egoshin",
      "userId": "14725791403337399112"
     },
     "user_tz": -300
    },
    "id": "ae2fbee4"
   },
   "outputs": [],
   "source": [
    "managers = d['manager_nickname'].unique()"
   ]
  },
  {
   "cell_type": "code",
   "execution_count": 23,
   "id": "6ddfcda9",
   "metadata": {
    "executionInfo": {
     "elapsed": 348,
     "status": "ok",
     "timestamp": 1666245303117,
     "user": {
      "displayName": "Dmitry Egoshin",
      "userId": "14725791403337399112"
     },
     "user_tz": -300
    },
    "id": "6ddfcda9"
   },
   "outputs": [],
   "source": [
    "x = {}\n",
    "for manager in managers:\n",
    "    x[manager] = [ft[ft['manager_nickname'] == manager]['event_name'].count()]\n",
    "    x[manager].append(d[d['manager_nickname'] == manager]['event_name'].count())"
   ]
  },
  {
   "cell_type": "code",
   "execution_count": 24,
   "id": "d12277fb",
   "metadata": {
    "colab": {
     "base_uri": "https://localhost:8080/"
    },
    "executionInfo": {
     "elapsed": 352,
     "status": "ok",
     "timestamp": 1666245303124,
     "user": {
      "displayName": "Dmitry Egoshin",
      "userId": "14725791403337399112"
     },
     "user_tz": -300
    },
    "id": "d12277fb",
    "outputId": "fcbd930c-ba10-4f20-caa8-1e8ee1179a2f"
   },
   "outputs": [
    {
     "data": {
      "text/plain": [
       "{'Joe Biden': [1158, 91],\n",
       " 'Kylie Jenner': [939, 68],\n",
       " 'Justin Beiber': [890, 37]}"
      ]
     },
     "execution_count": 24,
     "metadata": {},
     "output_type": "execute_result"
    }
   ],
   "source": [
    "x"
   ]
  },
  {
   "cell_type": "code",
   "execution_count": 25,
   "id": "3c9ecad9",
   "metadata": {
    "colab": {
     "base_uri": "https://localhost:8080/"
    },
    "executionInfo": {
     "elapsed": 340,
     "status": "ok",
     "timestamp": 1666245303132,
     "user": {
      "displayName": "Dmitry Egoshin",
      "userId": "14725791403337399112"
     },
     "user_tz": -300
    },
    "id": "3c9ecad9",
    "outputId": "f98bce8b-a35c-4b04-a033-0eeacf39c553",
    "scrolled": true
   },
   "outputs": [
    {
     "name": "stdout",
     "output_type": "stream",
     "text": [
      "Joe Biden: 7.86\n",
      "Kylie Jenner: 7.24\n",
      "Justin Beiber: 4.16\n"
     ]
    }
   ],
   "source": [
    "for key, value in x.items():\n",
    "    print(f'{key}: {round(value[1]/value[0] * 100, 2)}')"
   ]
  },
  {
   "cell_type": "markdown",
   "id": "1380e745",
   "metadata": {
    "id": "1380e745"
   },
   "source": [
    "**Фидбек от компании**: в рассчете конверсии сотрудников была ошибка - не учтен был момент, что $3$ менеджера начали работать в разное время - из-за этого конверсия сильно отличается. И соответственно сравнивать нужно было эффективность только за тот период, в который попадали все.\n",
    "\n",
    "Посчитаем все заново."
   ]
  },
  {
   "cell_type": "code",
   "execution_count": 26,
   "id": "64f6b766",
   "metadata": {
    "executionInfo": {
     "elapsed": 326,
     "status": "ok",
     "timestamp": 1666245303137,
     "user": {
      "displayName": "Dmitry Egoshin",
      "userId": "14725791403337399112"
     },
     "user_tz": -300
    },
    "id": "64f6b766"
   },
   "outputs": [],
   "source": [
    "j = df[df['manager_nickname'] == 'Justin Beiber']"
   ]
  },
  {
   "cell_type": "code",
   "execution_count": 27,
   "id": "5f764b59",
   "metadata": {
    "executionInfo": {
     "elapsed": 328,
     "status": "ok",
     "timestamp": 1666245303142,
     "user": {
      "displayName": "Dmitry Egoshin",
      "userId": "14725791403337399112"
     },
     "user_tz": -300
    },
    "id": "5f764b59"
   },
   "outputs": [],
   "source": [
    "k = df[df['manager_nickname'] == 'Kylie Jenner']"
   ]
  },
  {
   "cell_type": "code",
   "execution_count": 28,
   "id": "f92e03f3",
   "metadata": {
    "executionInfo": {
     "elapsed": 331,
     "status": "ok",
     "timestamp": 1666245303148,
     "user": {
      "displayName": "Dmitry Egoshin",
      "userId": "14725791403337399112"
     },
     "user_tz": -300
    },
    "id": "f92e03f3"
   },
   "outputs": [],
   "source": [
    "b = df[df['manager_nickname'] == 'Joe Biden']"
   ]
  },
  {
   "cell_type": "code",
   "execution_count": 29,
   "id": "8a57bd1e",
   "metadata": {
    "colab": {
     "base_uri": "https://localhost:8080/"
    },
    "executionInfo": {
     "elapsed": 336,
     "status": "ok",
     "timestamp": 1666245303156,
     "user": {
      "displayName": "Dmitry Egoshin",
      "userId": "14725791403337399112"
     },
     "user_tz": -300
    },
    "id": "8a57bd1e",
    "outputId": "9ebc371b-cf43-44cf-b716-cb96b1310c97"
   },
   "outputs": [
    {
     "name": "stdout",
     "output_type": "stream",
     "text": [
      "Justin Beiber: ('2022-01-10', '2022-06-03')\n",
      "Kylie Jenner: ('2021-09-12', '2022-06-03')\n",
      "Joe Biden: ('2021-05-16', '2022-06-03')\n"
     ]
    }
   ],
   "source": [
    "print(f\"Justin Beiber: {j['date'].min(), j['date'].max()}\\n\\\n",
    "Kylie Jenner: {k['date'].min(), k['date'].max()}\\n\\\n",
    "Joe Biden: {b['date'].min(), b['date'].max()}\")"
   ]
  },
  {
   "cell_type": "code",
   "execution_count": 30,
   "id": "20d9680f",
   "metadata": {
    "executionInfo": {
     "elapsed": 323,
     "status": "ok",
     "timestamp": 1666245303162,
     "user": {
      "displayName": "Dmitry Egoshin",
      "userId": "14725791403337399112"
     },
     "user_tz": -300
    },
    "id": "20d9680f"
   },
   "outputs": [],
   "source": [
    "t = df.groupby(['date', \n",
    "                'manager_nickname', \n",
    "                'event_name'])['event_name'].count().to_frame().rename(\n",
    "    columns={'event_name': 'event_count'}).reset_index()"
   ]
  },
  {
   "cell_type": "code",
   "execution_count": 31,
   "id": "bd9ecafb",
   "metadata": {
    "executionInfo": {
     "elapsed": 322,
     "status": "ok",
     "timestamp": 1666245303169,
     "user": {
      "displayName": "Dmitry Egoshin",
      "userId": "14725791403337399112"
     },
     "user_tz": -300
    },
    "id": "bd9ecafb"
   },
   "outputs": [],
   "source": [
    "t['date'] = pd.to_datetime(t['date'], format='%Y-%m-%d')"
   ]
  },
  {
   "cell_type": "code",
   "execution_count": 32,
   "id": "7c85a85d",
   "metadata": {
    "colab": {
     "base_uri": "https://localhost:8080/",
     "height": 424
    },
    "executionInfo": {
     "elapsed": 322,
     "status": "ok",
     "timestamp": 1666245303173,
     "user": {
      "displayName": "Dmitry Egoshin",
      "userId": "14725791403337399112"
     },
     "user_tz": -300
    },
    "id": "7c85a85d",
    "outputId": "b12ad165-49e7-412b-fcb3-8606b381ea04"
   },
   "outputs": [
    {
     "data": {
      "text/html": [
       "\n",
       "  <div id=\"df-c3cac220-510b-4b8c-bb25-3c9a08d79d75\">\n",
       "    <div class=\"colab-df-container\">\n",
       "      <div>\n",
       "<style scoped>\n",
       "    .dataframe tbody tr th:only-of-type {\n",
       "        vertical-align: middle;\n",
       "    }\n",
       "\n",
       "    .dataframe tbody tr th {\n",
       "        vertical-align: top;\n",
       "    }\n",
       "\n",
       "    .dataframe thead th {\n",
       "        text-align: right;\n",
       "    }\n",
       "</style>\n",
       "<table border=\"1\" class=\"dataframe\">\n",
       "  <thead>\n",
       "    <tr style=\"text-align: right;\">\n",
       "      <th></th>\n",
       "      <th>date</th>\n",
       "      <th>manager_nickname</th>\n",
       "      <th>event_name</th>\n",
       "      <th>event_count</th>\n",
       "    </tr>\n",
       "  </thead>\n",
       "  <tbody>\n",
       "    <tr>\n",
       "      <th>0</th>\n",
       "      <td>2021-05-16</td>\n",
       "      <td>Joe Biden</td>\n",
       "      <td>first_touch</td>\n",
       "      <td>4</td>\n",
       "    </tr>\n",
       "    <tr>\n",
       "      <th>1</th>\n",
       "      <td>2021-05-17</td>\n",
       "      <td>Joe Biden</td>\n",
       "      <td>first_touch</td>\n",
       "      <td>1</td>\n",
       "    </tr>\n",
       "    <tr>\n",
       "      <th>2</th>\n",
       "      <td>2021-05-18</td>\n",
       "      <td>Joe Biden</td>\n",
       "      <td>first_touch</td>\n",
       "      <td>1</td>\n",
       "    </tr>\n",
       "    <tr>\n",
       "      <th>3</th>\n",
       "      <td>2021-05-19</td>\n",
       "      <td>Joe Biden</td>\n",
       "      <td>first_touch</td>\n",
       "      <td>1</td>\n",
       "    </tr>\n",
       "    <tr>\n",
       "      <th>4</th>\n",
       "      <td>2021-05-20</td>\n",
       "      <td>Joe Biden</td>\n",
       "      <td>first_touch</td>\n",
       "      <td>2</td>\n",
       "    </tr>\n",
       "    <tr>\n",
       "      <th>...</th>\n",
       "      <td>...</td>\n",
       "      <td>...</td>\n",
       "      <td>...</td>\n",
       "      <td>...</td>\n",
       "    </tr>\n",
       "    <tr>\n",
       "      <th>928</th>\n",
       "      <td>2022-06-02</td>\n",
       "      <td>Justin Beiber</td>\n",
       "      <td>first_touch</td>\n",
       "      <td>6</td>\n",
       "    </tr>\n",
       "    <tr>\n",
       "      <th>929</th>\n",
       "      <td>2022-06-02</td>\n",
       "      <td>Kylie Jenner</td>\n",
       "      <td>first_touch</td>\n",
       "      <td>3</td>\n",
       "    </tr>\n",
       "    <tr>\n",
       "      <th>930</th>\n",
       "      <td>2022-06-03</td>\n",
       "      <td>Joe Biden</td>\n",
       "      <td>first_touch</td>\n",
       "      <td>3</td>\n",
       "    </tr>\n",
       "    <tr>\n",
       "      <th>931</th>\n",
       "      <td>2022-06-03</td>\n",
       "      <td>Justin Beiber</td>\n",
       "      <td>first_touch</td>\n",
       "      <td>2</td>\n",
       "    </tr>\n",
       "    <tr>\n",
       "      <th>932</th>\n",
       "      <td>2022-06-03</td>\n",
       "      <td>Kylie Jenner</td>\n",
       "      <td>first_touch</td>\n",
       "      <td>4</td>\n",
       "    </tr>\n",
       "  </tbody>\n",
       "</table>\n",
       "<p>933 rows × 4 columns</p>\n",
       "</div>\n",
       "      <button class=\"colab-df-convert\" onclick=\"convertToInteractive('df-c3cac220-510b-4b8c-bb25-3c9a08d79d75')\"\n",
       "              title=\"Convert this dataframe to an interactive table.\"\n",
       "              style=\"display:none;\">\n",
       "        \n",
       "  <svg xmlns=\"http://www.w3.org/2000/svg\" height=\"24px\"viewBox=\"0 0 24 24\"\n",
       "       width=\"24px\">\n",
       "    <path d=\"M0 0h24v24H0V0z\" fill=\"none\"/>\n",
       "    <path d=\"M18.56 5.44l.94 2.06.94-2.06 2.06-.94-2.06-.94-.94-2.06-.94 2.06-2.06.94zm-11 1L8.5 8.5l.94-2.06 2.06-.94-2.06-.94L8.5 2.5l-.94 2.06-2.06.94zm10 10l.94 2.06.94-2.06 2.06-.94-2.06-.94-.94-2.06-.94 2.06-2.06.94z\"/><path d=\"M17.41 7.96l-1.37-1.37c-.4-.4-.92-.59-1.43-.59-.52 0-1.04.2-1.43.59L10.3 9.45l-7.72 7.72c-.78.78-.78 2.05 0 2.83L4 21.41c.39.39.9.59 1.41.59.51 0 1.02-.2 1.41-.59l7.78-7.78 2.81-2.81c.8-.78.8-2.07 0-2.86zM5.41 20L4 18.59l7.72-7.72 1.47 1.35L5.41 20z\"/>\n",
       "  </svg>\n",
       "      </button>\n",
       "      \n",
       "  <style>\n",
       "    .colab-df-container {\n",
       "      display:flex;\n",
       "      flex-wrap:wrap;\n",
       "      gap: 12px;\n",
       "    }\n",
       "\n",
       "    .colab-df-convert {\n",
       "      background-color: #E8F0FE;\n",
       "      border: none;\n",
       "      border-radius: 50%;\n",
       "      cursor: pointer;\n",
       "      display: none;\n",
       "      fill: #1967D2;\n",
       "      height: 32px;\n",
       "      padding: 0 0 0 0;\n",
       "      width: 32px;\n",
       "    }\n",
       "\n",
       "    .colab-df-convert:hover {\n",
       "      background-color: #E2EBFA;\n",
       "      box-shadow: 0px 1px 2px rgba(60, 64, 67, 0.3), 0px 1px 3px 1px rgba(60, 64, 67, 0.15);\n",
       "      fill: #174EA6;\n",
       "    }\n",
       "\n",
       "    [theme=dark] .colab-df-convert {\n",
       "      background-color: #3B4455;\n",
       "      fill: #D2E3FC;\n",
       "    }\n",
       "\n",
       "    [theme=dark] .colab-df-convert:hover {\n",
       "      background-color: #434B5C;\n",
       "      box-shadow: 0px 1px 3px 1px rgba(0, 0, 0, 0.15);\n",
       "      filter: drop-shadow(0px 1px 2px rgba(0, 0, 0, 0.3));\n",
       "      fill: #FFFFFF;\n",
       "    }\n",
       "  </style>\n",
       "\n",
       "      <script>\n",
       "        const buttonEl =\n",
       "          document.querySelector('#df-c3cac220-510b-4b8c-bb25-3c9a08d79d75 button.colab-df-convert');\n",
       "        buttonEl.style.display =\n",
       "          google.colab.kernel.accessAllowed ? 'block' : 'none';\n",
       "\n",
       "        async function convertToInteractive(key) {\n",
       "          const element = document.querySelector('#df-c3cac220-510b-4b8c-bb25-3c9a08d79d75');\n",
       "          const dataTable =\n",
       "            await google.colab.kernel.invokeFunction('convertToInteractive',\n",
       "                                                     [key], {});\n",
       "          if (!dataTable) return;\n",
       "\n",
       "          const docLinkHtml = 'Like what you see? Visit the ' +\n",
       "            '<a target=\"_blank\" href=https://colab.research.google.com/notebooks/data_table.ipynb>data table notebook</a>'\n",
       "            + ' to learn more about interactive tables.';\n",
       "          element.innerHTML = '';\n",
       "          dataTable['output_type'] = 'display_data';\n",
       "          await google.colab.output.renderOutput(dataTable, element);\n",
       "          const docLink = document.createElement('div');\n",
       "          docLink.innerHTML = docLinkHtml;\n",
       "          element.appendChild(docLink);\n",
       "        }\n",
       "      </script>\n",
       "    </div>\n",
       "  </div>\n",
       "  "
      ],
      "text/plain": [
       "          date manager_nickname   event_name  event_count\n",
       "0   2021-05-16        Joe Biden  first_touch            4\n",
       "1   2021-05-17        Joe Biden  first_touch            1\n",
       "2   2021-05-18        Joe Biden  first_touch            1\n",
       "3   2021-05-19        Joe Biden  first_touch            1\n",
       "4   2021-05-20        Joe Biden  first_touch            2\n",
       "..         ...              ...          ...          ...\n",
       "928 2022-06-02    Justin Beiber  first_touch            6\n",
       "929 2022-06-02     Kylie Jenner  first_touch            3\n",
       "930 2022-06-03        Joe Biden  first_touch            3\n",
       "931 2022-06-03    Justin Beiber  first_touch            2\n",
       "932 2022-06-03     Kylie Jenner  first_touch            4\n",
       "\n",
       "[933 rows x 4 columns]"
      ]
     },
     "execution_count": 32,
     "metadata": {},
     "output_type": "execute_result"
    }
   ],
   "source": [
    "t"
   ]
  },
  {
   "cell_type": "code",
   "execution_count": 33,
   "id": "7b27c3de",
   "metadata": {
    "colab": {
     "base_uri": "https://localhost:8080/",
     "height": 448
    },
    "executionInfo": {
     "elapsed": 2702,
     "status": "ok",
     "timestamp": 1666245305566,
     "user": {
      "displayName": "Dmitry Egoshin",
      "userId": "14725791403337399112"
     },
     "user_tz": -300
    },
    "id": "7b27c3de",
    "outputId": "9fbce396-f039-41c6-b96f-a0976010ce70"
   },
   "outputs": [
    {
     "data": {
      "image/png": "[encoded data removed]",
      "text/plain": [
       "<Figure size 720x504 with 1 Axes>"
      ]
     },
     "metadata": {},
     "output_type": "display_data"
    }
   ],
   "source": [
    "sns.set(rc={'figure.figsize':(10,7)})\n",
    "\n",
    "sns.kdeplot(data=t, \n",
    "            x='date', \n",
    "            hue='manager_nickname', \n",
    "            multiple='stack');"
   ]
  },
  {
   "cell_type": "code",
   "execution_count": 90,
   "id": "pBsEtUCK-CmQ",
   "metadata": {
    "colab": {
     "base_uri": "https://localhost:8080/",
     "height": 502
    },
    "executionInfo": {
     "elapsed": 1937,
     "status": "ok",
     "timestamp": 1666246961418,
     "user": {
      "displayName": "Dmitry Egoshin",
      "userId": "14725791403337399112"
     },
     "user_tz": -300
    },
    "id": "pBsEtUCK-CmQ",
    "outputId": "f245265f-a28c-45f7-a5be-02702545bc0d"
   },
   "outputs": [
    {
     "data": {
      "image/png": "[encoded data removed]",
      "text/plain": [
       "<Figure size 1152x576 with 2 Axes>"
      ]
     },
     "metadata": {},
     "output_type": "display_data"
    }
   ],
   "source": [
    "fig, (ax0, ax1) = plt.subplots(nrows=1, # Количество строк в фигуре\n",
    "                               ncols=2, # Количество колонок в фигуре\n",
    "                               sharey=False, # Единые метки оси 'y' для обоих графиков\n",
    "                               figsize=(16, 8) # Размер фигуры\n",
    "                              );\n",
    "sns.kdeplot(data=t, \n",
    "            x='date', \n",
    "            hue='manager_nickname', \n",
    "            multiple='stack',\n",
    "            ax=ax0),\n",
    "\n",
    "sns.histplot(data=t, \n",
    "            x='date', \n",
    "            hue='manager_nickname', \n",
    "            multiple='stack', \n",
    "            ax=ax1);"
   ]
  },
  {
   "cell_type": "markdown",
   "id": "72883991",
   "metadata": {
    "id": "72883991"
   },
   "source": [
    "Для вычисления конверсии возьмем общий для всех менеджером период. Будем считать его по датам `Justin Beiber`."
   ]
  },
  {
   "cell_type": "code",
   "execution_count": 34,
   "id": "73144f0b",
   "metadata": {
    "executionInfo": {
     "elapsed": 305,
     "status": "ok",
     "timestamp": 1666245305579,
     "user": {
      "displayName": "Dmitry Egoshin",
      "userId": "14725791403337399112"
     },
     "user_tz": -300
    },
    "id": "73144f0b"
   },
   "outputs": [],
   "source": [
    "f = t[(t['date']>=j['date'].min()) & (t['date']<=j['date'].max())]"
   ]
  },
  {
   "cell_type": "code",
   "execution_count": 35,
   "id": "2f1e1aba",
   "metadata": {
    "executionInfo": {
     "elapsed": 317,
     "status": "ok",
     "timestamp": 1666245305598,
     "user": {
      "displayName": "Dmitry Egoshin",
      "userId": "14725791403337399112"
     },
     "user_tz": -300
    },
    "id": "2f1e1aba"
   },
   "outputs": [],
   "source": [
    "f = f.groupby(['manager_nickname', 'event_name'])['event_name'].count().to_frame().rename(\n",
    "    columns={'event_name': 'event_count'}).reset_index()"
   ]
  },
  {
   "cell_type": "code",
   "execution_count": 36,
   "id": "de672468",
   "metadata": {
    "colab": {
     "base_uri": "https://localhost:8080/",
     "height": 238
    },
    "executionInfo": {
     "elapsed": 322,
     "status": "ok",
     "timestamp": 1666245305606,
     "user": {
      "displayName": "Dmitry Egoshin",
      "userId": "14725791403337399112"
     },
     "user_tz": -300
    },
    "id": "de672468",
    "outputId": "69322ad1-f480-490c-8175-41ed89e3fd3d"
   },
   "outputs": [
    {
     "data": {
      "text/html": [
       "\n",
       "  <div id=\"df-53510e8d-f927-49e5-b596-503772c947ad\">\n",
       "    <div class=\"colab-df-container\">\n",
       "      <div>\n",
       "<style scoped>\n",
       "    .dataframe tbody tr th:only-of-type {\n",
       "        vertical-align: middle;\n",
       "    }\n",
       "\n",
       "    .dataframe tbody tr th {\n",
       "        vertical-align: top;\n",
       "    }\n",
       "\n",
       "    .dataframe thead th {\n",
       "        text-align: right;\n",
       "    }\n",
       "</style>\n",
       "<table border=\"1\" class=\"dataframe\">\n",
       "  <thead>\n",
       "    <tr style=\"text-align: right;\">\n",
       "      <th></th>\n",
       "      <th>manager_nickname</th>\n",
       "      <th>event_name</th>\n",
       "      <th>event_count</th>\n",
       "    </tr>\n",
       "  </thead>\n",
       "  <tbody>\n",
       "    <tr>\n",
       "      <th>0</th>\n",
       "      <td>Joe Biden</td>\n",
       "      <td>deal</td>\n",
       "      <td>35</td>\n",
       "    </tr>\n",
       "    <tr>\n",
       "      <th>1</th>\n",
       "      <td>Joe Biden</td>\n",
       "      <td>first_touch</td>\n",
       "      <td>141</td>\n",
       "    </tr>\n",
       "    <tr>\n",
       "      <th>2</th>\n",
       "      <td>Justin Beiber</td>\n",
       "      <td>deal</td>\n",
       "      <td>28</td>\n",
       "    </tr>\n",
       "    <tr>\n",
       "      <th>3</th>\n",
       "      <td>Justin Beiber</td>\n",
       "      <td>first_touch</td>\n",
       "      <td>144</td>\n",
       "    </tr>\n",
       "    <tr>\n",
       "      <th>4</th>\n",
       "      <td>Kylie Jenner</td>\n",
       "      <td>deal</td>\n",
       "      <td>49</td>\n",
       "    </tr>\n",
       "    <tr>\n",
       "      <th>5</th>\n",
       "      <td>Kylie Jenner</td>\n",
       "      <td>first_touch</td>\n",
       "      <td>141</td>\n",
       "    </tr>\n",
       "  </tbody>\n",
       "</table>\n",
       "</div>\n",
       "      <button class=\"colab-df-convert\" onclick=\"convertToInteractive('df-53510e8d-f927-49e5-b596-503772c947ad')\"\n",
       "              title=\"Convert this dataframe to an interactive table.\"\n",
       "              style=\"display:none;\">\n",
       "        \n",
       "  <svg xmlns=\"http://www.w3.org/2000/svg\" height=\"24px\"viewBox=\"0 0 24 24\"\n",
       "       width=\"24px\">\n",
       "    <path d=\"M0 0h24v24H0V0z\" fill=\"none\"/>\n",
       "    <path d=\"M18.56 5.44l.94 2.06.94-2.06 2.06-.94-2.06-.94-.94-2.06-.94 2.06-2.06.94zm-11 1L8.5 8.5l.94-2.06 2.06-.94-2.06-.94L8.5 2.5l-.94 2.06-2.06.94zm10 10l.94 2.06.94-2.06 2.06-.94-2.06-.94-.94-2.06-.94 2.06-2.06.94z\"/><path d=\"M17.41 7.96l-1.37-1.37c-.4-.4-.92-.59-1.43-.59-.52 0-1.04.2-1.43.59L10.3 9.45l-7.72 7.72c-.78.78-.78 2.05 0 2.83L4 21.41c.39.39.9.59 1.41.59.51 0 1.02-.2 1.41-.59l7.78-7.78 2.81-2.81c.8-.78.8-2.07 0-2.86zM5.41 20L4 18.59l7.72-7.72 1.47 1.35L5.41 20z\"/>\n",
       "  </svg>\n",
       "      </button>\n",
       "      \n",
       "  <style>\n",
       "    .colab-df-container {\n",
       "      display:flex;\n",
       "      flex-wrap:wrap;\n",
       "      gap: 12px;\n",
       "    }\n",
       "\n",
       "    .colab-df-convert {\n",
       "      background-color: #E8F0FE;\n",
       "      border: none;\n",
       "      border-radius: 50%;\n",
       "      cursor: pointer;\n",
       "      display: none;\n",
       "      fill: #1967D2;\n",
       "      height: 32px;\n",
       "      padding: 0 0 0 0;\n",
       "      width: 32px;\n",
       "    }\n",
       "\n",
       "    .colab-df-convert:hover {\n",
       "      background-color: #E2EBFA;\n",
       "      box-shadow: 0px 1px 2px rgba(60, 64, 67, 0.3), 0px 1px 3px 1px rgba(60, 64, 67, 0.15);\n",
       "      fill: #174EA6;\n",
       "    }\n",
       "\n",
       "    [theme=dark] .colab-df-convert {\n",
       "      background-color: #3B4455;\n",
       "      fill: #D2E3FC;\n",
       "    }\n",
       "\n",
       "    [theme=dark] .colab-df-convert:hover {\n",
       "      background-color: #434B5C;\n",
       "      box-shadow: 0px 1px 3px 1px rgba(0, 0, 0, 0.15);\n",
       "      filter: drop-shadow(0px 1px 2px rgba(0, 0, 0, 0.3));\n",
       "      fill: #FFFFFF;\n",
       "    }\n",
       "  </style>\n",
       "\n",
       "      <script>\n",
       "        const buttonEl =\n",
       "          document.querySelector('#df-53510e8d-f927-49e5-b596-503772c947ad button.colab-df-convert');\n",
       "        buttonEl.style.display =\n",
       "          google.colab.kernel.accessAllowed ? 'block' : 'none';\n",
       "\n",
       "        async function convertToInteractive(key) {\n",
       "          const element = document.querySelector('#df-53510e8d-f927-49e5-b596-503772c947ad');\n",
       "          const dataTable =\n",
       "            await google.colab.kernel.invokeFunction('convertToInteractive',\n",
       "                                                     [key], {});\n",
       "          if (!dataTable) return;\n",
       "\n",
       "          const docLinkHtml = 'Like what you see? Visit the ' +\n",
       "            '<a target=\"_blank\" href=https://colab.research.google.com/notebooks/data_table.ipynb>data table notebook</a>'\n",
       "            + ' to learn more about interactive tables.';\n",
       "          element.innerHTML = '';\n",
       "          dataTable['output_type'] = 'display_data';\n",
       "          await google.colab.output.renderOutput(dataTable, element);\n",
       "          const docLink = document.createElement('div');\n",
       "          docLink.innerHTML = docLinkHtml;\n",
       "          element.appendChild(docLink);\n",
       "        }\n",
       "      </script>\n",
       "    </div>\n",
       "  </div>\n",
       "  "
      ],
      "text/plain": [
       "  manager_nickname   event_name  event_count\n",
       "0        Joe Biden         deal           35\n",
       "1        Joe Biden  first_touch          141\n",
       "2    Justin Beiber         deal           28\n",
       "3    Justin Beiber  first_touch          144\n",
       "4     Kylie Jenner         deal           49\n",
       "5     Kylie Jenner  first_touch          141"
      ]
     },
     "execution_count": 36,
     "metadata": {},
     "output_type": "execute_result"
    }
   ],
   "source": [
    "f"
   ]
  },
  {
   "cell_type": "code",
   "execution_count": 37,
   "id": "d599dea3",
   "metadata": {
    "colab": {
     "base_uri": "https://localhost:8080/"
    },
    "executionInfo": {
     "elapsed": 322,
     "status": "ok",
     "timestamp": 1666245305616,
     "user": {
      "displayName": "Dmitry Egoshin",
      "userId": "14725791403337399112"
     },
     "user_tz": -300
    },
    "id": "d599dea3",
    "outputId": "ac1f2dbc-018a-48af-d251-86f8f137f919"
   },
   "outputs": [
    {
     "name": "stdout",
     "output_type": "stream",
     "text": [
      "Managers' CR:\n",
      "Justin Beiber: 19.44%\n",
      "Kylie Jenner: 34.75%\n",
      "Joe Biden: 24.82%\n"
     ]
    }
   ],
   "source": [
    "print(f\"Managers' CR:\\n\\\n",
    "Justin Beiber: {round(f['event_count'][2]/f['event_count'][3] * 100, 2)}%\\n\\\n",
    "Kylie Jenner: {round(f['event_count'][4]/f['event_count'][5] * 100, 2)}%\\n\\\n",
    "Joe Biden: {round(f['event_count'][0]/f['event_count'][1] * 100, 2)}%\")"
   ]
  },
  {
   "cell_type": "markdown",
   "id": "b3c7824d",
   "metadata": {
    "id": "b3c7824d"
   },
   "source": [
    "#### Marketing Attribution, ( identity graph )"
   ]
  },
  {
   "cell_type": "markdown",
   "id": "abde0d4f",
   "metadata": {
    "id": "abde0d4f"
   },
   "source": [
    "How many identities we have in example 1 and example 2."
   ]
  },
  {
   "cell_type": "code",
   "execution_count": 38,
   "id": "5d6d6038",
   "metadata": {
    "executionInfo": {
     "elapsed": 278,
     "status": "ok",
     "timestamp": 1666245305622,
     "user": {
      "displayName": "Dmitry Egoshin",
      "userId": "14725791403337399112"
     },
     "user_tz": -300
    },
    "id": "5d6d6038"
   },
   "outputs": [],
   "source": [
    "table = '''1111|2222|3333\n",
    "null|2222|3334\n",
    "1111|null|3335\n",
    "1112|2223|null\n",
    "null|null|3334'''"
   ]
  },
  {
   "cell_type": "code",
   "execution_count": 39,
   "id": "d29c1ef2",
   "metadata": {
    "executionInfo": {
     "elapsed": 282,
     "status": "ok",
     "timestamp": 1666245305630,
     "user": {
      "displayName": "Dmitry Egoshin",
      "userId": "14725791403337399112"
     },
     "user_tz": -300
    },
    "id": "d29c1ef2"
   },
   "outputs": [],
   "source": [
    "table_1 = pd.DataFrame([row.replace(' ', '').split('|') for row in table.split('\\n')])"
   ]
  },
  {
   "cell_type": "code",
   "execution_count": 40,
   "id": "ed360805",
   "metadata": {
    "executionInfo": {
     "elapsed": 284,
     "status": "ok",
     "timestamp": 1666245305635,
     "user": {
      "displayName": "Dmitry Egoshin",
      "userId": "14725791403337399112"
     },
     "user_tz": -300
    },
    "id": "ed360805"
   },
   "outputs": [],
   "source": [
    "table_1.columns = ['id_1', 'id_2', 'id_3']"
   ]
  },
  {
   "cell_type": "code",
   "execution_count": 41,
   "id": "30347582",
   "metadata": {
    "colab": {
     "base_uri": "https://localhost:8080/",
     "height": 0
    },
    "executionInfo": {
     "elapsed": 286,
     "status": "ok",
     "timestamp": 1666245305640,
     "user": {
      "displayName": "Dmitry Egoshin",
      "userId": "14725791403337399112"
     },
     "user_tz": -300
    },
    "id": "30347582",
    "outputId": "5acbefdd-6311-4790-aa21-8ba994a72cce"
   },
   "outputs": [
    {
     "data": {
      "text/html": [
       "\n",
       "  <div id=\"df-b7a214b2-2b2e-490a-9a54-bf7ec64587da\">\n",
       "    <div class=\"colab-df-container\">\n",
       "      <div>\n",
       "<style scoped>\n",
       "    .dataframe tbody tr th:only-of-type {\n",
       "        vertical-align: middle;\n",
       "    }\n",
       "\n",
       "    .dataframe tbody tr th {\n",
       "        vertical-align: top;\n",
       "    }\n",
       "\n",
       "    .dataframe thead th {\n",
       "        text-align: right;\n",
       "    }\n",
       "</style>\n",
       "<table border=\"1\" class=\"dataframe\">\n",
       "  <thead>\n",
       "    <tr style=\"text-align: right;\">\n",
       "      <th></th>\n",
       "      <th>0</th>\n",
       "      <th>1</th>\n",
       "      <th>2</th>\n",
       "      <th>3</th>\n",
       "      <th>4</th>\n",
       "    </tr>\n",
       "  </thead>\n",
       "  <tbody>\n",
       "    <tr>\n",
       "      <th>id_1</th>\n",
       "      <td>1111</td>\n",
       "      <td>null</td>\n",
       "      <td>1111</td>\n",
       "      <td>1112</td>\n",
       "      <td>null</td>\n",
       "    </tr>\n",
       "    <tr>\n",
       "      <th>id_2</th>\n",
       "      <td>2222</td>\n",
       "      <td>2222</td>\n",
       "      <td>null</td>\n",
       "      <td>2223</td>\n",
       "      <td>null</td>\n",
       "    </tr>\n",
       "    <tr>\n",
       "      <th>id_3</th>\n",
       "      <td>3333</td>\n",
       "      <td>3334</td>\n",
       "      <td>3335</td>\n",
       "      <td>null</td>\n",
       "      <td>3334</td>\n",
       "    </tr>\n",
       "  </tbody>\n",
       "</table>\n",
       "</div>\n",
       "      <button class=\"colab-df-convert\" onclick=\"convertToInteractive('df-b7a214b2-2b2e-490a-9a54-bf7ec64587da')\"\n",
       "              title=\"Convert this dataframe to an interactive table.\"\n",
       "              style=\"display:none;\">\n",
       "        \n",
       "  <svg xmlns=\"http://www.w3.org/2000/svg\" height=\"24px\"viewBox=\"0 0 24 24\"\n",
       "       width=\"24px\">\n",
       "    <path d=\"M0 0h24v24H0V0z\" fill=\"none\"/>\n",
       "    <path d=\"M18.56 5.44l.94 2.06.94-2.06 2.06-.94-2.06-.94-.94-2.06-.94 2.06-2.06.94zm-11 1L8.5 8.5l.94-2.06 2.06-.94-2.06-.94L8.5 2.5l-.94 2.06-2.06.94zm10 10l.94 2.06.94-2.06 2.06-.94-2.06-.94-.94-2.06-.94 2.06-2.06.94z\"/><path d=\"M17.41 7.96l-1.37-1.37c-.4-.4-.92-.59-1.43-.59-.52 0-1.04.2-1.43.59L10.3 9.45l-7.72 7.72c-.78.78-.78 2.05 0 2.83L4 21.41c.39.39.9.59 1.41.59.51 0 1.02-.2 1.41-.59l7.78-7.78 2.81-2.81c.8-.78.8-2.07 0-2.86zM5.41 20L4 18.59l7.72-7.72 1.47 1.35L5.41 20z\"/>\n",
       "  </svg>\n",
       "      </button>\n",
       "      \n",
       "  <style>\n",
       "    .colab-df-container {\n",
       "      display:flex;\n",
       "      flex-wrap:wrap;\n",
       "      gap: 12px;\n",
       "    }\n",
       "\n",
       "    .colab-df-convert {\n",
       "      background-color: #E8F0FE;\n",
       "      border: none;\n",
       "      border-radius: 50%;\n",
       "      cursor: pointer;\n",
       "      display: none;\n",
       "      fill: #1967D2;\n",
       "      height: 32px;\n",
       "      padding: 0 0 0 0;\n",
       "      width: 32px;\n",
       "    }\n",
       "\n",
       "    .colab-df-convert:hover {\n",
       "      background-color: #E2EBFA;\n",
       "      box-shadow: 0px 1px 2px rgba(60, 64, 67, 0.3), 0px 1px 3px 1px rgba(60, 64, 67, 0.15);\n",
       "      fill: #174EA6;\n",
       "    }\n",
       "\n",
       "    [theme=dark] .colab-df-convert {\n",
       "      background-color: #3B4455;\n",
       "      fill: #D2E3FC;\n",
       "    }\n",
       "\n",
       "    [theme=dark] .colab-df-convert:hover {\n",
       "      background-color: #434B5C;\n",
       "      box-shadow: 0px 1px 3px 1px rgba(0, 0, 0, 0.15);\n",
       "      filter: drop-shadow(0px 1px 2px rgba(0, 0, 0, 0.3));\n",
       "      fill: #FFFFFF;\n",
       "    }\n",
       "  </style>\n",
       "\n",
       "      <script>\n",
       "        const buttonEl =\n",
       "          document.querySelector('#df-b7a214b2-2b2e-490a-9a54-bf7ec64587da button.colab-df-convert');\n",
       "        buttonEl.style.display =\n",
       "          google.colab.kernel.accessAllowed ? 'block' : 'none';\n",
       "\n",
       "        async function convertToInteractive(key) {\n",
       "          const element = document.querySelector('#df-b7a214b2-2b2e-490a-9a54-bf7ec64587da');\n",
       "          const dataTable =\n",
       "            await google.colab.kernel.invokeFunction('convertToInteractive',\n",
       "                                                     [key], {});\n",
       "          if (!dataTable) return;\n",
       "\n",
       "          const docLinkHtml = 'Like what you see? Visit the ' +\n",
       "            '<a target=\"_blank\" href=https://colab.research.google.com/notebooks/data_table.ipynb>data table notebook</a>'\n",
       "            + ' to learn more about interactive tables.';\n",
       "          element.innerHTML = '';\n",
       "          dataTable['output_type'] = 'display_data';\n",
       "          await google.colab.output.renderOutput(dataTable, element);\n",
       "          const docLink = document.createElement('div');\n",
       "          docLink.innerHTML = docLinkHtml;\n",
       "          element.appendChild(docLink);\n",
       "        }\n",
       "      </script>\n",
       "    </div>\n",
       "  </div>\n",
       "  "
      ],
      "text/plain": [
       "         0     1     2     3     4\n",
       "id_1  1111  null  1111  1112  null\n",
       "id_2  2222  2222  null  2223  null\n",
       "id_3  3333  3334  3335  null  3334"
      ]
     },
     "execution_count": 41,
     "metadata": {},
     "output_type": "execute_result"
    }
   ],
   "source": [
    "table_1.T"
   ]
  },
  {
   "cell_type": "code",
   "execution_count": 42,
   "id": "a07e0d73",
   "metadata": {
    "executionInfo": {
     "elapsed": 278,
     "status": "ok",
     "timestamp": 1666245305646,
     "user": {
      "displayName": "Dmitry Egoshin",
      "userId": "14725791403337399112"
     },
     "user_tz": -300
    },
    "id": "a07e0d73"
   },
   "outputs": [],
   "source": [
    "table = '''\n",
    "444|2222|3335\n",
    "445|null|3334\n",
    "null|2223|3334\n",
    "||\n",
    "||\n",
    "||\n",
    "'''"
   ]
  },
  {
   "cell_type": "code",
   "execution_count": 43,
   "id": "c9af7ad6",
   "metadata": {
    "executionInfo": {
     "elapsed": 280,
     "status": "ok",
     "timestamp": 1666245305651,
     "user": {
      "displayName": "Dmitry Egoshin",
      "userId": "14725791403337399112"
     },
     "user_tz": -300
    },
    "id": "c9af7ad6"
   },
   "outputs": [],
   "source": [
    "table_2 = pd.DataFrame([row.replace(' ', '').split('|') for row in table.split('\\n')])"
   ]
  },
  {
   "cell_type": "code",
   "execution_count": 44,
   "id": "1f6c0f13",
   "metadata": {
    "executionInfo": {
     "elapsed": 281,
     "status": "ok",
     "timestamp": 1666245305655,
     "user": {
      "displayName": "Dmitry Egoshin",
      "userId": "14725791403337399112"
     },
     "user_tz": -300
    },
    "id": "1f6c0f13"
   },
   "outputs": [],
   "source": [
    "table_2.columns = ['id_4', 'id_2', 'id_3']"
   ]
  },
  {
   "cell_type": "code",
   "execution_count": 45,
   "id": "090efa8d",
   "metadata": {
    "colab": {
     "base_uri": "https://localhost:8080/",
     "height": 0
    },
    "executionInfo": {
     "elapsed": 287,
     "status": "ok",
     "timestamp": 1666245305666,
     "user": {
      "displayName": "Dmitry Egoshin",
      "userId": "14725791403337399112"
     },
     "user_tz": -300
    },
    "id": "090efa8d",
    "outputId": "da9e1634-c574-4316-e739-04687bc38707"
   },
   "outputs": [
    {
     "data": {
      "text/html": [
       "\n",
       "  <div id=\"df-4ed3cb50-94b3-41ac-ab8c-d593ddbb77ed\">\n",
       "    <div class=\"colab-df-container\">\n",
       "      <div>\n",
       "<style scoped>\n",
       "    .dataframe tbody tr th:only-of-type {\n",
       "        vertical-align: middle;\n",
       "    }\n",
       "\n",
       "    .dataframe tbody tr th {\n",
       "        vertical-align: top;\n",
       "    }\n",
       "\n",
       "    .dataframe thead th {\n",
       "        text-align: right;\n",
       "    }\n",
       "</style>\n",
       "<table border=\"1\" class=\"dataframe\">\n",
       "  <thead>\n",
       "    <tr style=\"text-align: right;\">\n",
       "      <th></th>\n",
       "      <th>0</th>\n",
       "      <th>1</th>\n",
       "      <th>2</th>\n",
       "      <th>3</th>\n",
       "      <th>4</th>\n",
       "    </tr>\n",
       "  </thead>\n",
       "  <tbody>\n",
       "    <tr>\n",
       "      <th>id_1</th>\n",
       "      <td>1111</td>\n",
       "      <td>null</td>\n",
       "      <td>1111</td>\n",
       "      <td>1112</td>\n",
       "      <td>null</td>\n",
       "    </tr>\n",
       "    <tr>\n",
       "      <th>id_2</th>\n",
       "      <td>2222</td>\n",
       "      <td>2222</td>\n",
       "      <td>null</td>\n",
       "      <td>2223</td>\n",
       "      <td>null</td>\n",
       "    </tr>\n",
       "    <tr>\n",
       "      <th>id_3</th>\n",
       "      <td>3333</td>\n",
       "      <td>3334</td>\n",
       "      <td>3335</td>\n",
       "      <td>null</td>\n",
       "      <td>3334</td>\n",
       "    </tr>\n",
       "  </tbody>\n",
       "</table>\n",
       "</div>\n",
       "      <button class=\"colab-df-convert\" onclick=\"convertToInteractive('df-4ed3cb50-94b3-41ac-ab8c-d593ddbb77ed')\"\n",
       "              title=\"Convert this dataframe to an interactive table.\"\n",
       "              style=\"display:none;\">\n",
       "        \n",
       "  <svg xmlns=\"http://www.w3.org/2000/svg\" height=\"24px\"viewBox=\"0 0 24 24\"\n",
       "       width=\"24px\">\n",
       "    <path d=\"M0 0h24v24H0V0z\" fill=\"none\"/>\n",
       "    <path d=\"M18.56 5.44l.94 2.06.94-2.06 2.06-.94-2.06-.94-.94-2.06-.94 2.06-2.06.94zm-11 1L8.5 8.5l.94-2.06 2.06-.94-2.06-.94L8.5 2.5l-.94 2.06-2.06.94zm10 10l.94 2.06.94-2.06 2.06-.94-2.06-.94-.94-2.06-.94 2.06-2.06.94z\"/><path d=\"M17.41 7.96l-1.37-1.37c-.4-.4-.92-.59-1.43-.59-.52 0-1.04.2-1.43.59L10.3 9.45l-7.72 7.72c-.78.78-.78 2.05 0 2.83L4 21.41c.39.39.9.59 1.41.59.51 0 1.02-.2 1.41-.59l7.78-7.78 2.81-2.81c.8-.78.8-2.07 0-2.86zM5.41 20L4 18.59l7.72-7.72 1.47 1.35L5.41 20z\"/>\n",
       "  </svg>\n",
       "      </button>\n",
       "      \n",
       "  <style>\n",
       "    .colab-df-container {\n",
       "      display:flex;\n",
       "      flex-wrap:wrap;\n",
       "      gap: 12px;\n",
       "    }\n",
       "\n",
       "    .colab-df-convert {\n",
       "      background-color: #E8F0FE;\n",
       "      border: none;\n",
       "      border-radius: 50%;\n",
       "      cursor: pointer;\n",
       "      display: none;\n",
       "      fill: #1967D2;\n",
       "      height: 32px;\n",
       "      padding: 0 0 0 0;\n",
       "      width: 32px;\n",
       "    }\n",
       "\n",
       "    .colab-df-convert:hover {\n",
       "      background-color: #E2EBFA;\n",
       "      box-shadow: 0px 1px 2px rgba(60, 64, 67, 0.3), 0px 1px 3px 1px rgba(60, 64, 67, 0.15);\n",
       "      fill: #174EA6;\n",
       "    }\n",
       "\n",
       "    [theme=dark] .colab-df-convert {\n",
       "      background-color: #3B4455;\n",
       "      fill: #D2E3FC;\n",
       "    }\n",
       "\n",
       "    [theme=dark] .colab-df-convert:hover {\n",
       "      background-color: #434B5C;\n",
       "      box-shadow: 0px 1px 3px 1px rgba(0, 0, 0, 0.15);\n",
       "      filter: drop-shadow(0px 1px 2px rgba(0, 0, 0, 0.3));\n",
       "      fill: #FFFFFF;\n",
       "    }\n",
       "  </style>\n",
       "\n",
       "      <script>\n",
       "        const buttonEl =\n",
       "          document.querySelector('#df-4ed3cb50-94b3-41ac-ab8c-d593ddbb77ed button.colab-df-convert');\n",
       "        buttonEl.style.display =\n",
       "          google.colab.kernel.accessAllowed ? 'block' : 'none';\n",
       "\n",
       "        async function convertToInteractive(key) {\n",
       "          const element = document.querySelector('#df-4ed3cb50-94b3-41ac-ab8c-d593ddbb77ed');\n",
       "          const dataTable =\n",
       "            await google.colab.kernel.invokeFunction('convertToInteractive',\n",
       "                                                     [key], {});\n",
       "          if (!dataTable) return;\n",
       "\n",
       "          const docLinkHtml = 'Like what you see? Visit the ' +\n",
       "            '<a target=\"_blank\" href=https://colab.research.google.com/notebooks/data_table.ipynb>data table notebook</a>'\n",
       "            + ' to learn more about interactive tables.';\n",
       "          element.innerHTML = '';\n",
       "          dataTable['output_type'] = 'display_data';\n",
       "          await google.colab.output.renderOutput(dataTable, element);\n",
       "          const docLink = document.createElement('div');\n",
       "          docLink.innerHTML = docLinkHtml;\n",
       "          element.appendChild(docLink);\n",
       "        }\n",
       "      </script>\n",
       "    </div>\n",
       "  </div>\n",
       "  "
      ],
      "text/plain": [
       "         0     1     2     3     4\n",
       "id_1  1111  null  1111  1112  null\n",
       "id_2  2222  2222  null  2223  null\n",
       "id_3  3333  3334  3335  null  3334"
      ]
     },
     "execution_count": 45,
     "metadata": {},
     "output_type": "execute_result"
    }
   ],
   "source": [
    "table_1.T"
   ]
  },
  {
   "cell_type": "code",
   "execution_count": 46,
   "id": "9edab614",
   "metadata": {
    "colab": {
     "base_uri": "https://localhost:8080/",
     "height": 0
    },
    "executionInfo": {
     "elapsed": 283,
     "status": "ok",
     "timestamp": 1666245305670,
     "user": {
      "displayName": "Dmitry Egoshin",
      "userId": "14725791403337399112"
     },
     "user_tz": -300
    },
    "id": "9edab614",
    "outputId": "8426963f-fc24-4bdb-ba23-7d6e670a1441"
   },
   "outputs": [
    {
     "data": {
      "text/html": [
       "\n",
       "  <div id=\"df-7d17f6f5-cfd9-4a92-8ff2-fdcb2bec33a9\">\n",
       "    <div class=\"colab-df-container\">\n",
       "      <div>\n",
       "<style scoped>\n",
       "    .dataframe tbody tr th:only-of-type {\n",
       "        vertical-align: middle;\n",
       "    }\n",
       "\n",
       "    .dataframe tbody tr th {\n",
       "        vertical-align: top;\n",
       "    }\n",
       "\n",
       "    .dataframe thead th {\n",
       "        text-align: right;\n",
       "    }\n",
       "</style>\n",
       "<table border=\"1\" class=\"dataframe\">\n",
       "  <thead>\n",
       "    <tr style=\"text-align: right;\">\n",
       "      <th></th>\n",
       "      <th>0</th>\n",
       "      <th>1</th>\n",
       "      <th>2</th>\n",
       "      <th>3</th>\n",
       "      <th>4</th>\n",
       "      <th>5</th>\n",
       "      <th>6</th>\n",
       "      <th>7</th>\n",
       "    </tr>\n",
       "  </thead>\n",
       "  <tbody>\n",
       "    <tr>\n",
       "      <th>id_4</th>\n",
       "      <td></td>\n",
       "      <td>444</td>\n",
       "      <td>445</td>\n",
       "      <td>null</td>\n",
       "      <td></td>\n",
       "      <td></td>\n",
       "      <td></td>\n",
       "      <td></td>\n",
       "    </tr>\n",
       "    <tr>\n",
       "      <th>id_2</th>\n",
       "      <td>None</td>\n",
       "      <td>2222</td>\n",
       "      <td>null</td>\n",
       "      <td>2223</td>\n",
       "      <td></td>\n",
       "      <td></td>\n",
       "      <td></td>\n",
       "      <td>None</td>\n",
       "    </tr>\n",
       "    <tr>\n",
       "      <th>id_3</th>\n",
       "      <td>None</td>\n",
       "      <td>3335</td>\n",
       "      <td>3334</td>\n",
       "      <td>3334</td>\n",
       "      <td></td>\n",
       "      <td></td>\n",
       "      <td></td>\n",
       "      <td>None</td>\n",
       "    </tr>\n",
       "  </tbody>\n",
       "</table>\n",
       "</div>\n",
       "      <button class=\"colab-df-convert\" onclick=\"convertToInteractive('df-7d17f6f5-cfd9-4a92-8ff2-fdcb2bec33a9')\"\n",
       "              title=\"Convert this dataframe to an interactive table.\"\n",
       "              style=\"display:none;\">\n",
       "        \n",
       "  <svg xmlns=\"http://www.w3.org/2000/svg\" height=\"24px\"viewBox=\"0 0 24 24\"\n",
       "       width=\"24px\">\n",
       "    <path d=\"M0 0h24v24H0V0z\" fill=\"none\"/>\n",
       "    <path d=\"M18.56 5.44l.94 2.06.94-2.06 2.06-.94-2.06-.94-.94-2.06-.94 2.06-2.06.94zm-11 1L8.5 8.5l.94-2.06 2.06-.94-2.06-.94L8.5 2.5l-.94 2.06-2.06.94zm10 10l.94 2.06.94-2.06 2.06-.94-2.06-.94-.94-2.06-.94 2.06-2.06.94z\"/><path d=\"M17.41 7.96l-1.37-1.37c-.4-.4-.92-.59-1.43-.59-.52 0-1.04.2-1.43.59L10.3 9.45l-7.72 7.72c-.78.78-.78 2.05 0 2.83L4 21.41c.39.39.9.59 1.41.59.51 0 1.02-.2 1.41-.59l7.78-7.78 2.81-2.81c.8-.78.8-2.07 0-2.86zM5.41 20L4 18.59l7.72-7.72 1.47 1.35L5.41 20z\"/>\n",
       "  </svg>\n",
       "      </button>\n",
       "      \n",
       "  <style>\n",
       "    .colab-df-container {\n",
       "      display:flex;\n",
       "      flex-wrap:wrap;\n",
       "      gap: 12px;\n",
       "    }\n",
       "\n",
       "    .colab-df-convert {\n",
       "      background-color: #E8F0FE;\n",
       "      border: none;\n",
       "      border-radius: 50%;\n",
       "      cursor: pointer;\n",
       "      display: none;\n",
       "      fill: #1967D2;\n",
       "      height: 32px;\n",
       "      padding: 0 0 0 0;\n",
       "      width: 32px;\n",
       "    }\n",
       "\n",
       "    .colab-df-convert:hover {\n",
       "      background-color: #E2EBFA;\n",
       "      box-shadow: 0px 1px 2px rgba(60, 64, 67, 0.3), 0px 1px 3px 1px rgba(60, 64, 67, 0.15);\n",
       "      fill: #174EA6;\n",
       "    }\n",
       "\n",
       "    [theme=dark] .colab-df-convert {\n",
       "      background-color: #3B4455;\n",
       "      fill: #D2E3FC;\n",
       "    }\n",
       "\n",
       "    [theme=dark] .colab-df-convert:hover {\n",
       "      background-color: #434B5C;\n",
       "      box-shadow: 0px 1px 3px 1px rgba(0, 0, 0, 0.15);\n",
       "      filter: drop-shadow(0px 1px 2px rgba(0, 0, 0, 0.3));\n",
       "      fill: #FFFFFF;\n",
       "    }\n",
       "  </style>\n",
       "\n",
       "      <script>\n",
       "        const buttonEl =\n",
       "          document.querySelector('#df-7d17f6f5-cfd9-4a92-8ff2-fdcb2bec33a9 button.colab-df-convert');\n",
       "        buttonEl.style.display =\n",
       "          google.colab.kernel.accessAllowed ? 'block' : 'none';\n",
       "\n",
       "        async function convertToInteractive(key) {\n",
       "          const element = document.querySelector('#df-7d17f6f5-cfd9-4a92-8ff2-fdcb2bec33a9');\n",
       "          const dataTable =\n",
       "            await google.colab.kernel.invokeFunction('convertToInteractive',\n",
       "                                                     [key], {});\n",
       "          if (!dataTable) return;\n",
       "\n",
       "          const docLinkHtml = 'Like what you see? Visit the ' +\n",
       "            '<a target=\"_blank\" href=https://colab.research.google.com/notebooks/data_table.ipynb>data table notebook</a>'\n",
       "            + ' to learn more about interactive tables.';\n",
       "          element.innerHTML = '';\n",
       "          dataTable['output_type'] = 'display_data';\n",
       "          await google.colab.output.renderOutput(dataTable, element);\n",
       "          const docLink = document.createElement('div');\n",
       "          docLink.innerHTML = docLinkHtml;\n",
       "          element.appendChild(docLink);\n",
       "        }\n",
       "      </script>\n",
       "    </div>\n",
       "  </div>\n",
       "  "
      ],
      "text/plain": [
       "         0     1     2     3 4 5 6     7\n",
       "id_4         444   445  null            \n",
       "id_2  None  2222  null  2223        None\n",
       "id_3  None  3335  3334  3334        None"
      ]
     },
     "execution_count": 46,
     "metadata": {},
     "output_type": "execute_result"
    }
   ],
   "source": [
    "table_2.T"
   ]
  }
 ],
 "metadata": {
  "colab": {
   "collapsed_sections": [
    "b3c7824d"
   ],
   "provenance": []
  },
  "kernelspec": {
   "display_name": "Python 3 (ipykernel)",
   "language": "python",
   "name": "python3"
  },
  "language_info": {
   "codemirror_mode": {
    "name": "ipython",
    "version": 3
   },
   "file_extension": ".py",
   "mimetype": "text/x-python",
   "name": "python",
   "nbconvert_exporter": "python",
   "pygments_lexer": "ipython3",
   "version": "3.9.7"
  }
 },
 "nbformat": 4,
 "nbformat_minor": 5
}
