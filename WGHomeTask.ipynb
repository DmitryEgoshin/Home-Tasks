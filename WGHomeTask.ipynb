{
 "cells": [
  {
   "cell_type": "markdown",
   "id": "ffa79b0b",
   "metadata": {},
   "source": [
    "**Python**:\n",
    "- Что пошло не так с кампанией:\n",
    "В среднем ARPU был ниже чем стоимость привлечения юзера\n",
    "В среднем ARPPU был всего лишь на 100% больше чем стоимость привлечения нового юзера\n",
    "- Реклама не окупалась\n",
    "- Была выбрана не та целевая аудитория: по сути платить готовы были только \"новые\" юзеры и в среднем совершали одну покупку. После прекращения рекламы и транзакции и без того небольшого размера постепенно сошли на нет.\n",
    "Как фиксить:\n",
    "- полностью перерабатывать кампанию/ии\n",
    "- растить LTV\n",
    "\n",
    "**SQL**:\n",
    "\n",
    "В данных есть шумы и \"незаконченные\" или \"неначатые\" сессии - то есть, юзеры у которых указаны только время начала сессий или только время конца, так же присутствуют шумы - технические сессии юзеров, длительностью 1-2 секунды\n",
    "Решение:\n",
    "- Делаем оконную функцию \"LEAD\" по юзерам - получаем в строке для каждого старта сессии - время его конца (следующую строку).\n",
    "- Фильтруем юзеров по условию \"строка содержит и  session_start и seesion_end\" - таком образом, отсеиваем юзеров у которых есть только session_start или seesion_end значения. Сортируем сессии по длинне - находим технические сессии - фильтруем по сессии по длинне >2 sec.\n",
    "- Считаем среднюю длинну сессии на очищенных данных."
   ]
  },
  {
   "cell_type": "code",
   "execution_count": 1,
   "id": "3019d01c",
   "metadata": {
    "id": "3019d01c"
   },
   "outputs": [],
   "source": [
    "import pandas as pd\n",
    "import numpy as np"
   ]
  },
  {
   "cell_type": "code",
   "execution_count": 2,
   "id": "2a008429",
   "metadata": {
    "id": "2a008429"
   },
   "outputs": [],
   "source": [
    "import sqlite3"
   ]
  },
  {
   "cell_type": "code",
   "execution_count": 3,
   "id": "9b3a7796",
   "metadata": {
    "id": "9b3a7796"
   },
   "outputs": [],
   "source": [
    "import matplotlib.pyplot as plt\n",
    "import seaborn as sns"
   ]
  },
  {
   "cell_type": "markdown",
   "id": "eddaf082",
   "metadata": {
    "id": "eddaf082"
   },
   "source": [
    "# SQL"
   ]
  },
  {
   "cell_type": "markdown",
   "id": "450d1ed2",
   "metadata": {},
   "source": [
    "Средствами SQL необходимо рассчитать среднюю длину сессий пользователей."
   ]
  },
  {
   "cell_type": "markdown",
   "id": "ba40a98b",
   "metadata": {
    "id": "ba40a98b"
   },
   "source": [
    "```\n",
    "WITH temp AS (\n",
    "-- replace session starts/finish to 1/0\n",
    "-- get the end date for each session timestamp\n",
    "SELECT s. user_id, \n",
    "CASE WHEN s. event = 'start' THEN 1 ELSE 0 END is_sess_starts,\n",
    "s.ts,\n",
    "LEAD(s.ts) OVER (PARTITION BY s.user_id ORDER BY s.ts) sess_ends\n",
    "FROM \"sessions3\" s),\n",
    "\n",
    "sess_duration AS (\n",
    "SELECT *,\n",
    "JULIANDAY(sess_ends) - JULIANDAY(ts) sess_duration\n",
    "FROM temp\n",
    "WHERE is_sess_starts = 1),\n",
    "\n",
    "avg_sess_dur_per_user AS (\n",
    "-- avg session duration for each user\n",
    "SELECT user_id ,\n",
    "ROUND(AVG(sess_duration) * 24 * 60, 2) avg_sess_dur_in_min\n",
    "FROM sess_duration\n",
    "GROUP BY user_id\n",
    "ORDER BY avg_sess_dur_in_min DESC)\n",
    "\n",
    "-- avg session duration for all users\n",
    "SELECT AVG(sess_duration) * 24 * 60 avg_sess_dur_in_min\n",
    "FROM sess_duration\n",
    "WHERE user_id != 1001 AND user_id != 1003\n",
    "```"
   ]
  },
  {
   "cell_type": "markdown",
   "id": "cf7f4943",
   "metadata": {
    "id": "cf7f4943"
   },
   "source": [
    "Need to mention that for some users, for example `user_id=1002`, there are only `end` sessions in the `event` column.\n",
    "\n",
    "It easy to exclude users with `end` label only (by using `WHERE is_sess_starts = 1` condition), that have strings only with `end` or `0` in the `event` column. But it's harder to exclude users who have only the `start` label.\n",
    "\n",
    "But as I can see, there are no a lot of \"bad\" users. For counting **the average session duration per user** it's not neccessary to exclude them. It's also could be helpful to check them deeper and find the reason of this error. But for counting **the average session duration for all users** would be better to exclude them."
   ]
  },
  {
   "cell_type": "markdown",
   "id": "wIqMGPUXPQSM",
   "metadata": {
    "id": "wIqMGPUXPQSM"
   },
   "source": [
    "# Pandas"
   ]
  },
  {
   "cell_type": "markdown",
   "id": "6iG7ArpZsvvr",
   "metadata": {
    "id": "6iG7ArpZsvvr"
   },
   "source": [
    "### Task"
   ]
  },
  {
   "cell_type": "markdown",
   "id": "915e09eb",
   "metadata": {
    "id": "915e09eb"
   },
   "source": [
    "Given some data on marketing campaign, do an exploratory data analysis and build a reproducible report (R markdown/shiny application, python notebook, or any other ways to explore and visualize data). This report should contain:\n",
    "* Plots of all metrics that can be useful for taking business decisions or have some valuable insights.\n",
    "* Explanations of why you think this metrics are useful and analysis of them. All thoughts that you have concerning this campaign.\n",
    "* Final results: what went wrong, what was good, what steps should be considered in the future, maybe what additional information should be added in the future to make analysis better. Also add your thoughts, whether this campaign should be stopped, or it should be continued.\n",
    "\n",
    "We have data files with following structure:\n",
    "\n",
    "`Users.csv`:\n",
    "* `Id` – id of new account;\n",
    "* `Dt` – date of user registration;\n",
    "\n",
    "`Spends.csv`:\n",
    "* `Dt` – date of spends allocation (spends can come from cost of impressions or some other actions);\n",
    "* `Spends` – amount of spends in USD;\n",
    "\n",
    "`Logins.csv`:\n",
    "* `Login_dt` – date of login;\n",
    "* `Id` – account id (the same as in users.csv);\n",
    "\n",
    "`Revenue.csv`:\n",
    "* `Pay_dt` – date of payment;\n",
    "* `Id` – account id (the same as in users.csv);\n",
    "* `Revenue` – amount of payment of corresponding user at this day;\n",
    "* `Currency` – payment currency."
   ]
  },
  {
   "cell_type": "markdown",
   "id": "lTVWUgKos0oS",
   "metadata": {
    "id": "lTVWUgKos0oS"
   },
   "source": [
    "### Data prep"
   ]
  },
  {
   "cell_type": "code",
   "execution_count": 4,
   "id": "ec982aa5",
   "metadata": {
    "id": "ec982aa5"
   },
   "outputs": [],
   "source": [
    "# change the file path if necessary\n",
    "logins = pd.read_csv('/Users/egoshin/Downloads/TZ_analyst/DMT_task2/logins.csv')"
   ]
  },
  {
   "cell_type": "code",
   "execution_count": 5,
   "id": "b8bb72f1",
   "metadata": {
    "id": "b8bb72f1"
   },
   "outputs": [],
   "source": [
    "revenue = pd.read_csv('/Users/egoshin/Downloads/TZ_analyst/DMT_task2/revenue.csv')"
   ]
  },
  {
   "cell_type": "code",
   "execution_count": 6,
   "id": "0d374ac9",
   "metadata": {
    "id": "0d374ac9"
   },
   "outputs": [],
   "source": [
    "users = pd.read_csv('/Users/egoshin/Downloads/TZ_analyst/DMT_task2/users.csv')"
   ]
  },
  {
   "cell_type": "code",
   "execution_count": 7,
   "id": "1f890d91",
   "metadata": {
    "id": "1f890d91"
   },
   "outputs": [],
   "source": [
    "spends = pd.read_csv('/Users/egoshin/Downloads/TZ_analyst/DMT_task2/spends.csv')"
   ]
  },
  {
   "cell_type": "code",
   "execution_count": 8,
   "id": "9270660b",
   "metadata": {
    "executionInfo": {
     "elapsed": 37,
     "status": "aborted",
     "timestamp": 1665201043999,
     "user": {
      "displayName": "Dmitry Egoshin",
      "userId": "14725791403337399112"
     },
     "user_tz": -300
    },
    "id": "9270660b",
    "outputId": "cd9ed0f2-b7c6-46f1-c5e4-f1271e73545d"
   },
   "outputs": [
    {
     "data": {
      "text/html": [
       "<div>\n",
       "<style scoped>\n",
       "    .dataframe tbody tr th:only-of-type {\n",
       "        vertical-align: middle;\n",
       "    }\n",
       "\n",
       "    .dataframe tbody tr th {\n",
       "        vertical-align: top;\n",
       "    }\n",
       "\n",
       "    .dataframe thead th {\n",
       "        text-align: right;\n",
       "    }\n",
       "</style>\n",
       "<table border=\"1\" class=\"dataframe\">\n",
       "  <thead>\n",
       "    <tr style=\"text-align: right;\">\n",
       "      <th></th>\n",
       "      <th>login_dt</th>\n",
       "      <th>id</th>\n",
       "    </tr>\n",
       "  </thead>\n",
       "  <tbody>\n",
       "    <tr>\n",
       "      <th>0</th>\n",
       "      <td>2018-01-01</td>\n",
       "      <td>1</td>\n",
       "    </tr>\n",
       "    <tr>\n",
       "      <th>1</th>\n",
       "      <td>2018-01-01</td>\n",
       "      <td>2</td>\n",
       "    </tr>\n",
       "    <tr>\n",
       "      <th>2</th>\n",
       "      <td>2018-01-01</td>\n",
       "      <td>3</td>\n",
       "    </tr>\n",
       "    <tr>\n",
       "      <th>3</th>\n",
       "      <td>2018-01-01</td>\n",
       "      <td>4</td>\n",
       "    </tr>\n",
       "    <tr>\n",
       "      <th>4</th>\n",
       "      <td>2018-01-01</td>\n",
       "      <td>5</td>\n",
       "    </tr>\n",
       "  </tbody>\n",
       "</table>\n",
       "</div>"
      ],
      "text/plain": [
       "     login_dt  id\n",
       "0  2018-01-01   1\n",
       "1  2018-01-01   2\n",
       "2  2018-01-01   3\n",
       "3  2018-01-01   4\n",
       "4  2018-01-01   5"
      ]
     },
     "execution_count": 8,
     "metadata": {},
     "output_type": "execute_result"
    }
   ],
   "source": [
    "logins.head()"
   ]
  },
  {
   "cell_type": "code",
   "execution_count": 9,
   "id": "9f1c3a2a",
   "metadata": {
    "executionInfo": {
     "elapsed": 38,
     "status": "aborted",
     "timestamp": 1665201044000,
     "user": {
      "displayName": "Dmitry Egoshin",
      "userId": "14725791403337399112"
     },
     "user_tz": -300
    },
    "id": "9f1c3a2a",
    "outputId": "93fd24de-2ca2-4b2f-bd62-d64a91fe08e9"
   },
   "outputs": [
    {
     "data": {
      "text/plain": [
       "(3184799, 2)"
      ]
     },
     "execution_count": 9,
     "metadata": {},
     "output_type": "execute_result"
    }
   ],
   "source": [
    "logins.shape"
   ]
  },
  {
   "cell_type": "code",
   "execution_count": 10,
   "id": "2e7e600f",
   "metadata": {
    "executionInfo": {
     "elapsed": 38,
     "status": "aborted",
     "timestamp": 1665201044001,
     "user": {
      "displayName": "Dmitry Egoshin",
      "userId": "14725791403337399112"
     },
     "user_tz": -300
    },
    "id": "2e7e600f",
    "outputId": "7fc30bb7-8793-4565-c273-2e1c87974d01"
   },
   "outputs": [
    {
     "name": "stdout",
     "output_type": "stream",
     "text": [
      "<class 'pandas.core.frame.DataFrame'>\n",
      "RangeIndex: 3184799 entries, 0 to 3184798\n",
      "Data columns (total 2 columns):\n",
      " #   Column    Dtype \n",
      "---  ------    ----- \n",
      " 0   login_dt  object\n",
      " 1   id        int64 \n",
      "dtypes: int64(1), object(1)\n",
      "memory usage: 48.6+ MB\n"
     ]
    }
   ],
   "source": [
    "logins.info()"
   ]
  },
  {
   "cell_type": "code",
   "execution_count": 11,
   "id": "cfe94c42",
   "metadata": {
    "executionInfo": {
     "elapsed": 41,
     "status": "aborted",
     "timestamp": 1665201044005,
     "user": {
      "displayName": "Dmitry Egoshin",
      "userId": "14725791403337399112"
     },
     "user_tz": -300
    },
    "id": "cfe94c42",
    "outputId": "35163cd4-70f5-4e38-c24f-fbe6b742dc14"
   },
   "outputs": [
    {
     "data": {
      "text/plain": [
       "login_dt    0.0\n",
       "id          0.0\n",
       "dtype: float64"
      ]
     },
     "execution_count": 11,
     "metadata": {},
     "output_type": "execute_result"
    }
   ],
   "source": [
    "logins.isna().mean()"
   ]
  },
  {
   "cell_type": "code",
   "execution_count": 12,
   "id": "561060f3",
   "metadata": {
    "executionInfo": {
     "elapsed": 42,
     "status": "aborted",
     "timestamp": 1665201044006,
     "user": {
      "displayName": "Dmitry Egoshin",
      "userId": "14725791403337399112"
     },
     "user_tz": -300
    },
    "id": "561060f3",
    "outputId": "b5960430-ced2-4fc9-dfb1-7bbea1eca698"
   },
   "outputs": [
    {
     "data": {
      "text/html": [
       "<div>\n",
       "<style scoped>\n",
       "    .dataframe tbody tr th:only-of-type {\n",
       "        vertical-align: middle;\n",
       "    }\n",
       "\n",
       "    .dataframe tbody tr th {\n",
       "        vertical-align: top;\n",
       "    }\n",
       "\n",
       "    .dataframe thead th {\n",
       "        text-align: right;\n",
       "    }\n",
       "</style>\n",
       "<table border=\"1\" class=\"dataframe\">\n",
       "  <thead>\n",
       "    <tr style=\"text-align: right;\">\n",
       "      <th></th>\n",
       "      <th>pay_dt</th>\n",
       "      <th>id</th>\n",
       "      <th>revenue</th>\n",
       "      <th>currency</th>\n",
       "    </tr>\n",
       "  </thead>\n",
       "  <tbody>\n",
       "    <tr>\n",
       "      <th>0</th>\n",
       "      <td>2018-01-01</td>\n",
       "      <td>186</td>\n",
       "      <td>64.910968</td>\n",
       "      <td>RUB</td>\n",
       "    </tr>\n",
       "    <tr>\n",
       "      <th>1</th>\n",
       "      <td>2018-01-01</td>\n",
       "      <td>393</td>\n",
       "      <td>1.070690</td>\n",
       "      <td>USD</td>\n",
       "    </tr>\n",
       "    <tr>\n",
       "      <th>2</th>\n",
       "      <td>2018-01-02</td>\n",
       "      <td>305</td>\n",
       "      <td>0.249002</td>\n",
       "      <td>EUR</td>\n",
       "    </tr>\n",
       "    <tr>\n",
       "      <th>3</th>\n",
       "      <td>2018-01-02</td>\n",
       "      <td>358</td>\n",
       "      <td>0.314238</td>\n",
       "      <td>USD</td>\n",
       "    </tr>\n",
       "    <tr>\n",
       "      <th>4</th>\n",
       "      <td>2018-01-02</td>\n",
       "      <td>2256</td>\n",
       "      <td>0.555161</td>\n",
       "      <td>USD</td>\n",
       "    </tr>\n",
       "  </tbody>\n",
       "</table>\n",
       "</div>"
      ],
      "text/plain": [
       "       pay_dt    id    revenue currency\n",
       "0  2018-01-01   186  64.910968      RUB\n",
       "1  2018-01-01   393   1.070690      USD\n",
       "2  2018-01-02   305   0.249002      EUR\n",
       "3  2018-01-02   358   0.314238      USD\n",
       "4  2018-01-02  2256   0.555161      USD"
      ]
     },
     "execution_count": 12,
     "metadata": {},
     "output_type": "execute_result"
    }
   ],
   "source": [
    "revenue.head()"
   ]
  },
  {
   "cell_type": "code",
   "execution_count": 13,
   "id": "8ed4dfe1",
   "metadata": {
    "executionInfo": {
     "elapsed": 46,
     "status": "aborted",
     "timestamp": 1665201044010,
     "user": {
      "displayName": "Dmitry Egoshin",
      "userId": "14725791403337399112"
     },
     "user_tz": -300
    },
    "id": "8ed4dfe1",
    "outputId": "4d796d4c-b28d-4102-d572-a8d5eb32830d"
   },
   "outputs": [
    {
     "data": {
      "text/plain": [
       "(4052, 4)"
      ]
     },
     "execution_count": 13,
     "metadata": {},
     "output_type": "execute_result"
    }
   ],
   "source": [
    "revenue.shape"
   ]
  },
  {
   "cell_type": "code",
   "execution_count": 14,
   "id": "ea97089d",
   "metadata": {
    "executionInfo": {
     "elapsed": 46,
     "status": "aborted",
     "timestamp": 1665201044011,
     "user": {
      "displayName": "Dmitry Egoshin",
      "userId": "14725791403337399112"
     },
     "user_tz": -300
    },
    "id": "ea97089d",
    "outputId": "4a9de7e1-2357-4325-fbde-870c72ff3f8e"
   },
   "outputs": [
    {
     "name": "stdout",
     "output_type": "stream",
     "text": [
      "<class 'pandas.core.frame.DataFrame'>\n",
      "RangeIndex: 4052 entries, 0 to 4051\n",
      "Data columns (total 4 columns):\n",
      " #   Column    Non-Null Count  Dtype  \n",
      "---  ------    --------------  -----  \n",
      " 0   pay_dt    4052 non-null   object \n",
      " 1   id        4052 non-null   int64  \n",
      " 2   revenue   4052 non-null   float64\n",
      " 3   currency  4052 non-null   object \n",
      "dtypes: float64(1), int64(1), object(2)\n",
      "memory usage: 126.8+ KB\n"
     ]
    }
   ],
   "source": [
    "revenue.info()"
   ]
  },
  {
   "cell_type": "code",
   "execution_count": 15,
   "id": "59129748",
   "metadata": {
    "executionInfo": {
     "elapsed": 47,
     "status": "aborted",
     "timestamp": 1665201044012,
     "user": {
      "displayName": "Dmitry Egoshin",
      "userId": "14725791403337399112"
     },
     "user_tz": -300
    },
    "id": "59129748",
    "outputId": "e95fe8ee-a910-49ce-fd43-c7b0ebeaf6bb"
   },
   "outputs": [
    {
     "data": {
      "text/plain": [
       "pay_dt      0.0\n",
       "id          0.0\n",
       "revenue     0.0\n",
       "currency    0.0\n",
       "dtype: float64"
      ]
     },
     "execution_count": 15,
     "metadata": {},
     "output_type": "execute_result"
    }
   ],
   "source": [
    "revenue.isna().mean()"
   ]
  },
  {
   "cell_type": "code",
   "execution_count": 16,
   "id": "03405fdc",
   "metadata": {
    "executionInfo": {
     "elapsed": 47,
     "status": "aborted",
     "timestamp": 1665201044012,
     "user": {
      "displayName": "Dmitry Egoshin",
      "userId": "14725791403337399112"
     },
     "user_tz": -300
    },
    "id": "03405fdc",
    "outputId": "da22140d-53f2-49b0-f38b-42e6d8fb75d5"
   },
   "outputs": [
    {
     "data": {
      "text/html": [
       "<div>\n",
       "<style scoped>\n",
       "    .dataframe tbody tr th:only-of-type {\n",
       "        vertical-align: middle;\n",
       "    }\n",
       "\n",
       "    .dataframe tbody tr th {\n",
       "        vertical-align: top;\n",
       "    }\n",
       "\n",
       "    .dataframe thead th {\n",
       "        text-align: right;\n",
       "    }\n",
       "</style>\n",
       "<table border=\"1\" class=\"dataframe\">\n",
       "  <thead>\n",
       "    <tr style=\"text-align: right;\">\n",
       "      <th></th>\n",
       "      <th>dt</th>\n",
       "      <th>id</th>\n",
       "    </tr>\n",
       "  </thead>\n",
       "  <tbody>\n",
       "    <tr>\n",
       "      <th>0</th>\n",
       "      <td>2018-01-01</td>\n",
       "      <td>1</td>\n",
       "    </tr>\n",
       "    <tr>\n",
       "      <th>1</th>\n",
       "      <td>2018-01-01</td>\n",
       "      <td>2</td>\n",
       "    </tr>\n",
       "    <tr>\n",
       "      <th>2</th>\n",
       "      <td>2018-01-01</td>\n",
       "      <td>3</td>\n",
       "    </tr>\n",
       "    <tr>\n",
       "      <th>3</th>\n",
       "      <td>2018-01-01</td>\n",
       "      <td>4</td>\n",
       "    </tr>\n",
       "    <tr>\n",
       "      <th>4</th>\n",
       "      <td>2018-01-01</td>\n",
       "      <td>5</td>\n",
       "    </tr>\n",
       "  </tbody>\n",
       "</table>\n",
       "</div>"
      ],
      "text/plain": [
       "           dt  id\n",
       "0  2018-01-01   1\n",
       "1  2018-01-01   2\n",
       "2  2018-01-01   3\n",
       "3  2018-01-01   4\n",
       "4  2018-01-01   5"
      ]
     },
     "execution_count": 16,
     "metadata": {},
     "output_type": "execute_result"
    }
   ],
   "source": [
    "users.head()"
   ]
  },
  {
   "cell_type": "code",
   "execution_count": 17,
   "id": "544eee68",
   "metadata": {
    "executionInfo": {
     "elapsed": 47,
     "status": "aborted",
     "timestamp": 1665201044013,
     "user": {
      "displayName": "Dmitry Egoshin",
      "userId": "14725791403337399112"
     },
     "user_tz": -300
    },
    "id": "544eee68",
    "outputId": "a0290393-68e5-47ce-9618-1df6986ad9bd"
   },
   "outputs": [
    {
     "data": {
      "text/plain": [
       "(161435, 2)"
      ]
     },
     "execution_count": 17,
     "metadata": {},
     "output_type": "execute_result"
    }
   ],
   "source": [
    "users.shape"
   ]
  },
  {
   "cell_type": "code",
   "execution_count": 18,
   "id": "d56d9036",
   "metadata": {
    "executionInfo": {
     "elapsed": 48,
     "status": "aborted",
     "timestamp": 1665201044014,
     "user": {
      "displayName": "Dmitry Egoshin",
      "userId": "14725791403337399112"
     },
     "user_tz": -300
    },
    "id": "d56d9036",
    "outputId": "2bb084bf-17e3-4487-802e-e16689dd38b7"
   },
   "outputs": [
    {
     "name": "stdout",
     "output_type": "stream",
     "text": [
      "<class 'pandas.core.frame.DataFrame'>\n",
      "RangeIndex: 161435 entries, 0 to 161434\n",
      "Data columns (total 2 columns):\n",
      " #   Column  Non-Null Count   Dtype \n",
      "---  ------  --------------   ----- \n",
      " 0   dt      161435 non-null  object\n",
      " 1   id      161435 non-null  int64 \n",
      "dtypes: int64(1), object(1)\n",
      "memory usage: 2.5+ MB\n"
     ]
    }
   ],
   "source": [
    "users.info()"
   ]
  },
  {
   "cell_type": "code",
   "execution_count": 19,
   "id": "59aeea4e",
   "metadata": {
    "executionInfo": {
     "elapsed": 48,
     "status": "aborted",
     "timestamp": 1665201044015,
     "user": {
      "displayName": "Dmitry Egoshin",
      "userId": "14725791403337399112"
     },
     "user_tz": -300
    },
    "id": "59aeea4e",
    "outputId": "8e8957c5-aa08-4cb7-846a-af068327656c"
   },
   "outputs": [
    {
     "data": {
      "text/plain": [
       "dt    0.0\n",
       "id    0.0\n",
       "dtype: float64"
      ]
     },
     "execution_count": 19,
     "metadata": {},
     "output_type": "execute_result"
    }
   ],
   "source": [
    "users.isna().mean()"
   ]
  },
  {
   "cell_type": "code",
   "execution_count": 20,
   "id": "57965644",
   "metadata": {
    "executionInfo": {
     "elapsed": 48,
     "status": "aborted",
     "timestamp": 1665201044015,
     "user": {
      "displayName": "Dmitry Egoshin",
      "userId": "14725791403337399112"
     },
     "user_tz": -300
    },
    "id": "57965644",
    "outputId": "83c3f89d-5519-433a-d919-688d10bff9e7"
   },
   "outputs": [
    {
     "data": {
      "text/html": [
       "<div>\n",
       "<style scoped>\n",
       "    .dataframe tbody tr th:only-of-type {\n",
       "        vertical-align: middle;\n",
       "    }\n",
       "\n",
       "    .dataframe tbody tr th {\n",
       "        vertical-align: top;\n",
       "    }\n",
       "\n",
       "    .dataframe thead th {\n",
       "        text-align: right;\n",
       "    }\n",
       "</style>\n",
       "<table border=\"1\" class=\"dataframe\">\n",
       "  <thead>\n",
       "    <tr style=\"text-align: right;\">\n",
       "      <th></th>\n",
       "      <th>dt</th>\n",
       "      <th>spends_usd</th>\n",
       "    </tr>\n",
       "  </thead>\n",
       "  <tbody>\n",
       "    <tr>\n",
       "      <th>0</th>\n",
       "      <td>2018-01-01</td>\n",
       "      <td>1687.170085</td>\n",
       "    </tr>\n",
       "    <tr>\n",
       "      <th>1</th>\n",
       "      <td>2018-01-02</td>\n",
       "      <td>1752.709034</td>\n",
       "    </tr>\n",
       "    <tr>\n",
       "      <th>2</th>\n",
       "      <td>2018-01-03</td>\n",
       "      <td>2081.399414</td>\n",
       "    </tr>\n",
       "    <tr>\n",
       "      <th>3</th>\n",
       "      <td>2018-01-04</td>\n",
       "      <td>1862.847898</td>\n",
       "    </tr>\n",
       "    <tr>\n",
       "      <th>4</th>\n",
       "      <td>2018-01-05</td>\n",
       "      <td>1920.828185</td>\n",
       "    </tr>\n",
       "  </tbody>\n",
       "</table>\n",
       "</div>"
      ],
      "text/plain": [
       "           dt   spends_usd\n",
       "0  2018-01-01  1687.170085\n",
       "1  2018-01-02  1752.709034\n",
       "2  2018-01-03  2081.399414\n",
       "3  2018-01-04  1862.847898\n",
       "4  2018-01-05  1920.828185"
      ]
     },
     "execution_count": 20,
     "metadata": {},
     "output_type": "execute_result"
    }
   ],
   "source": [
    "spends.head()"
   ]
  },
  {
   "cell_type": "code",
   "execution_count": 21,
   "id": "d7c13b65",
   "metadata": {
    "executionInfo": {
     "elapsed": 50,
     "status": "aborted",
     "timestamp": 1665201044017,
     "user": {
      "displayName": "Dmitry Egoshin",
      "userId": "14725791403337399112"
     },
     "user_tz": -300
    },
    "id": "d7c13b65",
    "outputId": "a83b625d-aaf6-4209-a71f-a61622561c07"
   },
   "outputs": [
    {
     "data": {
      "text/plain": [
       "(90, 2)"
      ]
     },
     "execution_count": 21,
     "metadata": {},
     "output_type": "execute_result"
    }
   ],
   "source": [
    "spends.shape"
   ]
  },
  {
   "cell_type": "code",
   "execution_count": 22,
   "id": "4e50082c",
   "metadata": {
    "executionInfo": {
     "elapsed": 51,
     "status": "aborted",
     "timestamp": 1665201044019,
     "user": {
      "displayName": "Dmitry Egoshin",
      "userId": "14725791403337399112"
     },
     "user_tz": -300
    },
    "id": "4e50082c",
    "outputId": "f002ce6b-c7f7-4f5d-c2dd-28b55e45d245"
   },
   "outputs": [
    {
     "name": "stdout",
     "output_type": "stream",
     "text": [
      "<class 'pandas.core.frame.DataFrame'>\n",
      "RangeIndex: 90 entries, 0 to 89\n",
      "Data columns (total 2 columns):\n",
      " #   Column      Non-Null Count  Dtype  \n",
      "---  ------      --------------  -----  \n",
      " 0   dt          90 non-null     object \n",
      " 1   spends_usd  90 non-null     float64\n",
      "dtypes: float64(1), object(1)\n",
      "memory usage: 1.5+ KB\n"
     ]
    }
   ],
   "source": [
    "spends.info()"
   ]
  },
  {
   "cell_type": "code",
   "execution_count": 23,
   "id": "88601fd0",
   "metadata": {
    "executionInfo": {
     "elapsed": 2834,
     "status": "aborted",
     "timestamp": 1665201044019,
     "user": {
      "displayName": "Dmitry Egoshin",
      "userId": "14725791403337399112"
     },
     "user_tz": -300
    },
    "id": "88601fd0",
    "outputId": "1db1e0d5-1ae1-42c4-da23-12a17ad5852d"
   },
   "outputs": [
    {
     "data": {
      "text/plain": [
       "dt            0.0\n",
       "spends_usd    0.0\n",
       "dtype: float64"
      ]
     },
     "execution_count": 23,
     "metadata": {},
     "output_type": "execute_result"
    }
   ],
   "source": [
    "spends.isna().mean()"
   ]
  },
  {
   "cell_type": "code",
   "execution_count": 24,
   "id": "c6eed0db",
   "metadata": {
    "executionInfo": {
     "elapsed": 2831,
     "status": "aborted",
     "timestamp": 1665201044021,
     "user": {
      "displayName": "Dmitry Egoshin",
      "userId": "14725791403337399112"
     },
     "user_tz": -300
    },
    "id": "c6eed0db",
    "outputId": "f5e9945f-d44a-4b15-e909-9a6f8a46fa70"
   },
   "outputs": [
    {
     "name": "stdout",
     "output_type": "stream",
     "text": [
      "<class 'pandas.core.frame.DataFrame'>\n",
      "RangeIndex: 90 entries, 0 to 89\n",
      "Data columns (total 2 columns):\n",
      " #   Column      Non-Null Count  Dtype  \n",
      "---  ------      --------------  -----  \n",
      " 0   dt          90 non-null     object \n",
      " 1   spends_usd  90 non-null     float64\n",
      "dtypes: float64(1), object(1)\n",
      "memory usage: 1.5+ KB\n"
     ]
    }
   ],
   "source": [
    "spends.info()"
   ]
  },
  {
   "cell_type": "code",
   "execution_count": 25,
   "id": "44b0d161",
   "metadata": {
    "id": "44b0d161"
   },
   "outputs": [],
   "source": [
    "# date to datetime\n",
    "logins['login_dt'] = pd.to_datetime(logins['login_dt'], format='%Y-%m-%d')\n",
    "revenue['pay_dt'] = pd.to_datetime(revenue['pay_dt'], format='%Y-%m-%d')\n",
    "users['dt'] = pd.to_datetime(users['dt'], format='%Y-%m-%d')\n",
    "spends['dt'] = pd.to_datetime(spends['dt'], format='%Y-%m-%d')"
   ]
  },
  {
   "cell_type": "markdown",
   "id": "8620fb92",
   "metadata": {
    "id": "8620fb92"
   },
   "source": [
    "### 1. Users"
   ]
  },
  {
   "cell_type": "code",
   "execution_count": 26,
   "id": "f3c45fb5",
   "metadata": {
    "id": "f3c45fb5",
    "outputId": "3a431dfb-4829-485d-d709-23ee907769ec"
   },
   "outputs": [
    {
     "data": {
      "text/plain": [
       "True"
      ]
     },
     "execution_count": 26,
     "metadata": {},
     "output_type": "execute_result"
    }
   ],
   "source": [
    "# No dubles in the users table\n",
    "len(users) == len(users['id'].unique())"
   ]
  },
  {
   "cell_type": "code",
   "execution_count": 27,
   "id": "026507f5",
   "metadata": {
    "id": "026507f5",
    "outputId": "6be047d7-074e-4be6-ae37-60d1e76e87fd"
   },
   "outputs": [
    {
     "name": "stdout",
     "output_type": "stream",
     "text": [
      "2018-01-01 00:00:00\n",
      "2018-03-31 00:00:00\n"
     ]
    }
   ],
   "source": [
    "print(users['dt'].min(), users['dt'].max(), sep='\\n')"
   ]
  },
  {
   "cell_type": "code",
   "execution_count": 28,
   "id": "354f3aba",
   "metadata": {
    "scrolled": false
   },
   "outputs": [
    {
     "data": {
      "image/png": "[encoded data removed]",
      "text/plain": [
       "<Figure size 432x288 with 1 Axes>"
      ]
     },
     "metadata": {
      "needs_background": "light"
     },
     "output_type": "display_data"
    }
   ],
   "source": [
    "users['dt'].hist();"
   ]
  },
  {
   "cell_type": "markdown",
   "id": "e8820c64",
   "metadata": {
    "id": "e8820c64"
   },
   "source": [
    "### 2. Logins"
   ]
  },
  {
   "cell_type": "code",
   "execution_count": 29,
   "id": "c073c786",
   "metadata": {
    "executionInfo": {
     "elapsed": 2822,
     "status": "aborted",
     "timestamp": 1665201044022,
     "user": {
      "displayName": "Dmitry Egoshin",
      "userId": "14725791403337399112"
     },
     "user_tz": -300
    },
    "id": "c073c786",
    "outputId": "68cfd5c3-c777-4c7c-dd0d-04b90d13f0f7"
   },
   "outputs": [
    {
     "data": {
      "text/html": [
       "<div>\n",
       "<style scoped>\n",
       "    .dataframe tbody tr th:only-of-type {\n",
       "        vertical-align: middle;\n",
       "    }\n",
       "\n",
       "    .dataframe tbody tr th {\n",
       "        vertical-align: top;\n",
       "    }\n",
       "\n",
       "    .dataframe thead th {\n",
       "        text-align: right;\n",
       "    }\n",
       "</style>\n",
       "<table border=\"1\" class=\"dataframe\">\n",
       "  <thead>\n",
       "    <tr style=\"text-align: right;\">\n",
       "      <th></th>\n",
       "      <th>login_dt</th>\n",
       "      <th>id</th>\n",
       "    </tr>\n",
       "  </thead>\n",
       "  <tbody>\n",
       "    <tr>\n",
       "      <th>0</th>\n",
       "      <td>2018-01-01</td>\n",
       "      <td>1</td>\n",
       "    </tr>\n",
       "    <tr>\n",
       "      <th>1</th>\n",
       "      <td>2018-01-01</td>\n",
       "      <td>2</td>\n",
       "    </tr>\n",
       "    <tr>\n",
       "      <th>2</th>\n",
       "      <td>2018-01-01</td>\n",
       "      <td>3</td>\n",
       "    </tr>\n",
       "    <tr>\n",
       "      <th>3</th>\n",
       "      <td>2018-01-01</td>\n",
       "      <td>4</td>\n",
       "    </tr>\n",
       "    <tr>\n",
       "      <th>4</th>\n",
       "      <td>2018-01-01</td>\n",
       "      <td>5</td>\n",
       "    </tr>\n",
       "  </tbody>\n",
       "</table>\n",
       "</div>"
      ],
      "text/plain": [
       "    login_dt  id\n",
       "0 2018-01-01   1\n",
       "1 2018-01-01   2\n",
       "2 2018-01-01   3\n",
       "3 2018-01-01   4\n",
       "4 2018-01-01   5"
      ]
     },
     "execution_count": 29,
     "metadata": {},
     "output_type": "execute_result"
    }
   ],
   "source": [
    "logins.head()"
   ]
  },
  {
   "cell_type": "code",
   "execution_count": 30,
   "id": "63cdd447",
   "metadata": {
    "executionInfo": {
     "elapsed": 2820,
     "status": "aborted",
     "timestamp": 1665201044024,
     "user": {
      "displayName": "Dmitry Egoshin",
      "userId": "14725791403337399112"
     },
     "user_tz": -300
    },
    "id": "63cdd447",
    "outputId": "e06b57ed-daed-4267-ea25-2d6541b0d193"
   },
   "outputs": [
    {
     "name": "stdout",
     "output_type": "stream",
     "text": [
      "2018-01-01 00:00:00\n",
      "2018-06-29 00:00:00\n"
     ]
    }
   ],
   "source": [
    "print(logins['login_dt'].min(), logins['login_dt'].max(), sep='\\n')"
   ]
  },
  {
   "cell_type": "code",
   "execution_count": 31,
   "id": "3477c035",
   "metadata": {
    "executionInfo": {
     "elapsed": 2812,
     "status": "aborted",
     "timestamp": 1665201044026,
     "user": {
      "displayName": "Dmitry Egoshin",
      "userId": "14725791403337399112"
     },
     "user_tz": -300
    },
    "id": "3477c035",
    "outputId": "513abc9b-9fa1-4011-cd2d-8a7085a8e8b6"
   },
   "outputs": [
    {
     "data": {
      "image/png": "[encoded data removed]",
      "text/plain": [
       "<Figure size 432x288 with 1 Axes>"
      ]
     },
     "metadata": {
      "needs_background": "light"
     },
     "output_type": "display_data"
    }
   ],
   "source": [
    "logins['login_dt'].hist();"
   ]
  },
  {
   "cell_type": "code",
   "execution_count": 32,
   "id": "aa7370f1",
   "metadata": {
    "executionInfo": {
     "elapsed": 2808,
     "status": "aborted",
     "timestamp": 1665201044026,
     "user": {
      "displayName": "Dmitry Egoshin",
      "userId": "14725791403337399112"
     },
     "user_tz": -300
    },
    "id": "aa7370f1",
    "outputId": "73b792c6-878a-4af1-f9ae-2e45a62cd626"
   },
   "outputs": [
    {
     "data": {
      "text/plain": [
       "102554    40\n",
       "130669    38\n",
       "20697     38\n",
       "81695     38\n",
       "70468     37\n",
       "          ..\n",
       "40326      1\n",
       "41551      1\n",
       "33358      1\n",
       "40931      1\n",
       "32554      1\n",
       "Name: id, Length: 161435, dtype: int64"
      ]
     },
     "execution_count": 32,
     "metadata": {},
     "output_type": "execute_result"
    }
   ],
   "source": [
    "# users with lots of registrations - looks strange\n",
    "logins['id'].value_counts()"
   ]
  },
  {
   "cell_type": "markdown",
   "id": "8f247a62",
   "metadata": {
    "id": "8f247a62"
   },
   "source": [
    "### 3. Revenue"
   ]
  },
  {
   "cell_type": "code",
   "execution_count": 33,
   "id": "7433484e",
   "metadata": {
    "executionInfo": {
     "elapsed": 2793,
     "status": "aborted",
     "timestamp": 1665201044027,
     "user": {
      "displayName": "Dmitry Egoshin",
      "userId": "14725791403337399112"
     },
     "user_tz": -300
    },
    "id": "7433484e",
    "outputId": "7af1c9e6-3a71-400c-8bb5-b310ee2cba24"
   },
   "outputs": [
    {
     "name": "stdout",
     "output_type": "stream",
     "text": [
      "2018-01-01 00:00:00\n",
      "2018-06-26 00:00:00\n"
     ]
    }
   ],
   "source": [
    "print(revenue['pay_dt'].min(), revenue['pay_dt'].max(), sep='\\n')"
   ]
  },
  {
   "cell_type": "code",
   "execution_count": 34,
   "id": "8495e4e2",
   "metadata": {
    "id": "8495e4e2"
   },
   "outputs": [],
   "source": [
    "revenue['pay_month'] = revenue['pay_dt'].dt.month"
   ]
  },
  {
   "cell_type": "code",
   "execution_count": 35,
   "id": "1d1c1dcd",
   "metadata": {
    "executionInfo": {
     "elapsed": 2781,
     "status": "aborted",
     "timestamp": 1665201044028,
     "user": {
      "displayName": "Dmitry Egoshin",
      "userId": "14725791403337399112"
     },
     "user_tz": -300
    },
    "id": "1d1c1dcd",
    "outputId": "6332dca6-7def-4a27-9260-cc69e0b3ec02"
   },
   "outputs": [
    {
     "data": {
      "text/html": [
       "<div>\n",
       "<style scoped>\n",
       "    .dataframe tbody tr th:only-of-type {\n",
       "        vertical-align: middle;\n",
       "    }\n",
       "\n",
       "    .dataframe tbody tr th {\n",
       "        vertical-align: top;\n",
       "    }\n",
       "\n",
       "    .dataframe thead th {\n",
       "        text-align: right;\n",
       "    }\n",
       "</style>\n",
       "<table border=\"1\" class=\"dataframe\">\n",
       "  <thead>\n",
       "    <tr style=\"text-align: right;\">\n",
       "      <th></th>\n",
       "      <th>pay_dt</th>\n",
       "      <th>id</th>\n",
       "      <th>revenue</th>\n",
       "      <th>currency</th>\n",
       "      <th>pay_month</th>\n",
       "    </tr>\n",
       "  </thead>\n",
       "  <tbody>\n",
       "    <tr>\n",
       "      <th>0</th>\n",
       "      <td>2018-01-01</td>\n",
       "      <td>186</td>\n",
       "      <td>64.910968</td>\n",
       "      <td>RUB</td>\n",
       "      <td>1</td>\n",
       "    </tr>\n",
       "    <tr>\n",
       "      <th>1</th>\n",
       "      <td>2018-01-01</td>\n",
       "      <td>393</td>\n",
       "      <td>1.070690</td>\n",
       "      <td>USD</td>\n",
       "      <td>1</td>\n",
       "    </tr>\n",
       "    <tr>\n",
       "      <th>2</th>\n",
       "      <td>2018-01-02</td>\n",
       "      <td>305</td>\n",
       "      <td>0.249002</td>\n",
       "      <td>EUR</td>\n",
       "      <td>1</td>\n",
       "    </tr>\n",
       "    <tr>\n",
       "      <th>3</th>\n",
       "      <td>2018-01-02</td>\n",
       "      <td>358</td>\n",
       "      <td>0.314238</td>\n",
       "      <td>USD</td>\n",
       "      <td>1</td>\n",
       "    </tr>\n",
       "    <tr>\n",
       "      <th>4</th>\n",
       "      <td>2018-01-02</td>\n",
       "      <td>2256</td>\n",
       "      <td>0.555161</td>\n",
       "      <td>USD</td>\n",
       "      <td>1</td>\n",
       "    </tr>\n",
       "  </tbody>\n",
       "</table>\n",
       "</div>"
      ],
      "text/plain": [
       "      pay_dt    id    revenue currency  pay_month\n",
       "0 2018-01-01   186  64.910968      RUB          1\n",
       "1 2018-01-01   393   1.070690      USD          1\n",
       "2 2018-01-02   305   0.249002      EUR          1\n",
       "3 2018-01-02   358   0.314238      USD          1\n",
       "4 2018-01-02  2256   0.555161      USD          1"
      ]
     },
     "execution_count": 35,
     "metadata": {},
     "output_type": "execute_result"
    }
   ],
   "source": [
    "revenue.head()"
   ]
  },
  {
   "cell_type": "code",
   "execution_count": 36,
   "id": "7277992a",
   "metadata": {
    "executionInfo": {
     "elapsed": 2771,
     "status": "aborted",
     "timestamp": 1665201044029,
     "user": {
      "displayName": "Dmitry Egoshin",
      "userId": "14725791403337399112"
     },
     "user_tz": -300
    },
    "id": "7277992a",
    "outputId": "7d09887a-fcda-444b-8d4b-fc59df639301"
   },
   "outputs": [
    {
     "data": {
      "image/png": "[encoded data removed]",
      "text/plain": [
       "<Figure size 432x288 with 1 Axes>"
      ]
     },
     "metadata": {
      "needs_background": "light"
     },
     "output_type": "display_data"
    }
   ],
   "source": [
    "revenue['revenue'].hist();"
   ]
  },
  {
   "cell_type": "code",
   "execution_count": 37,
   "id": "e1404d78",
   "metadata": {
    "id": "e1404d78",
    "outputId": "acc0321d-b7d4-45d4-a00e-dfce3dfbddcb"
   },
   "outputs": [
    {
     "data": {
      "text/html": [
       "<div>\n",
       "<style scoped>\n",
       "    .dataframe tbody tr th:only-of-type {\n",
       "        vertical-align: middle;\n",
       "    }\n",
       "\n",
       "    .dataframe tbody tr th {\n",
       "        vertical-align: top;\n",
       "    }\n",
       "\n",
       "    .dataframe thead th {\n",
       "        text-align: right;\n",
       "    }\n",
       "</style>\n",
       "<table border=\"1\" class=\"dataframe\">\n",
       "  <thead>\n",
       "    <tr style=\"text-align: right;\">\n",
       "      <th></th>\n",
       "      <th>count</th>\n",
       "      <th>median</th>\n",
       "      <th>mean</th>\n",
       "      <th>sum</th>\n",
       "    </tr>\n",
       "    <tr>\n",
       "      <th>pay_month</th>\n",
       "      <th></th>\n",
       "      <th></th>\n",
       "      <th></th>\n",
       "      <th></th>\n",
       "    </tr>\n",
       "  </thead>\n",
       "  <tbody>\n",
       "    <tr>\n",
       "      <th>1</th>\n",
       "      <td>662</td>\n",
       "      <td>1.395536</td>\n",
       "      <td>17.344072</td>\n",
       "      <td>11481.775390</td>\n",
       "    </tr>\n",
       "    <tr>\n",
       "      <th>2</th>\n",
       "      <td>1044</td>\n",
       "      <td>1.376848</td>\n",
       "      <td>19.507920</td>\n",
       "      <td>20366.268628</td>\n",
       "    </tr>\n",
       "    <tr>\n",
       "      <th>3</th>\n",
       "      <td>1335</td>\n",
       "      <td>1.384963</td>\n",
       "      <td>27.540351</td>\n",
       "      <td>36766.368954</td>\n",
       "    </tr>\n",
       "    <tr>\n",
       "      <th>4</th>\n",
       "      <td>755</td>\n",
       "      <td>1.165449</td>\n",
       "      <td>23.141449</td>\n",
       "      <td>17471.794098</td>\n",
       "    </tr>\n",
       "    <tr>\n",
       "      <th>5</th>\n",
       "      <td>226</td>\n",
       "      <td>1.196274</td>\n",
       "      <td>21.096121</td>\n",
       "      <td>4767.723384</td>\n",
       "    </tr>\n",
       "    <tr>\n",
       "      <th>6</th>\n",
       "      <td>30</td>\n",
       "      <td>1.568015</td>\n",
       "      <td>14.584510</td>\n",
       "      <td>437.535306</td>\n",
       "    </tr>\n",
       "  </tbody>\n",
       "</table>\n",
       "</div>"
      ],
      "text/plain": [
       "           count    median       mean           sum\n",
       "pay_month                                          \n",
       "1            662  1.395536  17.344072  11481.775390\n",
       "2           1044  1.376848  19.507920  20366.268628\n",
       "3           1335  1.384963  27.540351  36766.368954\n",
       "4            755  1.165449  23.141449  17471.794098\n",
       "5            226  1.196274  21.096121   4767.723384\n",
       "6             30  1.568015  14.584510    437.535306"
      ]
     },
     "execution_count": 37,
     "metadata": {},
     "output_type": "execute_result"
    }
   ],
   "source": [
    "revenue.groupby('pay_month')['revenue'].agg({'sum', 'count', 'mean', 'median'})"
   ]
  },
  {
   "cell_type": "code",
   "execution_count": 38,
   "id": "9ca89ba5",
   "metadata": {
    "id": "9ca89ba5"
   },
   "outputs": [],
   "source": [
    "r = revenue.groupby('pay_dt')['revenue'].agg({'sum', 'count', 'mean', 'median'})"
   ]
  },
  {
   "cell_type": "code",
   "execution_count": 39,
   "id": "0592a242",
   "metadata": {
    "executionInfo": {
     "elapsed": 2763,
     "status": "aborted",
     "timestamp": 1665201044033,
     "user": {
      "displayName": "Dmitry Egoshin",
      "userId": "14725791403337399112"
     },
     "user_tz": -300
    },
    "id": "0592a242",
    "outputId": "bbec80a1-c148-4c00-f66d-5ea648658d6c"
   },
   "outputs": [
    {
     "data": {
      "text/html": [
       "<div>\n",
       "<style scoped>\n",
       "    .dataframe tbody tr th:only-of-type {\n",
       "        vertical-align: middle;\n",
       "    }\n",
       "\n",
       "    .dataframe tbody tr th {\n",
       "        vertical-align: top;\n",
       "    }\n",
       "\n",
       "    .dataframe thead th {\n",
       "        text-align: right;\n",
       "    }\n",
       "</style>\n",
       "<table border=\"1\" class=\"dataframe\">\n",
       "  <thead>\n",
       "    <tr style=\"text-align: right;\">\n",
       "      <th></th>\n",
       "      <th>count</th>\n",
       "      <th>median</th>\n",
       "      <th>mean</th>\n",
       "      <th>sum</th>\n",
       "    </tr>\n",
       "    <tr>\n",
       "      <th>pay_dt</th>\n",
       "      <th></th>\n",
       "      <th></th>\n",
       "      <th></th>\n",
       "      <th></th>\n",
       "    </tr>\n",
       "  </thead>\n",
       "  <tbody>\n",
       "    <tr>\n",
       "      <th>2018-01-01</th>\n",
       "      <td>2</td>\n",
       "      <td>32.990829</td>\n",
       "      <td>32.990829</td>\n",
       "      <td>65.981658</td>\n",
       "    </tr>\n",
       "    <tr>\n",
       "      <th>2018-01-02</th>\n",
       "      <td>6</td>\n",
       "      <td>0.550709</td>\n",
       "      <td>0.905672</td>\n",
       "      <td>5.434031</td>\n",
       "    </tr>\n",
       "    <tr>\n",
       "      <th>2018-01-03</th>\n",
       "      <td>9</td>\n",
       "      <td>1.493682</td>\n",
       "      <td>64.166250</td>\n",
       "      <td>577.496253</td>\n",
       "    </tr>\n",
       "    <tr>\n",
       "      <th>2018-01-04</th>\n",
       "      <td>8</td>\n",
       "      <td>0.978642</td>\n",
       "      <td>19.009513</td>\n",
       "      <td>152.076106</td>\n",
       "    </tr>\n",
       "    <tr>\n",
       "      <th>2018-01-05</th>\n",
       "      <td>7</td>\n",
       "      <td>10.918723</td>\n",
       "      <td>18.655423</td>\n",
       "      <td>130.587963</td>\n",
       "    </tr>\n",
       "    <tr>\n",
       "      <th>...</th>\n",
       "      <td>...</td>\n",
       "      <td>...</td>\n",
       "      <td>...</td>\n",
       "      <td>...</td>\n",
       "    </tr>\n",
       "    <tr>\n",
       "      <th>2018-06-15</th>\n",
       "      <td>1</td>\n",
       "      <td>4.101767</td>\n",
       "      <td>4.101767</td>\n",
       "      <td>4.101767</td>\n",
       "    </tr>\n",
       "    <tr>\n",
       "      <th>2018-06-18</th>\n",
       "      <td>2</td>\n",
       "      <td>16.071752</td>\n",
       "      <td>16.071752</td>\n",
       "      <td>32.143505</td>\n",
       "    </tr>\n",
       "    <tr>\n",
       "      <th>2018-06-20</th>\n",
       "      <td>2</td>\n",
       "      <td>0.686383</td>\n",
       "      <td>0.686383</td>\n",
       "      <td>1.372765</td>\n",
       "    </tr>\n",
       "    <tr>\n",
       "      <th>2018-06-23</th>\n",
       "      <td>2</td>\n",
       "      <td>1.087320</td>\n",
       "      <td>1.087320</td>\n",
       "      <td>2.174640</td>\n",
       "    </tr>\n",
       "    <tr>\n",
       "      <th>2018-06-26</th>\n",
       "      <td>1</td>\n",
       "      <td>0.616869</td>\n",
       "      <td>0.616869</td>\n",
       "      <td>0.616869</td>\n",
       "    </tr>\n",
       "  </tbody>\n",
       "</table>\n",
       "<p>169 rows × 4 columns</p>\n",
       "</div>"
      ],
      "text/plain": [
       "            count     median       mean         sum\n",
       "pay_dt                                             \n",
       "2018-01-01      2  32.990829  32.990829   65.981658\n",
       "2018-01-02      6   0.550709   0.905672    5.434031\n",
       "2018-01-03      9   1.493682  64.166250  577.496253\n",
       "2018-01-04      8   0.978642  19.009513  152.076106\n",
       "2018-01-05      7  10.918723  18.655423  130.587963\n",
       "...           ...        ...        ...         ...\n",
       "2018-06-15      1   4.101767   4.101767    4.101767\n",
       "2018-06-18      2  16.071752  16.071752   32.143505\n",
       "2018-06-20      2   0.686383   0.686383    1.372765\n",
       "2018-06-23      2   1.087320   1.087320    2.174640\n",
       "2018-06-26      1   0.616869   0.616869    0.616869\n",
       "\n",
       "[169 rows x 4 columns]"
      ]
     },
     "execution_count": 39,
     "metadata": {},
     "output_type": "execute_result"
    }
   ],
   "source": [
    "r"
   ]
  },
  {
   "cell_type": "code",
   "execution_count": 40,
   "id": "99cfe550",
   "metadata": {
    "id": "99cfe550",
    "outputId": "8dda0529-43aa-4f6d-c50d-086986177276"
   },
   "outputs": [
    {
     "data": {
      "image/png": "[encoded data removed]",
      "text/plain": [
       "<Figure size 432x288 with 1 Axes>"
      ]
     },
     "metadata": {
      "needs_background": "light"
     },
     "output_type": "display_data"
    }
   ],
   "source": [
    "r['sum'].plot();"
   ]
  },
  {
   "cell_type": "markdown",
   "id": "8ec7e8f1",
   "metadata": {},
   "source": [
    "#### Different currencies"
   ]
  },
  {
   "cell_type": "markdown",
   "id": "5495563c",
   "metadata": {},
   "source": [
    "It looks like that it doesn't make a lot of sense to do reporting by different currencies without exchanging them to the single one. Because the same users have payments in different currencies in two days, because the RUB values may confuse in value/real revenue in USD way due to the real USD/RUB echange rate, etc. \n",
    "\n",
    "But I will do it in two ways: with and without exchanging."
   ]
  },
  {
   "cell_type": "code",
   "execution_count": 41,
   "id": "b1f33c7d",
   "metadata": {
    "id": "b1f33c7d"
   },
   "outputs": [],
   "source": [
    "t = revenue.groupby('currency')['revenue'].agg({'sum', 'count', 'mean', 'median'})"
   ]
  },
  {
   "cell_type": "code",
   "execution_count": 42,
   "id": "c15db0ec",
   "metadata": {
    "id": "c15db0ec",
    "outputId": "0ae26f33-4807-4a02-f9f2-33ec8afe9d36",
    "scrolled": true
   },
   "outputs": [
    {
     "data": {
      "text/html": [
       "<div>\n",
       "<style scoped>\n",
       "    .dataframe tbody tr th:only-of-type {\n",
       "        vertical-align: middle;\n",
       "    }\n",
       "\n",
       "    .dataframe tbody tr th {\n",
       "        vertical-align: top;\n",
       "    }\n",
       "\n",
       "    .dataframe thead th {\n",
       "        text-align: right;\n",
       "    }\n",
       "</style>\n",
       "<table border=\"1\" class=\"dataframe\">\n",
       "  <thead>\n",
       "    <tr style=\"text-align: right;\">\n",
       "      <th></th>\n",
       "      <th>count</th>\n",
       "      <th>median</th>\n",
       "      <th>mean</th>\n",
       "      <th>sum</th>\n",
       "    </tr>\n",
       "    <tr>\n",
       "      <th>currency</th>\n",
       "      <th></th>\n",
       "      <th></th>\n",
       "      <th></th>\n",
       "      <th></th>\n",
       "    </tr>\n",
       "  </thead>\n",
       "  <tbody>\n",
       "    <tr>\n",
       "      <th>EUR</th>\n",
       "      <td>1192</td>\n",
       "      <td>0.804366</td>\n",
       "      <td>1.427496</td>\n",
       "      <td>1701.574807</td>\n",
       "    </tr>\n",
       "    <tr>\n",
       "      <th>RUB</th>\n",
       "      <td>863</td>\n",
       "      <td>58.352472</td>\n",
       "      <td>99.902995</td>\n",
       "      <td>86216.284741</td>\n",
       "    </tr>\n",
       "    <tr>\n",
       "      <th>USD</th>\n",
       "      <td>1997</td>\n",
       "      <td>1.022201</td>\n",
       "      <td>1.689337</td>\n",
       "      <td>3373.606214</td>\n",
       "    </tr>\n",
       "  </tbody>\n",
       "</table>\n",
       "</div>"
      ],
      "text/plain": [
       "          count     median       mean           sum\n",
       "currency                                           \n",
       "EUR        1192   0.804366   1.427496   1701.574807\n",
       "RUB         863  58.352472  99.902995  86216.284741\n",
       "USD        1997   1.022201   1.689337   3373.606214"
      ]
     },
     "execution_count": 42,
     "metadata": {},
     "output_type": "execute_result"
    }
   ],
   "source": [
    "t"
   ]
  },
  {
   "cell_type": "code",
   "execution_count": 43,
   "id": "6254cc22",
   "metadata": {},
   "outputs": [
    {
     "data": {
      "text/html": [
       "<div>\n",
       "<style scoped>\n",
       "    .dataframe tbody tr th:only-of-type {\n",
       "        vertical-align: middle;\n",
       "    }\n",
       "\n",
       "    .dataframe tbody tr th {\n",
       "        vertical-align: top;\n",
       "    }\n",
       "\n",
       "    .dataframe thead th {\n",
       "        text-align: right;\n",
       "    }\n",
       "</style>\n",
       "<table border=\"1\" class=\"dataframe\">\n",
       "  <thead>\n",
       "    <tr style=\"text-align: right;\">\n",
       "      <th></th>\n",
       "      <th>pay_dt</th>\n",
       "      <th>id</th>\n",
       "      <th>revenue</th>\n",
       "      <th>currency</th>\n",
       "      <th>pay_month</th>\n",
       "    </tr>\n",
       "  </thead>\n",
       "  <tbody>\n",
       "    <tr>\n",
       "      <th>0</th>\n",
       "      <td>2018-01-01</td>\n",
       "      <td>186</td>\n",
       "      <td>64.910968</td>\n",
       "      <td>RUB</td>\n",
       "      <td>1</td>\n",
       "    </tr>\n",
       "    <tr>\n",
       "      <th>1</th>\n",
       "      <td>2018-01-01</td>\n",
       "      <td>393</td>\n",
       "      <td>1.070690</td>\n",
       "      <td>USD</td>\n",
       "      <td>1</td>\n",
       "    </tr>\n",
       "    <tr>\n",
       "      <th>2</th>\n",
       "      <td>2018-01-02</td>\n",
       "      <td>305</td>\n",
       "      <td>0.249002</td>\n",
       "      <td>EUR</td>\n",
       "      <td>1</td>\n",
       "    </tr>\n",
       "    <tr>\n",
       "      <th>3</th>\n",
       "      <td>2018-01-02</td>\n",
       "      <td>358</td>\n",
       "      <td>0.314238</td>\n",
       "      <td>USD</td>\n",
       "      <td>1</td>\n",
       "    </tr>\n",
       "    <tr>\n",
       "      <th>4</th>\n",
       "      <td>2018-01-02</td>\n",
       "      <td>2256</td>\n",
       "      <td>0.555161</td>\n",
       "      <td>USD</td>\n",
       "      <td>1</td>\n",
       "    </tr>\n",
       "    <tr>\n",
       "      <th>...</th>\n",
       "      <td>...</td>\n",
       "      <td>...</td>\n",
       "      <td>...</td>\n",
       "      <td>...</td>\n",
       "      <td>...</td>\n",
       "    </tr>\n",
       "    <tr>\n",
       "      <th>4047</th>\n",
       "      <td>2018-06-20</td>\n",
       "      <td>149309</td>\n",
       "      <td>0.656961</td>\n",
       "      <td>USD</td>\n",
       "      <td>6</td>\n",
       "    </tr>\n",
       "    <tr>\n",
       "      <th>4048</th>\n",
       "      <td>2018-06-20</td>\n",
       "      <td>153857</td>\n",
       "      <td>0.715804</td>\n",
       "      <td>EUR</td>\n",
       "      <td>6</td>\n",
       "    </tr>\n",
       "    <tr>\n",
       "      <th>4049</th>\n",
       "      <td>2018-06-23</td>\n",
       "      <td>155881</td>\n",
       "      <td>1.789419</td>\n",
       "      <td>USD</td>\n",
       "      <td>6</td>\n",
       "    </tr>\n",
       "    <tr>\n",
       "      <th>4050</th>\n",
       "      <td>2018-06-23</td>\n",
       "      <td>157399</td>\n",
       "      <td>0.385221</td>\n",
       "      <td>EUR</td>\n",
       "      <td>6</td>\n",
       "    </tr>\n",
       "    <tr>\n",
       "      <th>4051</th>\n",
       "      <td>2018-06-26</td>\n",
       "      <td>160737</td>\n",
       "      <td>0.616869</td>\n",
       "      <td>USD</td>\n",
       "      <td>6</td>\n",
       "    </tr>\n",
       "  </tbody>\n",
       "</table>\n",
       "<p>4052 rows × 5 columns</p>\n",
       "</div>"
      ],
      "text/plain": [
       "         pay_dt      id    revenue currency  pay_month\n",
       "0    2018-01-01     186  64.910968      RUB          1\n",
       "1    2018-01-01     393   1.070690      USD          1\n",
       "2    2018-01-02     305   0.249002      EUR          1\n",
       "3    2018-01-02     358   0.314238      USD          1\n",
       "4    2018-01-02    2256   0.555161      USD          1\n",
       "...         ...     ...        ...      ...        ...\n",
       "4047 2018-06-20  149309   0.656961      USD          6\n",
       "4048 2018-06-20  153857   0.715804      EUR          6\n",
       "4049 2018-06-23  155881   1.789419      USD          6\n",
       "4050 2018-06-23  157399   0.385221      EUR          6\n",
       "4051 2018-06-26  160737   0.616869      USD          6\n",
       "\n",
       "[4052 rows x 5 columns]"
      ]
     },
     "execution_count": 43,
     "metadata": {},
     "output_type": "execute_result"
    }
   ],
   "source": [
    "revenue"
   ]
  },
  {
   "cell_type": "code",
   "execution_count": 44,
   "id": "f2c66e3b",
   "metadata": {
    "id": "f2c66e3b"
   },
   "outputs": [],
   "source": [
    "r = revenue.groupby(['pay_month', 'currency'])[['revenue']].agg({'sum', 'count', 'mean'}).reset_index()"
   ]
  },
  {
   "cell_type": "code",
   "execution_count": 45,
   "id": "f3a3c778",
   "metadata": {
    "id": "f3a3c778",
    "outputId": "57bf6aac-1985-486c-f2fb-ceda7cdbe04c"
   },
   "outputs": [
    {
     "data": {
      "text/html": [
       "<div>\n",
       "<style scoped>\n",
       "    .dataframe tbody tr th:only-of-type {\n",
       "        vertical-align: middle;\n",
       "    }\n",
       "\n",
       "    .dataframe tbody tr th {\n",
       "        vertical-align: top;\n",
       "    }\n",
       "\n",
       "    .dataframe thead tr th {\n",
       "        text-align: left;\n",
       "    }\n",
       "</style>\n",
       "<table border=\"1\" class=\"dataframe\">\n",
       "  <thead>\n",
       "    <tr>\n",
       "      <th></th>\n",
       "      <th>pay_month</th>\n",
       "      <th>currency</th>\n",
       "      <th colspan=\"3\" halign=\"left\">revenue</th>\n",
       "    </tr>\n",
       "    <tr>\n",
       "      <th></th>\n",
       "      <th></th>\n",
       "      <th></th>\n",
       "      <th>count</th>\n",
       "      <th>mean</th>\n",
       "      <th>sum</th>\n",
       "    </tr>\n",
       "  </thead>\n",
       "  <tbody>\n",
       "    <tr>\n",
       "      <th>0</th>\n",
       "      <td>1</td>\n",
       "      <td>EUR</td>\n",
       "      <td>212</td>\n",
       "      <td>1.473344</td>\n",
       "      <td>312.348891</td>\n",
       "    </tr>\n",
       "    <tr>\n",
       "      <th>1</th>\n",
       "      <td>1</td>\n",
       "      <td>RUB</td>\n",
       "      <td>123</td>\n",
       "      <td>86.221462</td>\n",
       "      <td>10605.239836</td>\n",
       "    </tr>\n",
       "    <tr>\n",
       "      <th>2</th>\n",
       "      <td>1</td>\n",
       "      <td>USD</td>\n",
       "      <td>327</td>\n",
       "      <td>1.725341</td>\n",
       "      <td>564.186664</td>\n",
       "    </tr>\n",
       "    <tr>\n",
       "      <th>3</th>\n",
       "      <td>2</td>\n",
       "      <td>EUR</td>\n",
       "      <td>304</td>\n",
       "      <td>1.427443</td>\n",
       "      <td>433.942737</td>\n",
       "    </tr>\n",
       "    <tr>\n",
       "      <th>4</th>\n",
       "      <td>2</td>\n",
       "      <td>RUB</td>\n",
       "      <td>229</td>\n",
       "      <td>83.084287</td>\n",
       "      <td>19026.301757</td>\n",
       "    </tr>\n",
       "    <tr>\n",
       "      <th>5</th>\n",
       "      <td>2</td>\n",
       "      <td>USD</td>\n",
       "      <td>511</td>\n",
       "      <td>1.773041</td>\n",
       "      <td>906.024134</td>\n",
       "    </tr>\n",
       "    <tr>\n",
       "      <th>6</th>\n",
       "      <td>3</td>\n",
       "      <td>EUR</td>\n",
       "      <td>399</td>\n",
       "      <td>1.422468</td>\n",
       "      <td>567.564726</td>\n",
       "    </tr>\n",
       "    <tr>\n",
       "      <th>7</th>\n",
       "      <td>3</td>\n",
       "      <td>RUB</td>\n",
       "      <td>296</td>\n",
       "      <td>118.745044</td>\n",
       "      <td>35148.533121</td>\n",
       "    </tr>\n",
       "    <tr>\n",
       "      <th>8</th>\n",
       "      <td>3</td>\n",
       "      <td>USD</td>\n",
       "      <td>640</td>\n",
       "      <td>1.641049</td>\n",
       "      <td>1050.271107</td>\n",
       "    </tr>\n",
       "    <tr>\n",
       "      <th>9</th>\n",
       "      <td>4</td>\n",
       "      <td>EUR</td>\n",
       "      <td>202</td>\n",
       "      <td>1.412268</td>\n",
       "      <td>285.278112</td>\n",
       "    </tr>\n",
       "    <tr>\n",
       "      <th>10</th>\n",
       "      <td>4</td>\n",
       "      <td>RUB</td>\n",
       "      <td>158</td>\n",
       "      <td>105.004647</td>\n",
       "      <td>16590.734165</td>\n",
       "    </tr>\n",
       "    <tr>\n",
       "      <th>11</th>\n",
       "      <td>4</td>\n",
       "      <td>USD</td>\n",
       "      <td>395</td>\n",
       "      <td>1.508308</td>\n",
       "      <td>595.781821</td>\n",
       "    </tr>\n",
       "    <tr>\n",
       "      <th>12</th>\n",
       "      <td>5</td>\n",
       "      <td>EUR</td>\n",
       "      <td>68</td>\n",
       "      <td>1.345494</td>\n",
       "      <td>91.493604</td>\n",
       "    </tr>\n",
       "    <tr>\n",
       "      <th>13</th>\n",
       "      <td>5</td>\n",
       "      <td>RUB</td>\n",
       "      <td>52</td>\n",
       "      <td>85.532002</td>\n",
       "      <td>4447.664092</td>\n",
       "    </tr>\n",
       "    <tr>\n",
       "      <th>14</th>\n",
       "      <td>5</td>\n",
       "      <td>USD</td>\n",
       "      <td>106</td>\n",
       "      <td>2.156280</td>\n",
       "      <td>228.565688</td>\n",
       "    </tr>\n",
       "    <tr>\n",
       "      <th>15</th>\n",
       "      <td>6</td>\n",
       "      <td>EUR</td>\n",
       "      <td>7</td>\n",
       "      <td>1.563819</td>\n",
       "      <td>10.946736</td>\n",
       "    </tr>\n",
       "    <tr>\n",
       "      <th>16</th>\n",
       "      <td>6</td>\n",
       "      <td>RUB</td>\n",
       "      <td>5</td>\n",
       "      <td>79.562354</td>\n",
       "      <td>397.811770</td>\n",
       "    </tr>\n",
       "    <tr>\n",
       "      <th>17</th>\n",
       "      <td>6</td>\n",
       "      <td>USD</td>\n",
       "      <td>18</td>\n",
       "      <td>1.598711</td>\n",
       "      <td>28.776800</td>\n",
       "    </tr>\n",
       "  </tbody>\n",
       "</table>\n",
       "</div>"
      ],
      "text/plain": [
       "   pay_month currency revenue                          \n",
       "                        count        mean           sum\n",
       "0          1      EUR     212    1.473344    312.348891\n",
       "1          1      RUB     123   86.221462  10605.239836\n",
       "2          1      USD     327    1.725341    564.186664\n",
       "3          2      EUR     304    1.427443    433.942737\n",
       "4          2      RUB     229   83.084287  19026.301757\n",
       "5          2      USD     511    1.773041    906.024134\n",
       "6          3      EUR     399    1.422468    567.564726\n",
       "7          3      RUB     296  118.745044  35148.533121\n",
       "8          3      USD     640    1.641049   1050.271107\n",
       "9          4      EUR     202    1.412268    285.278112\n",
       "10         4      RUB     158  105.004647  16590.734165\n",
       "11         4      USD     395    1.508308    595.781821\n",
       "12         5      EUR      68    1.345494     91.493604\n",
       "13         5      RUB      52   85.532002   4447.664092\n",
       "14         5      USD     106    2.156280    228.565688\n",
       "15         6      EUR       7    1.563819     10.946736\n",
       "16         6      RUB       5   79.562354    397.811770\n",
       "17         6      USD      18    1.598711     28.776800"
      ]
     },
     "execution_count": 45,
     "metadata": {},
     "output_type": "execute_result"
    }
   ],
   "source": [
    "r"
   ]
  },
  {
   "cell_type": "code",
   "execution_count": 46,
   "id": "e6d5ade8",
   "metadata": {},
   "outputs": [],
   "source": [
    "r = revenue.groupby(['pay_month', 'currency'])['revenue'].agg({'sum', 'count', 'mean'}).reset_index()"
   ]
  },
  {
   "cell_type": "code",
   "execution_count": 47,
   "id": "885d3782",
   "metadata": {
    "id": "885d3782",
    "outputId": "2c74a574-1d3d-418d-a78a-8a276fc9b543"
   },
   "outputs": [
    {
     "data": {
      "image/png": "[encoded data removed]",
      "text/plain": [
       "<Figure size 432x288 with 1 Axes>"
      ]
     },
     "metadata": {
      "needs_background": "light"
     },
     "output_type": "display_data"
    }
   ],
   "source": [
    "# sum of transactions/month\n",
    "sns.lineplot(data=r, \n",
    "            x='pay_month',\n",
    "            y='sum',\n",
    "            hue='currency');"
   ]
  },
  {
   "cell_type": "code",
   "execution_count": 48,
   "id": "c66453d5",
   "metadata": {
    "id": "c66453d5",
    "outputId": "50b9ab3a-1f2d-4fa1-dbbf-cddd0e0b6ccd"
   },
   "outputs": [
    {
     "data": {
      "image/png": "[encoded data removed]",
      "text/plain": [
       "<Figure size 432x288 with 1 Axes>"
      ]
     },
     "metadata": {
      "needs_background": "light"
     },
     "output_type": "display_data"
    }
   ],
   "source": [
    "# sum of transactions only for EUR and USD/month\n",
    "sns.lineplot(data=r[(r['currency']=='EUR') | (r['currency']=='USD')], \n",
    "            x='pay_month',\n",
    "            y='sum',\n",
    "            hue='currency');"
   ]
  },
  {
   "cell_type": "code",
   "execution_count": 49,
   "id": "6bd3075b",
   "metadata": {
    "id": "6bd3075b",
    "outputId": "c9a80ff6-79ce-462d-e157-1cb39afb6cc0"
   },
   "outputs": [
    {
     "data": {
      "image/png": "[encoded data removed]",
      "text/plain": [
       "<Figure size 432x288 with 1 Axes>"
      ]
     },
     "metadata": {
      "needs_background": "light"
     },
     "output_type": "display_data"
    }
   ],
   "source": [
    "# number of transactions/month\n",
    "sns.lineplot(data=r, \n",
    "            x='pay_month',\n",
    "            y='count',\n",
    "            hue='currency');"
   ]
  },
  {
   "cell_type": "code",
   "execution_count": 50,
   "id": "d074cd14",
   "metadata": {
    "id": "d074cd14",
    "outputId": "5632c124-1927-4474-a883-8771611688d5"
   },
   "outputs": [
    {
     "data": {
      "image/png": "[encoded data removed]",
      "text/plain": [
       "<Figure size 432x288 with 1 Axes>"
      ]
     },
     "metadata": {
      "needs_background": "light"
     },
     "output_type": "display_data"
    }
   ],
   "source": [
    "# mean revenue changing/month\n",
    "sns.lineplot(data=r, \n",
    "            x='pay_month',\n",
    "            y='mean',\n",
    "            hue='currency');"
   ]
  },
  {
   "cell_type": "code",
   "execution_count": 51,
   "id": "9f382302",
   "metadata": {
    "id": "9f382302",
    "outputId": "0c1fd4f6-4fa4-440c-c80f-1105e33ae45e"
   },
   "outputs": [
    {
     "data": {
      "image/png": "[encoded data removed]",
      "text/plain": [
       "<Figure size 432x288 with 1 Axes>"
      ]
     },
     "metadata": {
      "needs_background": "light"
     },
     "output_type": "display_data"
    }
   ],
   "source": [
    "# mean revenue changing only for EUR and USD/month\n",
    "sns.lineplot(data=r[(r['currency']=='EUR') | (r['currency']=='USD')], \n",
    "            x='pay_month',\n",
    "            y='mean',\n",
    "            hue='currency');"
   ]
  },
  {
   "cell_type": "code",
   "execution_count": 52,
   "id": "ded7986d",
   "metadata": {
    "id": "ded7986d"
   },
   "outputs": [],
   "source": [
    "# user payments/month in different currencies\n",
    "p = revenue.groupby(['pay_month', 'currency'])['id'].agg('count').reset_index()"
   ]
  },
  {
   "cell_type": "code",
   "execution_count": 53,
   "id": "23d10fed",
   "metadata": {
    "id": "23d10fed",
    "outputId": "d0b3aa82-c2fa-4926-91ba-b11c130d095a"
   },
   "outputs": [
    {
     "data": {
      "text/html": [
       "<div>\n",
       "<style scoped>\n",
       "    .dataframe tbody tr th:only-of-type {\n",
       "        vertical-align: middle;\n",
       "    }\n",
       "\n",
       "    .dataframe tbody tr th {\n",
       "        vertical-align: top;\n",
       "    }\n",
       "\n",
       "    .dataframe thead th {\n",
       "        text-align: right;\n",
       "    }\n",
       "</style>\n",
       "<table border=\"1\" class=\"dataframe\">\n",
       "  <thead>\n",
       "    <tr style=\"text-align: right;\">\n",
       "      <th></th>\n",
       "      <th>pay_month</th>\n",
       "      <th>currency</th>\n",
       "      <th>id</th>\n",
       "    </tr>\n",
       "  </thead>\n",
       "  <tbody>\n",
       "    <tr>\n",
       "      <th>0</th>\n",
       "      <td>1</td>\n",
       "      <td>EUR</td>\n",
       "      <td>212</td>\n",
       "    </tr>\n",
       "    <tr>\n",
       "      <th>1</th>\n",
       "      <td>1</td>\n",
       "      <td>RUB</td>\n",
       "      <td>123</td>\n",
       "    </tr>\n",
       "    <tr>\n",
       "      <th>2</th>\n",
       "      <td>1</td>\n",
       "      <td>USD</td>\n",
       "      <td>327</td>\n",
       "    </tr>\n",
       "    <tr>\n",
       "      <th>3</th>\n",
       "      <td>2</td>\n",
       "      <td>EUR</td>\n",
       "      <td>304</td>\n",
       "    </tr>\n",
       "    <tr>\n",
       "      <th>4</th>\n",
       "      <td>2</td>\n",
       "      <td>RUB</td>\n",
       "      <td>229</td>\n",
       "    </tr>\n",
       "    <tr>\n",
       "      <th>5</th>\n",
       "      <td>2</td>\n",
       "      <td>USD</td>\n",
       "      <td>511</td>\n",
       "    </tr>\n",
       "    <tr>\n",
       "      <th>6</th>\n",
       "      <td>3</td>\n",
       "      <td>EUR</td>\n",
       "      <td>399</td>\n",
       "    </tr>\n",
       "    <tr>\n",
       "      <th>7</th>\n",
       "      <td>3</td>\n",
       "      <td>RUB</td>\n",
       "      <td>296</td>\n",
       "    </tr>\n",
       "    <tr>\n",
       "      <th>8</th>\n",
       "      <td>3</td>\n",
       "      <td>USD</td>\n",
       "      <td>640</td>\n",
       "    </tr>\n",
       "    <tr>\n",
       "      <th>9</th>\n",
       "      <td>4</td>\n",
       "      <td>EUR</td>\n",
       "      <td>202</td>\n",
       "    </tr>\n",
       "    <tr>\n",
       "      <th>10</th>\n",
       "      <td>4</td>\n",
       "      <td>RUB</td>\n",
       "      <td>158</td>\n",
       "    </tr>\n",
       "    <tr>\n",
       "      <th>11</th>\n",
       "      <td>4</td>\n",
       "      <td>USD</td>\n",
       "      <td>395</td>\n",
       "    </tr>\n",
       "    <tr>\n",
       "      <th>12</th>\n",
       "      <td>5</td>\n",
       "      <td>EUR</td>\n",
       "      <td>68</td>\n",
       "    </tr>\n",
       "    <tr>\n",
       "      <th>13</th>\n",
       "      <td>5</td>\n",
       "      <td>RUB</td>\n",
       "      <td>52</td>\n",
       "    </tr>\n",
       "    <tr>\n",
       "      <th>14</th>\n",
       "      <td>5</td>\n",
       "      <td>USD</td>\n",
       "      <td>106</td>\n",
       "    </tr>\n",
       "    <tr>\n",
       "      <th>15</th>\n",
       "      <td>6</td>\n",
       "      <td>EUR</td>\n",
       "      <td>7</td>\n",
       "    </tr>\n",
       "    <tr>\n",
       "      <th>16</th>\n",
       "      <td>6</td>\n",
       "      <td>RUB</td>\n",
       "      <td>5</td>\n",
       "    </tr>\n",
       "    <tr>\n",
       "      <th>17</th>\n",
       "      <td>6</td>\n",
       "      <td>USD</td>\n",
       "      <td>18</td>\n",
       "    </tr>\n",
       "  </tbody>\n",
       "</table>\n",
       "</div>"
      ],
      "text/plain": [
       "    pay_month currency   id\n",
       "0           1      EUR  212\n",
       "1           1      RUB  123\n",
       "2           1      USD  327\n",
       "3           2      EUR  304\n",
       "4           2      RUB  229\n",
       "5           2      USD  511\n",
       "6           3      EUR  399\n",
       "7           3      RUB  296\n",
       "8           3      USD  640\n",
       "9           4      EUR  202\n",
       "10          4      RUB  158\n",
       "11          4      USD  395\n",
       "12          5      EUR   68\n",
       "13          5      RUB   52\n",
       "14          5      USD  106\n",
       "15          6      EUR    7\n",
       "16          6      RUB    5\n",
       "17          6      USD   18"
      ]
     },
     "execution_count": 53,
     "metadata": {},
     "output_type": "execute_result"
    }
   ],
   "source": [
    "p"
   ]
  },
  {
   "cell_type": "markdown",
   "id": "74a81980",
   "metadata": {},
   "source": [
    "As we can see further the same user can pay in the different currencies."
   ]
  },
  {
   "cell_type": "code",
   "execution_count": 54,
   "id": "c327a072",
   "metadata": {
    "id": "c327a072",
    "outputId": "1ebe235d-e1f4-4923-92f5-7fbc51f90713"
   },
   "outputs": [
    {
     "data": {
      "image/png": "[encoded data removed]",
      "text/plain": [
       "<Figure size 432x288 with 1 Axes>"
      ]
     },
     "metadata": {
      "needs_background": "light"
     },
     "output_type": "display_data"
    }
   ],
   "source": [
    "# number of paying users/month\n",
    "sns.lineplot(data=p, \n",
    "            x='pay_month',\n",
    "            y='id', \n",
    "            hue='currency');"
   ]
  },
  {
   "cell_type": "code",
   "execution_count": 55,
   "id": "e95bf24e",
   "metadata": {
    "id": "e95bf24e"
   },
   "outputs": [],
   "source": [
    "r = revenue.groupby('id')['revenue'].agg({'sum', 'count'}).sort_values(['count'], ascending=False)"
   ]
  },
  {
   "cell_type": "code",
   "execution_count": 56,
   "id": "9ba7da51",
   "metadata": {
    "id": "9ba7da51",
    "outputId": "5fa2c5ba-ac1d-41a2-b4d8-c73003e1357b"
   },
   "outputs": [
    {
     "data": {
      "text/html": [
       "<div>\n",
       "<style scoped>\n",
       "    .dataframe tbody tr th:only-of-type {\n",
       "        vertical-align: middle;\n",
       "    }\n",
       "\n",
       "    .dataframe tbody tr th {\n",
       "        vertical-align: top;\n",
       "    }\n",
       "\n",
       "    .dataframe thead th {\n",
       "        text-align: right;\n",
       "    }\n",
       "</style>\n",
       "<table border=\"1\" class=\"dataframe\">\n",
       "  <thead>\n",
       "    <tr style=\"text-align: right;\">\n",
       "      <th></th>\n",
       "      <th>count</th>\n",
       "      <th>sum</th>\n",
       "    </tr>\n",
       "    <tr>\n",
       "      <th>id</th>\n",
       "      <th></th>\n",
       "      <th></th>\n",
       "    </tr>\n",
       "  </thead>\n",
       "  <tbody>\n",
       "    <tr>\n",
       "      <th>11372</th>\n",
       "      <td>4</td>\n",
       "      <td>439.508903</td>\n",
       "    </tr>\n",
       "    <tr>\n",
       "      <th>66815</th>\n",
       "      <td>4</td>\n",
       "      <td>5.899996</td>\n",
       "    </tr>\n",
       "    <tr>\n",
       "      <th>45875</th>\n",
       "      <td>4</td>\n",
       "      <td>21.960447</td>\n",
       "    </tr>\n",
       "    <tr>\n",
       "      <th>53625</th>\n",
       "      <td>4</td>\n",
       "      <td>84.121348</td>\n",
       "    </tr>\n",
       "    <tr>\n",
       "      <th>49519</th>\n",
       "      <td>4</td>\n",
       "      <td>3.101208</td>\n",
       "    </tr>\n",
       "  </tbody>\n",
       "</table>\n",
       "</div>"
      ],
      "text/plain": [
       "       count         sum\n",
       "id                      \n",
       "11372      4  439.508903\n",
       "66815      4    5.899996\n",
       "45875      4   21.960447\n",
       "53625      4   84.121348\n",
       "49519      4    3.101208"
      ]
     },
     "execution_count": 56,
     "metadata": {},
     "output_type": "execute_result"
    }
   ],
   "source": [
    "r.head()"
   ]
  },
  {
   "cell_type": "code",
   "execution_count": 57,
   "id": "8bb36d33",
   "metadata": {
    "id": "8bb36d33",
    "outputId": "16adcf91-f146-43d5-bf7b-a1cc1fb78056"
   },
   "outputs": [
    {
     "data": {
      "text/plain": [
       "1.2634861241035236"
      ]
     },
     "execution_count": 57,
     "metadata": {},
     "output_type": "execute_result"
    }
   ],
   "source": [
    "# mean number of transactions/user\n",
    "r['count'].mean()"
   ]
  },
  {
   "cell_type": "code",
   "execution_count": 58,
   "id": "b7078e32",
   "metadata": {
    "id": "b7078e32",
    "outputId": "d1998ca3-576d-4d63-dcfb-921674c31c81"
   },
   "outputs": [
    {
     "data": {
      "text/html": [
       "<div>\n",
       "<style scoped>\n",
       "    .dataframe tbody tr th:only-of-type {\n",
       "        vertical-align: middle;\n",
       "    }\n",
       "\n",
       "    .dataframe tbody tr th {\n",
       "        vertical-align: top;\n",
       "    }\n",
       "\n",
       "    .dataframe thead th {\n",
       "        text-align: right;\n",
       "    }\n",
       "</style>\n",
       "<table border=\"1\" class=\"dataframe\">\n",
       "  <thead>\n",
       "    <tr style=\"text-align: right;\">\n",
       "      <th></th>\n",
       "      <th>pay_dt</th>\n",
       "      <th>id</th>\n",
       "      <th>revenue</th>\n",
       "      <th>currency</th>\n",
       "      <th>pay_month</th>\n",
       "    </tr>\n",
       "  </thead>\n",
       "  <tbody>\n",
       "    <tr>\n",
       "      <th>0</th>\n",
       "      <td>2018-01-01</td>\n",
       "      <td>186</td>\n",
       "      <td>64.910968</td>\n",
       "      <td>RUB</td>\n",
       "      <td>1</td>\n",
       "    </tr>\n",
       "    <tr>\n",
       "      <th>1</th>\n",
       "      <td>2018-01-01</td>\n",
       "      <td>393</td>\n",
       "      <td>1.070690</td>\n",
       "      <td>USD</td>\n",
       "      <td>1</td>\n",
       "    </tr>\n",
       "    <tr>\n",
       "      <th>2</th>\n",
       "      <td>2018-01-02</td>\n",
       "      <td>305</td>\n",
       "      <td>0.249002</td>\n",
       "      <td>EUR</td>\n",
       "      <td>1</td>\n",
       "    </tr>\n",
       "    <tr>\n",
       "      <th>3</th>\n",
       "      <td>2018-01-02</td>\n",
       "      <td>358</td>\n",
       "      <td>0.314238</td>\n",
       "      <td>USD</td>\n",
       "      <td>1</td>\n",
       "    </tr>\n",
       "    <tr>\n",
       "      <th>4</th>\n",
       "      <td>2018-01-02</td>\n",
       "      <td>2256</td>\n",
       "      <td>0.555161</td>\n",
       "      <td>USD</td>\n",
       "      <td>1</td>\n",
       "    </tr>\n",
       "    <tr>\n",
       "      <th>...</th>\n",
       "      <td>...</td>\n",
       "      <td>...</td>\n",
       "      <td>...</td>\n",
       "      <td>...</td>\n",
       "      <td>...</td>\n",
       "    </tr>\n",
       "    <tr>\n",
       "      <th>4047</th>\n",
       "      <td>2018-06-20</td>\n",
       "      <td>149309</td>\n",
       "      <td>0.656961</td>\n",
       "      <td>USD</td>\n",
       "      <td>6</td>\n",
       "    </tr>\n",
       "    <tr>\n",
       "      <th>4048</th>\n",
       "      <td>2018-06-20</td>\n",
       "      <td>153857</td>\n",
       "      <td>0.715804</td>\n",
       "      <td>EUR</td>\n",
       "      <td>6</td>\n",
       "    </tr>\n",
       "    <tr>\n",
       "      <th>4049</th>\n",
       "      <td>2018-06-23</td>\n",
       "      <td>155881</td>\n",
       "      <td>1.789419</td>\n",
       "      <td>USD</td>\n",
       "      <td>6</td>\n",
       "    </tr>\n",
       "    <tr>\n",
       "      <th>4050</th>\n",
       "      <td>2018-06-23</td>\n",
       "      <td>157399</td>\n",
       "      <td>0.385221</td>\n",
       "      <td>EUR</td>\n",
       "      <td>6</td>\n",
       "    </tr>\n",
       "    <tr>\n",
       "      <th>4051</th>\n",
       "      <td>2018-06-26</td>\n",
       "      <td>160737</td>\n",
       "      <td>0.616869</td>\n",
       "      <td>USD</td>\n",
       "      <td>6</td>\n",
       "    </tr>\n",
       "  </tbody>\n",
       "</table>\n",
       "<p>4052 rows × 5 columns</p>\n",
       "</div>"
      ],
      "text/plain": [
       "         pay_dt      id    revenue currency  pay_month\n",
       "0    2018-01-01     186  64.910968      RUB          1\n",
       "1    2018-01-01     393   1.070690      USD          1\n",
       "2    2018-01-02     305   0.249002      EUR          1\n",
       "3    2018-01-02     358   0.314238      USD          1\n",
       "4    2018-01-02    2256   0.555161      USD          1\n",
       "...         ...     ...        ...      ...        ...\n",
       "4047 2018-06-20  149309   0.656961      USD          6\n",
       "4048 2018-06-20  153857   0.715804      EUR          6\n",
       "4049 2018-06-23  155881   1.789419      USD          6\n",
       "4050 2018-06-23  157399   0.385221      EUR          6\n",
       "4051 2018-06-26  160737   0.616869      USD          6\n",
       "\n",
       "[4052 rows x 5 columns]"
      ]
     },
     "execution_count": 58,
     "metadata": {},
     "output_type": "execute_result"
    }
   ],
   "source": [
    "revenue"
   ]
  },
  {
   "cell_type": "markdown",
   "id": "4c97ff25",
   "metadata": {
    "id": "4c97ff25"
   },
   "source": [
    "`Users amount`, `revenue sum` and `revenue mean` by currency and number of transactions per user."
   ]
  },
  {
   "cell_type": "code",
   "execution_count": 59,
   "id": "86429812",
   "metadata": {
    "id": "86429812"
   },
   "outputs": [],
   "source": [
    "x = revenue.groupby(['currency', 'id'])[\n",
    "    ['currency', 'id', 'revenue']].agg(\n",
    "        {'id': 'count', 'revenue': 'sum'}).rename(\n",
    "            columns={'id': 'n_transactions'}).reset_index()"
   ]
  },
  {
   "cell_type": "code",
   "execution_count": 60,
   "id": "79db6a3f",
   "metadata": {
    "id": "79db6a3f",
    "outputId": "399ec387-b5e9-4f11-bc8a-94b0901346df"
   },
   "outputs": [
    {
     "data": {
      "text/html": [
       "<div>\n",
       "<style scoped>\n",
       "    .dataframe tbody tr th:only-of-type {\n",
       "        vertical-align: middle;\n",
       "    }\n",
       "\n",
       "    .dataframe tbody tr th {\n",
       "        vertical-align: top;\n",
       "    }\n",
       "\n",
       "    .dataframe thead tr th {\n",
       "        text-align: left;\n",
       "    }\n",
       "\n",
       "    .dataframe thead tr:last-of-type th {\n",
       "        text-align: right;\n",
       "    }\n",
       "</style>\n",
       "<table border=\"1\" class=\"dataframe\">\n",
       "  <thead>\n",
       "    <tr>\n",
       "      <th></th>\n",
       "      <th></th>\n",
       "      <th>id</th>\n",
       "      <th colspan=\"2\" halign=\"left\">revenue</th>\n",
       "    </tr>\n",
       "    <tr>\n",
       "      <th></th>\n",
       "      <th></th>\n",
       "      <th>count</th>\n",
       "      <th>sum</th>\n",
       "      <th>mean</th>\n",
       "    </tr>\n",
       "    <tr>\n",
       "      <th>currency</th>\n",
       "      <th>n_transactions</th>\n",
       "      <th></th>\n",
       "      <th></th>\n",
       "      <th></th>\n",
       "    </tr>\n",
       "  </thead>\n",
       "  <tbody>\n",
       "    <tr>\n",
       "      <th rowspan=\"3\" valign=\"top\">EUR</th>\n",
       "      <th>1</th>\n",
       "      <td>1034</td>\n",
       "      <td>1478.804076</td>\n",
       "      <td>1.430178</td>\n",
       "    </tr>\n",
       "    <tr>\n",
       "      <th>2</th>\n",
       "      <td>73</td>\n",
       "      <td>191.681272</td>\n",
       "      <td>2.625771</td>\n",
       "    </tr>\n",
       "    <tr>\n",
       "      <th>3</th>\n",
       "      <td>4</td>\n",
       "      <td>31.089458</td>\n",
       "      <td>7.772365</td>\n",
       "    </tr>\n",
       "    <tr>\n",
       "      <th rowspan=\"2\" valign=\"top\">RUB</th>\n",
       "      <th>1</th>\n",
       "      <td>783</td>\n",
       "      <td>76726.685698</td>\n",
       "      <td>97.990659</td>\n",
       "    </tr>\n",
       "    <tr>\n",
       "      <th>2</th>\n",
       "      <td>40</td>\n",
       "      <td>9489.599043</td>\n",
       "      <td>237.239976</td>\n",
       "    </tr>\n",
       "    <tr>\n",
       "      <th rowspan=\"4\" valign=\"top\">USD</th>\n",
       "      <th>1</th>\n",
       "      <td>1579</td>\n",
       "      <td>2662.147566</td>\n",
       "      <td>1.685971</td>\n",
       "    </tr>\n",
       "    <tr>\n",
       "      <th>2</th>\n",
       "      <td>192</td>\n",
       "      <td>669.968278</td>\n",
       "      <td>3.489418</td>\n",
       "    </tr>\n",
       "    <tr>\n",
       "      <th>3</th>\n",
       "      <td>10</td>\n",
       "      <td>35.727671</td>\n",
       "      <td>3.572767</td>\n",
       "    </tr>\n",
       "    <tr>\n",
       "      <th>4</th>\n",
       "      <td>1</td>\n",
       "      <td>5.762698</td>\n",
       "      <td>5.762698</td>\n",
       "    </tr>\n",
       "  </tbody>\n",
       "</table>\n",
       "</div>"
      ],
      "text/plain": [
       "                           id       revenue            \n",
       "                        count           sum        mean\n",
       "currency n_transactions                                \n",
       "EUR      1               1034   1478.804076    1.430178\n",
       "         2                 73    191.681272    2.625771\n",
       "         3                  4     31.089458    7.772365\n",
       "RUB      1                783  76726.685698   97.990659\n",
       "         2                 40   9489.599043  237.239976\n",
       "USD      1               1579   2662.147566    1.685971\n",
       "         2                192    669.968278    3.489418\n",
       "         3                 10     35.727671    3.572767\n",
       "         4                  1      5.762698    5.762698"
      ]
     },
     "execution_count": 60,
     "metadata": {},
     "output_type": "execute_result"
    }
   ],
   "source": [
    "x.groupby(['currency', 'n_transactions'])[\n",
    "    ['id', 'revenue']].agg(\n",
    "        {'id': 'count', 'revenue': ['sum', 'mean']})"
   ]
  },
  {
   "cell_type": "markdown",
   "id": "a6a149a1",
   "metadata": {
    "id": "a6a149a1"
   },
   "source": [
    "The average transaction sum increase with the number of transaction. So, it makes sense to motivate users invest more in game, because the each next user's transaction is higher than previous (in average)."
   ]
  },
  {
   "cell_type": "code",
   "execution_count": 61,
   "id": "486227b5",
   "metadata": {
    "id": "486227b5",
    "outputId": "6e8b58be-04ad-43b3-bd6b-5e45c6e029d6"
   },
   "outputs": [
    {
     "data": {
      "text/html": [
       "<div>\n",
       "<style scoped>\n",
       "    .dataframe tbody tr th:only-of-type {\n",
       "        vertical-align: middle;\n",
       "    }\n",
       "\n",
       "    .dataframe tbody tr th {\n",
       "        vertical-align: top;\n",
       "    }\n",
       "\n",
       "    .dataframe thead th {\n",
       "        text-align: right;\n",
       "    }\n",
       "</style>\n",
       "<table border=\"1\" class=\"dataframe\">\n",
       "  <thead>\n",
       "    <tr style=\"text-align: right;\">\n",
       "      <th></th>\n",
       "      <th>pay_dt</th>\n",
       "      <th>id</th>\n",
       "      <th>revenue</th>\n",
       "      <th>currency</th>\n",
       "      <th>pay_month</th>\n",
       "    </tr>\n",
       "  </thead>\n",
       "  <tbody>\n",
       "    <tr>\n",
       "      <th>1423</th>\n",
       "      <td>2018-02-21</td>\n",
       "      <td>91531</td>\n",
       "      <td>2.232556</td>\n",
       "      <td>USD</td>\n",
       "      <td>2</td>\n",
       "    </tr>\n",
       "    <tr>\n",
       "      <th>1834</th>\n",
       "      <td>2018-03-03</td>\n",
       "      <td>91531</td>\n",
       "      <td>0.626894</td>\n",
       "      <td>EUR</td>\n",
       "      <td>3</td>\n",
       "    </tr>\n",
       "    <tr>\n",
       "      <th>1884</th>\n",
       "      <td>2018-03-04</td>\n",
       "      <td>91531</td>\n",
       "      <td>0.275046</td>\n",
       "      <td>USD</td>\n",
       "      <td>3</td>\n",
       "    </tr>\n",
       "    <tr>\n",
       "      <th>2738</th>\n",
       "      <td>2018-03-24</td>\n",
       "      <td>91531</td>\n",
       "      <td>1269.885420</td>\n",
       "      <td>RUB</td>\n",
       "      <td>3</td>\n",
       "    </tr>\n",
       "  </tbody>\n",
       "</table>\n",
       "</div>"
      ],
      "text/plain": [
       "         pay_dt     id      revenue currency  pay_month\n",
       "1423 2018-02-21  91531     2.232556      USD          2\n",
       "1834 2018-03-03  91531     0.626894      EUR          3\n",
       "1884 2018-03-04  91531     0.275046      USD          3\n",
       "2738 2018-03-24  91531  1269.885420      RUB          3"
      ]
     },
     "execution_count": 61,
     "metadata": {},
     "output_type": "execute_result"
    }
   ],
   "source": [
    "revenue[revenue['id']==91531]"
   ]
  },
  {
   "cell_type": "markdown",
   "id": "e60b8743",
   "metadata": {
    "id": "e60b8743"
   },
   "source": [
    "The same user can pay in different currencies. Looks strange. If the user has a long lag between 2 paymnents in different currencies it may be explained by geo/residency changing. **But the next day payment in the different currency - looks strange**."
   ]
  },
  {
   "cell_type": "markdown",
   "id": "a3a9930d",
   "metadata": {
    "id": "a3a9930d"
   },
   "source": [
    "For all currencies - **there is a huge increasing the number of transactions and number of paying users in March**. Maybe there was an event or release of the new ingame content or game discounts.\n",
    "In the next months we see the decreasing the number of transactions and paying users.\n",
    "\n",
    "* For RUB, the mean transaction sum returned to the previous value level after the maximum in March - following to the main trend.\n",
    "* For EUR we see increasing of the mean transaction sum in the 6th month - it looks strange.\n",
    "* For USD we see a high value in May and fast decreasing in June. \n",
    "\n",
    "As a result we see the similar revenue sum increasing in March in all currencies, but the month with the revenue mean value for each currency is different. Have no idea why."
   ]
  },
  {
   "cell_type": "markdown",
   "id": "ab8b421f",
   "metadata": {},
   "source": [
    "#### Exchange all currencies to USD"
   ]
  },
  {
   "cell_type": "markdown",
   "id": "abcde433",
   "metadata": {},
   "source": [
    "Let's **exchange all revenue in USD** by the average EUR/USD and RUB/USD exchange rate in 2018."
   ]
  },
  {
   "cell_type": "code",
   "execution_count": 62,
   "id": "e7ca286f",
   "metadata": {},
   "outputs": [],
   "source": [
    "def cur_to_usd(row):\n",
    "    if row['currency'] == 'EUR':\n",
    "        return row['revenue'] / 1.2 # average EUR/USD\n",
    "    if row['currency'] == 'RUB':\n",
    "        return row['revenue'] / 62.6 # average RUB/USD\n",
    "    return row['revenue']"
   ]
  },
  {
   "cell_type": "code",
   "execution_count": 63,
   "id": "2a2b5a53",
   "metadata": {},
   "outputs": [],
   "source": [
    "revenue['revenue_in_usd'] = revenue.apply(cur_to_usd, axis=1)"
   ]
  },
  {
   "cell_type": "code",
   "execution_count": 64,
   "id": "09114799",
   "metadata": {},
   "outputs": [],
   "source": [
    "r = revenue.groupby(['pay_month','currency'])[['revenue_in_usd']].agg({'sum', 'count', 'mean'}).reset_index()"
   ]
  },
  {
   "cell_type": "code",
   "execution_count": 65,
   "id": "b525f4ad",
   "metadata": {},
   "outputs": [],
   "source": [
    "r.columns = ['pay_month', 'currency', 'count', 'sum_in_usd', 'mean_in_usd']"
   ]
  },
  {
   "cell_type": "code",
   "execution_count": 66,
   "id": "ea11ca60",
   "metadata": {},
   "outputs": [
    {
     "data": {
      "text/html": [
       "<div>\n",
       "<style scoped>\n",
       "    .dataframe tbody tr th:only-of-type {\n",
       "        vertical-align: middle;\n",
       "    }\n",
       "\n",
       "    .dataframe tbody tr th {\n",
       "        vertical-align: top;\n",
       "    }\n",
       "\n",
       "    .dataframe thead th {\n",
       "        text-align: right;\n",
       "    }\n",
       "</style>\n",
       "<table border=\"1\" class=\"dataframe\">\n",
       "  <thead>\n",
       "    <tr style=\"text-align: right;\">\n",
       "      <th></th>\n",
       "      <th>pay_month</th>\n",
       "      <th>currency</th>\n",
       "      <th>count</th>\n",
       "      <th>sum_in_usd</th>\n",
       "      <th>mean_in_usd</th>\n",
       "    </tr>\n",
       "  </thead>\n",
       "  <tbody>\n",
       "    <tr>\n",
       "      <th>0</th>\n",
       "      <td>1</td>\n",
       "      <td>EUR</td>\n",
       "      <td>212</td>\n",
       "      <td>1.227787</td>\n",
       "      <td>260.290742</td>\n",
       "    </tr>\n",
       "    <tr>\n",
       "      <th>1</th>\n",
       "      <td>1</td>\n",
       "      <td>RUB</td>\n",
       "      <td>123</td>\n",
       "      <td>1.377340</td>\n",
       "      <td>169.412777</td>\n",
       "    </tr>\n",
       "    <tr>\n",
       "      <th>2</th>\n",
       "      <td>1</td>\n",
       "      <td>USD</td>\n",
       "      <td>327</td>\n",
       "      <td>1.725341</td>\n",
       "      <td>564.186664</td>\n",
       "    </tr>\n",
       "    <tr>\n",
       "      <th>3</th>\n",
       "      <td>2</td>\n",
       "      <td>EUR</td>\n",
       "      <td>304</td>\n",
       "      <td>1.189536</td>\n",
       "      <td>361.618947</td>\n",
       "    </tr>\n",
       "    <tr>\n",
       "      <th>4</th>\n",
       "      <td>2</td>\n",
       "      <td>RUB</td>\n",
       "      <td>229</td>\n",
       "      <td>1.327225</td>\n",
       "      <td>303.934533</td>\n",
       "    </tr>\n",
       "    <tr>\n",
       "      <th>5</th>\n",
       "      <td>2</td>\n",
       "      <td>USD</td>\n",
       "      <td>511</td>\n",
       "      <td>1.773041</td>\n",
       "      <td>906.024134</td>\n",
       "    </tr>\n",
       "    <tr>\n",
       "      <th>6</th>\n",
       "      <td>3</td>\n",
       "      <td>EUR</td>\n",
       "      <td>399</td>\n",
       "      <td>1.185390</td>\n",
       "      <td>472.970605</td>\n",
       "    </tr>\n",
       "    <tr>\n",
       "      <th>7</th>\n",
       "      <td>3</td>\n",
       "      <td>RUB</td>\n",
       "      <td>296</td>\n",
       "      <td>1.896886</td>\n",
       "      <td>561.478165</td>\n",
       "    </tr>\n",
       "    <tr>\n",
       "      <th>8</th>\n",
       "      <td>3</td>\n",
       "      <td>USD</td>\n",
       "      <td>640</td>\n",
       "      <td>1.641049</td>\n",
       "      <td>1050.271107</td>\n",
       "    </tr>\n",
       "    <tr>\n",
       "      <th>9</th>\n",
       "      <td>4</td>\n",
       "      <td>EUR</td>\n",
       "      <td>202</td>\n",
       "      <td>1.176890</td>\n",
       "      <td>237.731760</td>\n",
       "    </tr>\n",
       "    <tr>\n",
       "      <th>10</th>\n",
       "      <td>4</td>\n",
       "      <td>RUB</td>\n",
       "      <td>158</td>\n",
       "      <td>1.677391</td>\n",
       "      <td>265.027702</td>\n",
       "    </tr>\n",
       "    <tr>\n",
       "      <th>11</th>\n",
       "      <td>4</td>\n",
       "      <td>USD</td>\n",
       "      <td>395</td>\n",
       "      <td>1.508308</td>\n",
       "      <td>595.781821</td>\n",
       "    </tr>\n",
       "    <tr>\n",
       "      <th>12</th>\n",
       "      <td>5</td>\n",
       "      <td>EUR</td>\n",
       "      <td>68</td>\n",
       "      <td>1.121245</td>\n",
       "      <td>76.244670</td>\n",
       "    </tr>\n",
       "    <tr>\n",
       "      <th>13</th>\n",
       "      <td>5</td>\n",
       "      <td>RUB</td>\n",
       "      <td>52</td>\n",
       "      <td>1.366326</td>\n",
       "      <td>71.048947</td>\n",
       "    </tr>\n",
       "    <tr>\n",
       "      <th>14</th>\n",
       "      <td>5</td>\n",
       "      <td>USD</td>\n",
       "      <td>106</td>\n",
       "      <td>2.156280</td>\n",
       "      <td>228.565688</td>\n",
       "    </tr>\n",
       "    <tr>\n",
       "      <th>15</th>\n",
       "      <td>6</td>\n",
       "      <td>EUR</td>\n",
       "      <td>7</td>\n",
       "      <td>1.303183</td>\n",
       "      <td>9.122280</td>\n",
       "    </tr>\n",
       "    <tr>\n",
       "      <th>16</th>\n",
       "      <td>6</td>\n",
       "      <td>RUB</td>\n",
       "      <td>5</td>\n",
       "      <td>1.270964</td>\n",
       "      <td>6.354821</td>\n",
       "    </tr>\n",
       "    <tr>\n",
       "      <th>17</th>\n",
       "      <td>6</td>\n",
       "      <td>USD</td>\n",
       "      <td>18</td>\n",
       "      <td>1.598711</td>\n",
       "      <td>28.776800</td>\n",
       "    </tr>\n",
       "  </tbody>\n",
       "</table>\n",
       "</div>"
      ],
      "text/plain": [
       "    pay_month currency  count  sum_in_usd  mean_in_usd\n",
       "0           1      EUR    212    1.227787   260.290742\n",
       "1           1      RUB    123    1.377340   169.412777\n",
       "2           1      USD    327    1.725341   564.186664\n",
       "3           2      EUR    304    1.189536   361.618947\n",
       "4           2      RUB    229    1.327225   303.934533\n",
       "5           2      USD    511    1.773041   906.024134\n",
       "6           3      EUR    399    1.185390   472.970605\n",
       "7           3      RUB    296    1.896886   561.478165\n",
       "8           3      USD    640    1.641049  1050.271107\n",
       "9           4      EUR    202    1.176890   237.731760\n",
       "10          4      RUB    158    1.677391   265.027702\n",
       "11          4      USD    395    1.508308   595.781821\n",
       "12          5      EUR     68    1.121245    76.244670\n",
       "13          5      RUB     52    1.366326    71.048947\n",
       "14          5      USD    106    2.156280   228.565688\n",
       "15          6      EUR      7    1.303183     9.122280\n",
       "16          6      RUB      5    1.270964     6.354821\n",
       "17          6      USD     18    1.598711    28.776800"
      ]
     },
     "execution_count": 66,
     "metadata": {},
     "output_type": "execute_result"
    }
   ],
   "source": [
    "r"
   ]
  },
  {
   "cell_type": "code",
   "execution_count": 67,
   "id": "c5e1c774",
   "metadata": {},
   "outputs": [
    {
     "data": {
      "image/png": "[encoded data removed]",
      "text/plain": [
       "<Figure size 432x288 with 1 Axes>"
      ]
     },
     "metadata": {
      "needs_background": "light"
     },
     "output_type": "display_data"
    }
   ],
   "source": [
    "# revenue sum/month by currencies exchanged to USD\n",
    "sns.lineplot(data=r, \n",
    "            x='pay_month',\n",
    "            y='sum_in_usd', \n",
    "            hue='currency');"
   ]
  },
  {
   "cell_type": "code",
   "execution_count": 68,
   "id": "752809f2",
   "metadata": {},
   "outputs": [
    {
     "data": {
      "image/png": "[encoded data removed]",
      "text/plain": [
       "<Figure size 432x288 with 1 Axes>"
      ]
     },
     "metadata": {
      "needs_background": "light"
     },
     "output_type": "display_data"
    }
   ],
   "source": [
    "# revenue mean/month by currencies exchanged to USD\n",
    "sns.lineplot(data=r, \n",
    "            x='pay_month',\n",
    "            y='mean_in_usd', \n",
    "            hue='currency');"
   ]
  },
  {
   "cell_type": "markdown",
   "id": "c20a9b9a",
   "metadata": {},
   "source": [
    "`Users amount`, `revenue sum` and `revenue mean` by currencies exchanged to USD and number of transactions per user."
   ]
  },
  {
   "cell_type": "code",
   "execution_count": 69,
   "id": "b541689f",
   "metadata": {},
   "outputs": [],
   "source": [
    "z = revenue.groupby(['currency', 'id'])[\n",
    "    ['currency', 'id', 'revenue_in_usd']].agg(\n",
    "        {'id': 'count', 'revenue_in_usd': 'sum'}).rename(\n",
    "            columns={'id': 'n_transactions'}).reset_index()"
   ]
  },
  {
   "cell_type": "code",
   "execution_count": 70,
   "id": "7920ea54",
   "metadata": {},
   "outputs": [
    {
     "data": {
      "text/html": [
       "<div>\n",
       "<style scoped>\n",
       "    .dataframe tbody tr th:only-of-type {\n",
       "        vertical-align: middle;\n",
       "    }\n",
       "\n",
       "    .dataframe tbody tr th {\n",
       "        vertical-align: top;\n",
       "    }\n",
       "\n",
       "    .dataframe thead tr th {\n",
       "        text-align: left;\n",
       "    }\n",
       "\n",
       "    .dataframe thead tr:last-of-type th {\n",
       "        text-align: right;\n",
       "    }\n",
       "</style>\n",
       "<table border=\"1\" class=\"dataframe\">\n",
       "  <thead>\n",
       "    <tr>\n",
       "      <th></th>\n",
       "      <th></th>\n",
       "      <th>id</th>\n",
       "      <th colspan=\"2\" halign=\"left\">revenue_in_usd</th>\n",
       "    </tr>\n",
       "    <tr>\n",
       "      <th></th>\n",
       "      <th></th>\n",
       "      <th>count</th>\n",
       "      <th>sum</th>\n",
       "      <th>mean</th>\n",
       "    </tr>\n",
       "    <tr>\n",
       "      <th>currency</th>\n",
       "      <th>n_transactions</th>\n",
       "      <th></th>\n",
       "      <th></th>\n",
       "      <th></th>\n",
       "    </tr>\n",
       "  </thead>\n",
       "  <tbody>\n",
       "    <tr>\n",
       "      <th rowspan=\"3\" valign=\"top\">EUR</th>\n",
       "      <th>1</th>\n",
       "      <td>1034</td>\n",
       "      <td>1232.336730</td>\n",
       "      <td>1.191815</td>\n",
       "    </tr>\n",
       "    <tr>\n",
       "      <th>2</th>\n",
       "      <td>73</td>\n",
       "      <td>159.734394</td>\n",
       "      <td>2.188142</td>\n",
       "    </tr>\n",
       "    <tr>\n",
       "      <th>3</th>\n",
       "      <td>4</td>\n",
       "      <td>25.907882</td>\n",
       "      <td>6.476970</td>\n",
       "    </tr>\n",
       "    <tr>\n",
       "      <th rowspan=\"2\" valign=\"top\">RUB</th>\n",
       "      <th>1</th>\n",
       "      <td>783</td>\n",
       "      <td>1225.665906</td>\n",
       "      <td>1.565346</td>\n",
       "    </tr>\n",
       "    <tr>\n",
       "      <th>2</th>\n",
       "      <td>40</td>\n",
       "      <td>151.591039</td>\n",
       "      <td>3.789776</td>\n",
       "    </tr>\n",
       "    <tr>\n",
       "      <th rowspan=\"4\" valign=\"top\">USD</th>\n",
       "      <th>1</th>\n",
       "      <td>1579</td>\n",
       "      <td>2662.147566</td>\n",
       "      <td>1.685971</td>\n",
       "    </tr>\n",
       "    <tr>\n",
       "      <th>2</th>\n",
       "      <td>192</td>\n",
       "      <td>669.968278</td>\n",
       "      <td>3.489418</td>\n",
       "    </tr>\n",
       "    <tr>\n",
       "      <th>3</th>\n",
       "      <td>10</td>\n",
       "      <td>35.727671</td>\n",
       "      <td>3.572767</td>\n",
       "    </tr>\n",
       "    <tr>\n",
       "      <th>4</th>\n",
       "      <td>1</td>\n",
       "      <td>5.762698</td>\n",
       "      <td>5.762698</td>\n",
       "    </tr>\n",
       "  </tbody>\n",
       "</table>\n",
       "</div>"
      ],
      "text/plain": [
       "                           id revenue_in_usd          \n",
       "                        count            sum      mean\n",
       "currency n_transactions                               \n",
       "EUR      1               1034    1232.336730  1.191815\n",
       "         2                 73     159.734394  2.188142\n",
       "         3                  4      25.907882  6.476970\n",
       "RUB      1                783    1225.665906  1.565346\n",
       "         2                 40     151.591039  3.789776\n",
       "USD      1               1579    2662.147566  1.685971\n",
       "         2                192     669.968278  3.489418\n",
       "         3                 10      35.727671  3.572767\n",
       "         4                  1       5.762698  5.762698"
      ]
     },
     "execution_count": 70,
     "metadata": {},
     "output_type": "execute_result"
    }
   ],
   "source": [
    "z.groupby(['currency', 'n_transactions'])[\n",
    "    ['id', 'revenue_in_usd']].agg(\n",
    "        {'id': 'count', 'revenue_in_usd': ['sum', 'mean']})"
   ]
  },
  {
   "cell_type": "markdown",
   "id": "daf0806f",
   "metadata": {},
   "source": [
    "If we exchange all currencies to USD - the situation will not change.\n",
    "\n",
    "The average transaction sum increase with the number of transaction. So, it makes sense to motivate users invest more in game, because the each next user's transaction is higher than previous (in average)."
   ]
  },
  {
   "cell_type": "markdown",
   "id": "5422a7b2",
   "metadata": {},
   "source": [
    "So, it's better to focus on US market and people paying in USD because of the higher revenue, and higher number of tranasctions."
   ]
  },
  {
   "cell_type": "markdown",
   "id": "401d2954",
   "metadata": {
    "id": "401d2954"
   },
   "source": [
    "### 4. Spends"
   ]
  },
  {
   "cell_type": "code",
   "execution_count": 71,
   "id": "39b02c84",
   "metadata": {
    "id": "39b02c84",
    "outputId": "a93c40fc-75a1-4f57-f759-f9224ea15fb7"
   },
   "outputs": [
    {
     "name": "stdout",
     "output_type": "stream",
     "text": [
      "2018-01-01 00:00:00\n",
      "2018-03-31 00:00:00\n"
     ]
    }
   ],
   "source": [
    "print(spends['dt'].min(), spends['dt'].max(), sep='\\n')"
   ]
  },
  {
   "cell_type": "code",
   "execution_count": 72,
   "id": "875d097f",
   "metadata": {
    "id": "875d097f"
   },
   "outputs": [],
   "source": [
    "spends['spend_month'] = spends['dt'].dt.month"
   ]
  },
  {
   "cell_type": "code",
   "execution_count": 73,
   "id": "4d82fb29",
   "metadata": {
    "id": "4d82fb29",
    "outputId": "9cfe2f63-b850-4a25-993b-88c72d2cef38"
   },
   "outputs": [
    {
     "data": {
      "text/html": [
       "<div>\n",
       "<style scoped>\n",
       "    .dataframe tbody tr th:only-of-type {\n",
       "        vertical-align: middle;\n",
       "    }\n",
       "\n",
       "    .dataframe tbody tr th {\n",
       "        vertical-align: top;\n",
       "    }\n",
       "\n",
       "    .dataframe thead th {\n",
       "        text-align: right;\n",
       "    }\n",
       "</style>\n",
       "<table border=\"1\" class=\"dataframe\">\n",
       "  <thead>\n",
       "    <tr style=\"text-align: right;\">\n",
       "      <th></th>\n",
       "      <th>dt</th>\n",
       "      <th>spends_usd</th>\n",
       "      <th>spend_month</th>\n",
       "    </tr>\n",
       "  </thead>\n",
       "  <tbody>\n",
       "    <tr>\n",
       "      <th>0</th>\n",
       "      <td>2018-01-01</td>\n",
       "      <td>1687.170085</td>\n",
       "      <td>1</td>\n",
       "    </tr>\n",
       "    <tr>\n",
       "      <th>1</th>\n",
       "      <td>2018-01-02</td>\n",
       "      <td>1752.709034</td>\n",
       "      <td>1</td>\n",
       "    </tr>\n",
       "    <tr>\n",
       "      <th>2</th>\n",
       "      <td>2018-01-03</td>\n",
       "      <td>2081.399414</td>\n",
       "      <td>1</td>\n",
       "    </tr>\n",
       "    <tr>\n",
       "      <th>3</th>\n",
       "      <td>2018-01-04</td>\n",
       "      <td>1862.847898</td>\n",
       "      <td>1</td>\n",
       "    </tr>\n",
       "    <tr>\n",
       "      <th>4</th>\n",
       "      <td>2018-01-05</td>\n",
       "      <td>1920.828185</td>\n",
       "      <td>1</td>\n",
       "    </tr>\n",
       "  </tbody>\n",
       "</table>\n",
       "</div>"
      ],
      "text/plain": [
       "          dt   spends_usd  spend_month\n",
       "0 2018-01-01  1687.170085            1\n",
       "1 2018-01-02  1752.709034            1\n",
       "2 2018-01-03  2081.399414            1\n",
       "3 2018-01-04  1862.847898            1\n",
       "4 2018-01-05  1920.828185            1"
      ]
     },
     "execution_count": 73,
     "metadata": {},
     "output_type": "execute_result"
    }
   ],
   "source": [
    "spends.head()"
   ]
  },
  {
   "cell_type": "code",
   "execution_count": 74,
   "id": "2403da2a",
   "metadata": {
    "id": "2403da2a"
   },
   "outputs": [],
   "source": [
    "s = spends.groupby('spend_month')['spends_usd'].agg({'sum', 'mean', 'median'})"
   ]
  },
  {
   "cell_type": "code",
   "execution_count": 75,
   "id": "40aa3439",
   "metadata": {
    "id": "40aa3439",
    "outputId": "fd67ddde-bde3-49bb-f0f6-d1e24abdab95"
   },
   "outputs": [
    {
     "data": {
      "text/html": [
       "<div>\n",
       "<style scoped>\n",
       "    .dataframe tbody tr th:only-of-type {\n",
       "        vertical-align: middle;\n",
       "    }\n",
       "\n",
       "    .dataframe tbody tr th {\n",
       "        vertical-align: top;\n",
       "    }\n",
       "\n",
       "    .dataframe thead th {\n",
       "        text-align: right;\n",
       "    }\n",
       "</style>\n",
       "<table border=\"1\" class=\"dataframe\">\n",
       "  <thead>\n",
       "    <tr style=\"text-align: right;\">\n",
       "      <th></th>\n",
       "      <th>median</th>\n",
       "      <th>mean</th>\n",
       "      <th>sum</th>\n",
       "    </tr>\n",
       "    <tr>\n",
       "      <th>spend_month</th>\n",
       "      <th></th>\n",
       "      <th></th>\n",
       "      <th></th>\n",
       "    </tr>\n",
       "  </thead>\n",
       "  <tbody>\n",
       "    <tr>\n",
       "      <th>1</th>\n",
       "      <td>1862.847898</td>\n",
       "      <td>1901.967746</td>\n",
       "      <td>58961.000131</td>\n",
       "    </tr>\n",
       "    <tr>\n",
       "      <th>2</th>\n",
       "      <td>1870.616531</td>\n",
       "      <td>1979.860771</td>\n",
       "      <td>55436.101591</td>\n",
       "    </tr>\n",
       "    <tr>\n",
       "      <th>3</th>\n",
       "      <td>1522.807990</td>\n",
       "      <td>1561.919071</td>\n",
       "      <td>48419.491190</td>\n",
       "    </tr>\n",
       "  </tbody>\n",
       "</table>\n",
       "</div>"
      ],
      "text/plain": [
       "                  median         mean           sum\n",
       "spend_month                                        \n",
       "1            1862.847898  1901.967746  58961.000131\n",
       "2            1870.616531  1979.860771  55436.101591\n",
       "3            1522.807990  1561.919071  48419.491190"
      ]
     },
     "execution_count": 75,
     "metadata": {},
     "output_type": "execute_result"
    }
   ],
   "source": [
    "s"
   ]
  },
  {
   "cell_type": "markdown",
   "id": "24e14a63",
   "metadata": {
    "id": "24e14a63"
   },
   "source": [
    "### 5. Users + Revenue"
   ]
  },
  {
   "cell_type": "markdown",
   "id": "bc7051d3",
   "metadata": {},
   "source": [
    "Checking, if in the `revenue` table are some user `ids` who weren't in the `user` table - that means they had created account before the ad campaign started."
   ]
  },
  {
   "cell_type": "code",
   "execution_count": 76,
   "id": "75c866ed",
   "metadata": {},
   "outputs": [
    {
     "data": {
      "text/html": [
       "<div>\n",
       "<style scoped>\n",
       "    .dataframe tbody tr th:only-of-type {\n",
       "        vertical-align: middle;\n",
       "    }\n",
       "\n",
       "    .dataframe tbody tr th {\n",
       "        vertical-align: top;\n",
       "    }\n",
       "\n",
       "    .dataframe thead th {\n",
       "        text-align: right;\n",
       "    }\n",
       "</style>\n",
       "<table border=\"1\" class=\"dataframe\">\n",
       "  <thead>\n",
       "    <tr style=\"text-align: right;\">\n",
       "      <th></th>\n",
       "      <th>pay_dt</th>\n",
       "      <th>id</th>\n",
       "      <th>revenue</th>\n",
       "      <th>currency</th>\n",
       "      <th>pay_month</th>\n",
       "      <th>revenue_in_usd</th>\n",
       "    </tr>\n",
       "  </thead>\n",
       "  <tbody>\n",
       "  </tbody>\n",
       "</table>\n",
       "</div>"
      ],
      "text/plain": [
       "Empty DataFrame\n",
       "Columns: [pay_dt, id, revenue, currency, pay_month, revenue_in_usd]\n",
       "Index: []"
      ]
     },
     "execution_count": 76,
     "metadata": {},
     "output_type": "execute_result"
    }
   ],
   "source": [
    "revenue.loc[~revenue.id.isin(users.id)]"
   ]
  },
  {
   "cell_type": "code",
   "execution_count": 77,
   "id": "bd841787",
   "metadata": {
    "id": "bd841787"
   },
   "outputs": [],
   "source": [
    "temp = users.merge(revenue, \n",
    "                how='left', \n",
    "                left_on='id', \n",
    "                right_on='id').rename(columns={'dt': 'reg_dt'})"
   ]
  },
  {
   "cell_type": "code",
   "execution_count": 78,
   "id": "fda21bb0",
   "metadata": {
    "id": "fda21bb0"
   },
   "outputs": [],
   "source": [
    "r = temp.groupby('id').agg({'reg_dt': 'min', 'pay_dt': 'min'})"
   ]
  },
  {
   "cell_type": "code",
   "execution_count": 79,
   "id": "e3080368",
   "metadata": {
    "id": "e3080368"
   },
   "outputs": [],
   "source": [
    "r = r[~r['pay_dt'].isnull()]"
   ]
  },
  {
   "cell_type": "code",
   "execution_count": 80,
   "id": "3c478e4d",
   "metadata": {
    "id": "3c478e4d"
   },
   "outputs": [],
   "source": [
    "r['delta'] = r['pay_dt'] - r['reg_dt']"
   ]
  },
  {
   "cell_type": "code",
   "execution_count": 81,
   "id": "cbbf94b5",
   "metadata": {
    "id": "cbbf94b5",
    "outputId": "fe2e25c8-f631-4543-cb78-b8ffcc30290d",
    "scrolled": true
   },
   "outputs": [
    {
     "data": {
      "text/html": [
       "<div>\n",
       "<style scoped>\n",
       "    .dataframe tbody tr th:only-of-type {\n",
       "        vertical-align: middle;\n",
       "    }\n",
       "\n",
       "    .dataframe tbody tr th {\n",
       "        vertical-align: top;\n",
       "    }\n",
       "\n",
       "    .dataframe thead th {\n",
       "        text-align: right;\n",
       "    }\n",
       "</style>\n",
       "<table border=\"1\" class=\"dataframe\">\n",
       "  <thead>\n",
       "    <tr style=\"text-align: right;\">\n",
       "      <th></th>\n",
       "      <th>reg_dt</th>\n",
       "      <th>pay_dt</th>\n",
       "      <th>delta</th>\n",
       "    </tr>\n",
       "    <tr>\n",
       "      <th>id</th>\n",
       "      <th></th>\n",
       "      <th></th>\n",
       "      <th></th>\n",
       "    </tr>\n",
       "  </thead>\n",
       "  <tbody>\n",
       "    <tr>\n",
       "      <th>41</th>\n",
       "      <td>2018-01-01</td>\n",
       "      <td>2018-02-19</td>\n",
       "      <td>49 days</td>\n",
       "    </tr>\n",
       "    <tr>\n",
       "      <th>43</th>\n",
       "      <td>2018-01-01</td>\n",
       "      <td>2018-01-06</td>\n",
       "      <td>5 days</td>\n",
       "    </tr>\n",
       "    <tr>\n",
       "      <th>49</th>\n",
       "      <td>2018-01-01</td>\n",
       "      <td>2018-01-19</td>\n",
       "      <td>18 days</td>\n",
       "    </tr>\n",
       "    <tr>\n",
       "      <th>88</th>\n",
       "      <td>2018-01-01</td>\n",
       "      <td>2018-01-03</td>\n",
       "      <td>2 days</td>\n",
       "    </tr>\n",
       "    <tr>\n",
       "      <th>112</th>\n",
       "      <td>2018-01-01</td>\n",
       "      <td>2018-01-06</td>\n",
       "      <td>5 days</td>\n",
       "    </tr>\n",
       "  </tbody>\n",
       "</table>\n",
       "</div>"
      ],
      "text/plain": [
       "        reg_dt     pay_dt   delta\n",
       "id                               \n",
       "41  2018-01-01 2018-02-19 49 days\n",
       "43  2018-01-01 2018-01-06  5 days\n",
       "49  2018-01-01 2018-01-19 18 days\n",
       "88  2018-01-01 2018-01-03  2 days\n",
       "112 2018-01-01 2018-01-06  5 days"
      ]
     },
     "execution_count": 81,
     "metadata": {},
     "output_type": "execute_result"
    }
   ],
   "source": [
    "r.head()"
   ]
  },
  {
   "cell_type": "code",
   "execution_count": 82,
   "id": "3764691d",
   "metadata": {
    "id": "3764691d",
    "outputId": "8c29b49f-5ea7-4b94-8541-f8c4ce91eebd"
   },
   "outputs": [
    {
     "name": "stdout",
     "output_type": "stream",
     "text": [
      "Mean: 21 days 06:31:59.550982226\n",
      "Median: 14 days 00:00:00\n"
     ]
    }
   ],
   "source": [
    "# time from registration to the first transaction\n",
    "print(f'Mean: {r.delta.mean()}\\nMedian: {r.delta.median()}')"
   ]
  },
  {
   "cell_type": "markdown",
   "id": "c61c9ccb",
   "metadata": {
    "id": "c61c9ccb"
   },
   "source": [
    "If need, we can check time from registration to the second transaction. We just need to rank (1, 2, 3) transactions for each user on the previous step - before `merge`.\n",
    "\n",
    "Also, need to mention that in `users` table we have data contains only 3 months. In the `revenue` table we have data contains 6 months."
   ]
  },
  {
   "cell_type": "markdown",
   "id": "9c271743",
   "metadata": {},
   "source": [
    "### 6. Users + Spends"
   ]
  },
  {
   "cell_type": "code",
   "execution_count": 83,
   "id": "fe091ee0",
   "metadata": {},
   "outputs": [],
   "source": [
    "users['dt_month'] = users['dt'].dt.month"
   ]
  },
  {
   "cell_type": "code",
   "execution_count": 84,
   "id": "84bf3d21",
   "metadata": {},
   "outputs": [],
   "source": [
    "u = users.groupby('dt')['id'].count().to_frame().reset_index().rename(columns={'id': 'user_count'})"
   ]
  },
  {
   "cell_type": "code",
   "execution_count": 85,
   "id": "543bd562",
   "metadata": {},
   "outputs": [],
   "source": [
    "m = u.merge(spends, how='left', on='dt')"
   ]
  },
  {
   "cell_type": "code",
   "execution_count": 86,
   "id": "05a2b0d8",
   "metadata": {},
   "outputs": [],
   "source": [
    "m['spend_day'] = m['dt'].dt.day"
   ]
  },
  {
   "cell_type": "code",
   "execution_count": 87,
   "id": "1bbb871c",
   "metadata": {},
   "outputs": [
    {
     "data": {
      "text/html": [
       "<div>\n",
       "<style scoped>\n",
       "    .dataframe tbody tr th:only-of-type {\n",
       "        vertical-align: middle;\n",
       "    }\n",
       "\n",
       "    .dataframe tbody tr th {\n",
       "        vertical-align: top;\n",
       "    }\n",
       "\n",
       "    .dataframe thead th {\n",
       "        text-align: right;\n",
       "    }\n",
       "</style>\n",
       "<table border=\"1\" class=\"dataframe\">\n",
       "  <thead>\n",
       "    <tr style=\"text-align: right;\">\n",
       "      <th></th>\n",
       "      <th>dt</th>\n",
       "      <th>user_count</th>\n",
       "      <th>spends_usd</th>\n",
       "      <th>spend_month</th>\n",
       "      <th>spend_day</th>\n",
       "    </tr>\n",
       "  </thead>\n",
       "  <tbody>\n",
       "    <tr>\n",
       "      <th>0</th>\n",
       "      <td>2018-01-01</td>\n",
       "      <td>1871</td>\n",
       "      <td>1687.170085</td>\n",
       "      <td>1</td>\n",
       "      <td>1</td>\n",
       "    </tr>\n",
       "    <tr>\n",
       "      <th>1</th>\n",
       "      <td>2018-01-02</td>\n",
       "      <td>1645</td>\n",
       "      <td>1752.709034</td>\n",
       "      <td>1</td>\n",
       "      <td>2</td>\n",
       "    </tr>\n",
       "    <tr>\n",
       "      <th>2</th>\n",
       "      <td>2018-01-03</td>\n",
       "      <td>1814</td>\n",
       "      <td>2081.399414</td>\n",
       "      <td>1</td>\n",
       "      <td>3</td>\n",
       "    </tr>\n",
       "    <tr>\n",
       "      <th>3</th>\n",
       "      <td>2018-01-04</td>\n",
       "      <td>1824</td>\n",
       "      <td>1862.847898</td>\n",
       "      <td>1</td>\n",
       "      <td>4</td>\n",
       "    </tr>\n",
       "    <tr>\n",
       "      <th>4</th>\n",
       "      <td>2018-01-05</td>\n",
       "      <td>2273</td>\n",
       "      <td>1920.828185</td>\n",
       "      <td>1</td>\n",
       "      <td>5</td>\n",
       "    </tr>\n",
       "  </tbody>\n",
       "</table>\n",
       "</div>"
      ],
      "text/plain": [
       "          dt  user_count   spends_usd  spend_month  spend_day\n",
       "0 2018-01-01        1871  1687.170085            1          1\n",
       "1 2018-01-02        1645  1752.709034            1          2\n",
       "2 2018-01-03        1814  2081.399414            1          3\n",
       "3 2018-01-04        1824  1862.847898            1          4\n",
       "4 2018-01-05        2273  1920.828185            1          5"
      ]
     },
     "execution_count": 87,
     "metadata": {},
     "output_type": "execute_result"
    }
   ],
   "source": [
    "m.head()"
   ]
  },
  {
   "cell_type": "markdown",
   "id": "8562ab8a",
   "metadata": {},
   "source": [
    "We got the ad spends and the number of created accounts per each day."
   ]
  },
  {
   "cell_type": "code",
   "execution_count": 88,
   "id": "9abe9d6b",
   "metadata": {},
   "outputs": [
    {
     "data": {
      "image/png": "[encoded data removed]",
      "text/plain": [
       "<Figure size 1080x576 with 2 Axes>"
      ]
     },
     "metadata": {
      "needs_background": "light"
     },
     "output_type": "display_data"
    }
   ],
   "source": [
    "ax1 = sns.set_style(style=None, rc=None )\n",
    "fig, ax1 = plt.subplots(figsize=(15,8))\n",
    "\n",
    "# spends_usd\n",
    "sns.lineplot(data = m, x='spend_day', y='spends_usd', hue='spend_month', \n",
    "             marker='o', sort = False, palette=['C0', 'C1', 'C2'], ax=ax1)\n",
    "\n",
    "ax2 = ax1.twinx()\n",
    "\n",
    "# user_count\n",
    "sns.barplot(data = m, x='spend_day', y='user_count', hue='spend_month', alpha=0.4, ax=ax2);"
   ]
  },
  {
   "cell_type": "code",
   "execution_count": 89,
   "id": "95e4894c",
   "metadata": {},
   "outputs": [],
   "source": [
    "m['cost_per_user'] = round(m['spends_usd'] / m['user_count'], 2)"
   ]
  },
  {
   "cell_type": "code",
   "execution_count": 90,
   "id": "f94de0e2",
   "metadata": {},
   "outputs": [
    {
     "data": {
      "text/html": [
       "<div>\n",
       "<style scoped>\n",
       "    .dataframe tbody tr th:only-of-type {\n",
       "        vertical-align: middle;\n",
       "    }\n",
       "\n",
       "    .dataframe tbody tr th {\n",
       "        vertical-align: top;\n",
       "    }\n",
       "\n",
       "    .dataframe thead th {\n",
       "        text-align: right;\n",
       "    }\n",
       "</style>\n",
       "<table border=\"1\" class=\"dataframe\">\n",
       "  <thead>\n",
       "    <tr style=\"text-align: right;\">\n",
       "      <th></th>\n",
       "      <th>dt</th>\n",
       "      <th>user_count</th>\n",
       "      <th>spends_usd</th>\n",
       "      <th>spend_month</th>\n",
       "      <th>spend_day</th>\n",
       "      <th>cost_per_user</th>\n",
       "    </tr>\n",
       "  </thead>\n",
       "  <tbody>\n",
       "    <tr>\n",
       "      <th>0</th>\n",
       "      <td>2018-01-01</td>\n",
       "      <td>1871</td>\n",
       "      <td>1687.170085</td>\n",
       "      <td>1</td>\n",
       "      <td>1</td>\n",
       "      <td>0.90</td>\n",
       "    </tr>\n",
       "    <tr>\n",
       "      <th>1</th>\n",
       "      <td>2018-01-02</td>\n",
       "      <td>1645</td>\n",
       "      <td>1752.709034</td>\n",
       "      <td>1</td>\n",
       "      <td>2</td>\n",
       "      <td>1.07</td>\n",
       "    </tr>\n",
       "    <tr>\n",
       "      <th>2</th>\n",
       "      <td>2018-01-03</td>\n",
       "      <td>1814</td>\n",
       "      <td>2081.399414</td>\n",
       "      <td>1</td>\n",
       "      <td>3</td>\n",
       "      <td>1.15</td>\n",
       "    </tr>\n",
       "    <tr>\n",
       "      <th>3</th>\n",
       "      <td>2018-01-04</td>\n",
       "      <td>1824</td>\n",
       "      <td>1862.847898</td>\n",
       "      <td>1</td>\n",
       "      <td>4</td>\n",
       "      <td>1.02</td>\n",
       "    </tr>\n",
       "    <tr>\n",
       "      <th>4</th>\n",
       "      <td>2018-01-05</td>\n",
       "      <td>2273</td>\n",
       "      <td>1920.828185</td>\n",
       "      <td>1</td>\n",
       "      <td>5</td>\n",
       "      <td>0.85</td>\n",
       "    </tr>\n",
       "  </tbody>\n",
       "</table>\n",
       "</div>"
      ],
      "text/plain": [
       "          dt  user_count   spends_usd  spend_month  spend_day  cost_per_user\n",
       "0 2018-01-01        1871  1687.170085            1          1           0.90\n",
       "1 2018-01-02        1645  1752.709034            1          2           1.07\n",
       "2 2018-01-03        1814  2081.399414            1          3           1.15\n",
       "3 2018-01-04        1824  1862.847898            1          4           1.02\n",
       "4 2018-01-05        2273  1920.828185            1          5           0.85"
      ]
     },
     "execution_count": 90,
     "metadata": {},
     "output_type": "execute_result"
    }
   ],
   "source": [
    "m.head()"
   ]
  },
  {
   "cell_type": "markdown",
   "id": "d70c5775",
   "metadata": {},
   "source": [
    "### 7. Users + Spends + Revenue"
   ]
  },
  {
   "cell_type": "code",
   "execution_count": 91,
   "id": "b23b1d06",
   "metadata": {},
   "outputs": [],
   "source": [
    "r = revenue.groupby('pay_dt')['revenue_in_usd'].sum().reset_index()"
   ]
  },
  {
   "cell_type": "code",
   "execution_count": 92,
   "id": "152f048b",
   "metadata": {},
   "outputs": [],
   "source": [
    "r['pay_month'] = r['pay_dt'].dt.month\n",
    "r['pay_day'] = r['pay_dt'].dt.day"
   ]
  },
  {
   "cell_type": "code",
   "execution_count": 93,
   "id": "9004646d",
   "metadata": {},
   "outputs": [
    {
     "data": {
      "text/html": [
       "<div>\n",
       "<style scoped>\n",
       "    .dataframe tbody tr th:only-of-type {\n",
       "        vertical-align: middle;\n",
       "    }\n",
       "\n",
       "    .dataframe tbody tr th {\n",
       "        vertical-align: top;\n",
       "    }\n",
       "\n",
       "    .dataframe thead th {\n",
       "        text-align: right;\n",
       "    }\n",
       "</style>\n",
       "<table border=\"1\" class=\"dataframe\">\n",
       "  <thead>\n",
       "    <tr style=\"text-align: right;\">\n",
       "      <th></th>\n",
       "      <th>pay_dt</th>\n",
       "      <th>revenue_in_usd</th>\n",
       "      <th>pay_month</th>\n",
       "      <th>pay_day</th>\n",
       "    </tr>\n",
       "  </thead>\n",
       "  <tbody>\n",
       "    <tr>\n",
       "      <th>0</th>\n",
       "      <td>2018-01-01</td>\n",
       "      <td>2.107607</td>\n",
       "      <td>1</td>\n",
       "      <td>1</td>\n",
       "    </tr>\n",
       "    <tr>\n",
       "      <th>1</th>\n",
       "      <td>2018-01-02</td>\n",
       "      <td>5.301488</td>\n",
       "      <td>1</td>\n",
       "      <td>2</td>\n",
       "    </tr>\n",
       "    <tr>\n",
       "      <th>2</th>\n",
       "      <td>2018-01-03</td>\n",
       "      <td>21.587329</td>\n",
       "      <td>1</td>\n",
       "      <td>3</td>\n",
       "    </tr>\n",
       "    <tr>\n",
       "      <th>3</th>\n",
       "      <td>2018-01-04</td>\n",
       "      <td>10.893795</td>\n",
       "      <td>1</td>\n",
       "      <td>4</td>\n",
       "    </tr>\n",
       "    <tr>\n",
       "      <th>4</th>\n",
       "      <td>2018-01-05</td>\n",
       "      <td>14.788244</td>\n",
       "      <td>1</td>\n",
       "      <td>5</td>\n",
       "    </tr>\n",
       "    <tr>\n",
       "      <th>...</th>\n",
       "      <td>...</td>\n",
       "      <td>...</td>\n",
       "      <td>...</td>\n",
       "      <td>...</td>\n",
       "    </tr>\n",
       "    <tr>\n",
       "      <th>164</th>\n",
       "      <td>2018-06-15</td>\n",
       "      <td>4.101767</td>\n",
       "      <td>6</td>\n",
       "      <td>15</td>\n",
       "    </tr>\n",
       "    <tr>\n",
       "      <th>165</th>\n",
       "      <td>2018-06-18</td>\n",
       "      <td>1.736037</td>\n",
       "      <td>6</td>\n",
       "      <td>18</td>\n",
       "    </tr>\n",
       "    <tr>\n",
       "      <th>166</th>\n",
       "      <td>2018-06-20</td>\n",
       "      <td>1.253464</td>\n",
       "      <td>6</td>\n",
       "      <td>20</td>\n",
       "    </tr>\n",
       "    <tr>\n",
       "      <th>167</th>\n",
       "      <td>2018-06-23</td>\n",
       "      <td>2.110436</td>\n",
       "      <td>6</td>\n",
       "      <td>23</td>\n",
       "    </tr>\n",
       "    <tr>\n",
       "      <th>168</th>\n",
       "      <td>2018-06-26</td>\n",
       "      <td>0.616869</td>\n",
       "      <td>6</td>\n",
       "      <td>26</td>\n",
       "    </tr>\n",
       "  </tbody>\n",
       "</table>\n",
       "<p>169 rows × 4 columns</p>\n",
       "</div>"
      ],
      "text/plain": [
       "        pay_dt  revenue_in_usd  pay_month  pay_day\n",
       "0   2018-01-01        2.107607          1        1\n",
       "1   2018-01-02        5.301488          1        2\n",
       "2   2018-01-03       21.587329          1        3\n",
       "3   2018-01-04       10.893795          1        4\n",
       "4   2018-01-05       14.788244          1        5\n",
       "..         ...             ...        ...      ...\n",
       "164 2018-06-15        4.101767          6       15\n",
       "165 2018-06-18        1.736037          6       18\n",
       "166 2018-06-20        1.253464          6       20\n",
       "167 2018-06-23        2.110436          6       23\n",
       "168 2018-06-26        0.616869          6       26\n",
       "\n",
       "[169 rows x 4 columns]"
      ]
     },
     "execution_count": 93,
     "metadata": {},
     "output_type": "execute_result"
    }
   ],
   "source": [
    "r"
   ]
  },
  {
   "cell_type": "code",
   "execution_count": 94,
   "id": "cbb8f2e4",
   "metadata": {},
   "outputs": [],
   "source": [
    "temp = r.merge(m, how='left', left_on='pay_dt', right_on='dt')"
   ]
  },
  {
   "cell_type": "code",
   "execution_count": 95,
   "id": "13f9a065",
   "metadata": {},
   "outputs": [
    {
     "data": {
      "text/html": [
       "<div>\n",
       "<style scoped>\n",
       "    .dataframe tbody tr th:only-of-type {\n",
       "        vertical-align: middle;\n",
       "    }\n",
       "\n",
       "    .dataframe tbody tr th {\n",
       "        vertical-align: top;\n",
       "    }\n",
       "\n",
       "    .dataframe thead th {\n",
       "        text-align: right;\n",
       "    }\n",
       "</style>\n",
       "<table border=\"1\" class=\"dataframe\">\n",
       "  <thead>\n",
       "    <tr style=\"text-align: right;\">\n",
       "      <th></th>\n",
       "      <th>pay_dt</th>\n",
       "      <th>revenue_in_usd</th>\n",
       "      <th>pay_month</th>\n",
       "      <th>pay_day</th>\n",
       "      <th>dt</th>\n",
       "      <th>user_count</th>\n",
       "      <th>spends_usd</th>\n",
       "      <th>spend_month</th>\n",
       "      <th>spend_day</th>\n",
       "      <th>cost_per_user</th>\n",
       "    </tr>\n",
       "  </thead>\n",
       "  <tbody>\n",
       "    <tr>\n",
       "      <th>0</th>\n",
       "      <td>2018-01-01</td>\n",
       "      <td>2.107607</td>\n",
       "      <td>1</td>\n",
       "      <td>1</td>\n",
       "      <td>2018-01-01</td>\n",
       "      <td>1871.0</td>\n",
       "      <td>1687.170085</td>\n",
       "      <td>1.0</td>\n",
       "      <td>1.0</td>\n",
       "      <td>0.90</td>\n",
       "    </tr>\n",
       "    <tr>\n",
       "      <th>1</th>\n",
       "      <td>2018-01-02</td>\n",
       "      <td>5.301488</td>\n",
       "      <td>1</td>\n",
       "      <td>2</td>\n",
       "      <td>2018-01-02</td>\n",
       "      <td>1645.0</td>\n",
       "      <td>1752.709034</td>\n",
       "      <td>1.0</td>\n",
       "      <td>2.0</td>\n",
       "      <td>1.07</td>\n",
       "    </tr>\n",
       "    <tr>\n",
       "      <th>2</th>\n",
       "      <td>2018-01-03</td>\n",
       "      <td>21.587329</td>\n",
       "      <td>1</td>\n",
       "      <td>3</td>\n",
       "      <td>2018-01-03</td>\n",
       "      <td>1814.0</td>\n",
       "      <td>2081.399414</td>\n",
       "      <td>1.0</td>\n",
       "      <td>3.0</td>\n",
       "      <td>1.15</td>\n",
       "    </tr>\n",
       "    <tr>\n",
       "      <th>3</th>\n",
       "      <td>2018-01-04</td>\n",
       "      <td>10.893795</td>\n",
       "      <td>1</td>\n",
       "      <td>4</td>\n",
       "      <td>2018-01-04</td>\n",
       "      <td>1824.0</td>\n",
       "      <td>1862.847898</td>\n",
       "      <td>1.0</td>\n",
       "      <td>4.0</td>\n",
       "      <td>1.02</td>\n",
       "    </tr>\n",
       "    <tr>\n",
       "      <th>4</th>\n",
       "      <td>2018-01-05</td>\n",
       "      <td>14.788244</td>\n",
       "      <td>1</td>\n",
       "      <td>5</td>\n",
       "      <td>2018-01-05</td>\n",
       "      <td>2273.0</td>\n",
       "      <td>1920.828185</td>\n",
       "      <td>1.0</td>\n",
       "      <td>5.0</td>\n",
       "      <td>0.85</td>\n",
       "    </tr>\n",
       "  </tbody>\n",
       "</table>\n",
       "</div>"
      ],
      "text/plain": [
       "      pay_dt  revenue_in_usd  pay_month  pay_day         dt  user_count  \\\n",
       "0 2018-01-01        2.107607          1        1 2018-01-01      1871.0   \n",
       "1 2018-01-02        5.301488          1        2 2018-01-02      1645.0   \n",
       "2 2018-01-03       21.587329          1        3 2018-01-03      1814.0   \n",
       "3 2018-01-04       10.893795          1        4 2018-01-04      1824.0   \n",
       "4 2018-01-05       14.788244          1        5 2018-01-05      2273.0   \n",
       "\n",
       "    spends_usd  spend_month  spend_day  cost_per_user  \n",
       "0  1687.170085          1.0        1.0           0.90  \n",
       "1  1752.709034          1.0        2.0           1.07  \n",
       "2  2081.399414          1.0        3.0           1.15  \n",
       "3  1862.847898          1.0        4.0           1.02  \n",
       "4  1920.828185          1.0        5.0           0.85  "
      ]
     },
     "execution_count": 95,
     "metadata": {},
     "output_type": "execute_result"
    }
   ],
   "source": [
    "temp.head()"
   ]
  },
  {
   "cell_type": "code",
   "execution_count": 96,
   "id": "b0ede58b",
   "metadata": {},
   "outputs": [],
   "source": [
    "t = temp.groupby('pay_month')[['user_count', 'cost_per_user', \n",
    "                        'spends_usd', 'revenue_in_usd']].agg({\n",
    "    'user_count': 'sum', \n",
    "    'cost_per_user': 'mean',  \n",
    "    'spends_usd': ['sum', 'mean'], \n",
    "    'revenue_in_usd': ['sum', 'mean']})"
   ]
  },
  {
   "cell_type": "code",
   "execution_count": 97,
   "id": "1fa38bee",
   "metadata": {},
   "outputs": [],
   "source": [
    "t['ratio'] = t['revenue_in_usd']['sum'] - t['spends_usd']['sum']"
   ]
  },
  {
   "cell_type": "code",
   "execution_count": 98,
   "id": "6ed00292",
   "metadata": {},
   "outputs": [],
   "source": [
    "t['arpu'] = t['revenue_in_usd']['sum'] / t['user_count']['sum']"
   ]
  },
  {
   "cell_type": "code",
   "execution_count": 99,
   "id": "86f52e30",
   "metadata": {},
   "outputs": [
    {
     "data": {
      "text/html": [
       "<div>\n",
       "<style scoped>\n",
       "    .dataframe tbody tr th:only-of-type {\n",
       "        vertical-align: middle;\n",
       "    }\n",
       "\n",
       "    .dataframe tbody tr th {\n",
       "        vertical-align: top;\n",
       "    }\n",
       "\n",
       "    .dataframe thead tr th {\n",
       "        text-align: left;\n",
       "    }\n",
       "\n",
       "    .dataframe thead tr:last-of-type th {\n",
       "        text-align: right;\n",
       "    }\n",
       "</style>\n",
       "<table border=\"1\" class=\"dataframe\">\n",
       "  <thead>\n",
       "    <tr>\n",
       "      <th></th>\n",
       "      <th>user_count</th>\n",
       "      <th>cost_per_user</th>\n",
       "      <th colspan=\"2\" halign=\"left\">spends_usd</th>\n",
       "      <th colspan=\"2\" halign=\"left\">revenue_in_usd</th>\n",
       "      <th>ratio</th>\n",
       "      <th>arpu</th>\n",
       "    </tr>\n",
       "    <tr>\n",
       "      <th></th>\n",
       "      <th>sum</th>\n",
       "      <th>mean</th>\n",
       "      <th>sum</th>\n",
       "      <th>mean</th>\n",
       "      <th>sum</th>\n",
       "      <th>mean</th>\n",
       "      <th></th>\n",
       "      <th></th>\n",
       "    </tr>\n",
       "    <tr>\n",
       "      <th>pay_month</th>\n",
       "      <th></th>\n",
       "      <th></th>\n",
       "      <th></th>\n",
       "      <th></th>\n",
       "      <th></th>\n",
       "      <th></th>\n",
       "      <th></th>\n",
       "      <th></th>\n",
       "    </tr>\n",
       "  </thead>\n",
       "  <tbody>\n",
       "    <tr>\n",
       "      <th>1</th>\n",
       "      <td>58792.0</td>\n",
       "      <td>1.005806</td>\n",
       "      <td>58961.000131</td>\n",
       "      <td>1901.967746</td>\n",
       "      <td>993.890183</td>\n",
       "      <td>32.060974</td>\n",
       "      <td>-57967.109949</td>\n",
       "      <td>0.016905</td>\n",
       "    </tr>\n",
       "    <tr>\n",
       "      <th>2</th>\n",
       "      <td>55119.0</td>\n",
       "      <td>1.010714</td>\n",
       "      <td>55436.101591</td>\n",
       "      <td>1979.860771</td>\n",
       "      <td>1571.577614</td>\n",
       "      <td>56.127772</td>\n",
       "      <td>-53864.523976</td>\n",
       "      <td>0.028512</td>\n",
       "    </tr>\n",
       "    <tr>\n",
       "      <th>3</th>\n",
       "      <td>47524.0</td>\n",
       "      <td>1.017419</td>\n",
       "      <td>48419.491190</td>\n",
       "      <td>1561.919071</td>\n",
       "      <td>2084.719877</td>\n",
       "      <td>67.249028</td>\n",
       "      <td>-46334.771313</td>\n",
       "      <td>0.043867</td>\n",
       "    </tr>\n",
       "    <tr>\n",
       "      <th>4</th>\n",
       "      <td>0.0</td>\n",
       "      <td>NaN</td>\n",
       "      <td>0.000000</td>\n",
       "      <td>NaN</td>\n",
       "      <td>1098.541284</td>\n",
       "      <td>36.618043</td>\n",
       "      <td>1098.541284</td>\n",
       "      <td>inf</td>\n",
       "    </tr>\n",
       "    <tr>\n",
       "      <th>5</th>\n",
       "      <td>0.0</td>\n",
       "      <td>NaN</td>\n",
       "      <td>0.000000</td>\n",
       "      <td>NaN</td>\n",
       "      <td>375.859305</td>\n",
       "      <td>12.124494</td>\n",
       "      <td>375.859305</td>\n",
       "      <td>inf</td>\n",
       "    </tr>\n",
       "    <tr>\n",
       "      <th>6</th>\n",
       "      <td>0.0</td>\n",
       "      <td>NaN</td>\n",
       "      <td>0.000000</td>\n",
       "      <td>NaN</td>\n",
       "      <td>44.253901</td>\n",
       "      <td>2.458550</td>\n",
       "      <td>44.253901</td>\n",
       "      <td>inf</td>\n",
       "    </tr>\n",
       "  </tbody>\n",
       "</table>\n",
       "</div>"
      ],
      "text/plain": [
       "          user_count cost_per_user    spends_usd              revenue_in_usd  \\\n",
       "                 sum          mean           sum         mean            sum   \n",
       "pay_month                                                                      \n",
       "1            58792.0      1.005806  58961.000131  1901.967746     993.890183   \n",
       "2            55119.0      1.010714  55436.101591  1979.860771    1571.577614   \n",
       "3            47524.0      1.017419  48419.491190  1561.919071    2084.719877   \n",
       "4                0.0           NaN      0.000000          NaN    1098.541284   \n",
       "5                0.0           NaN      0.000000          NaN     375.859305   \n",
       "6                0.0           NaN      0.000000          NaN      44.253901   \n",
       "\n",
       "                             ratio      arpu  \n",
       "                mean                          \n",
       "pay_month                                     \n",
       "1          32.060974 -57967.109949  0.016905  \n",
       "2          56.127772 -53864.523976  0.028512  \n",
       "3          67.249028 -46334.771313  0.043867  \n",
       "4          36.618043   1098.541284       inf  \n",
       "5          12.124494    375.859305       inf  \n",
       "6           2.458550     44.253901       inf  "
      ]
     },
     "execution_count": 99,
     "metadata": {},
     "output_type": "execute_result"
    }
   ],
   "source": [
    "t"
   ]
  },
  {
   "cell_type": "markdown",
   "id": "1414ce2e",
   "metadata": {},
   "source": [
    "In general, it looks like that promotion campaign wasn't successful: spends are higher than revenue.\n",
    "Even the last three months, when the ads were disabled, monthly revenue was lower than in the previous months when the ads were active.\n",
    "\n",
    "It looks like for existing traffic amount campaign has a high cost per user."
   ]
  },
  {
   "cell_type": "markdown",
   "id": "0062ea69",
   "metadata": {},
   "source": [
    "**6 months ARPU & ARPPU**"
   ]
  },
  {
   "cell_type": "code",
   "execution_count": 100,
   "id": "b4fc2cac",
   "metadata": {},
   "outputs": [
    {
     "name": "stdout",
     "output_type": "stream",
     "text": [
      "ARPU: 0.038 USD\n"
     ]
    }
   ],
   "source": [
    "print(f\"ARPU: {round(revenue['revenue_in_usd'].sum()/users['id'].nunique(), 3)} USD\")"
   ]
  },
  {
   "cell_type": "code",
   "execution_count": 101,
   "id": "9b1be6c4",
   "metadata": {},
   "outputs": [
    {
     "name": "stdout",
     "output_type": "stream",
     "text": [
      "ARPPU: 1.924 USD\n"
     ]
    }
   ],
   "source": [
    "print(f\"ARPPU: {round(revenue['revenue_in_usd'].sum()/revenue['id'].nunique(), 3)} USD\")"
   ]
  },
  {
   "cell_type": "markdown",
   "id": "4a3bf3c0",
   "metadata": {},
   "source": [
    "### 8. Logins + Revenue"
   ]
  },
  {
   "cell_type": "markdown",
   "id": "7036e0ab",
   "metadata": {},
   "source": [
    "Number of logins per day."
   ]
  },
  {
   "cell_type": "code",
   "execution_count": 102,
   "id": "3c5793c7",
   "metadata": {},
   "outputs": [
    {
     "data": {
      "text/html": [
       "<div>\n",
       "<style scoped>\n",
       "    .dataframe tbody tr th:only-of-type {\n",
       "        vertical-align: middle;\n",
       "    }\n",
       "\n",
       "    .dataframe tbody tr th {\n",
       "        vertical-align: top;\n",
       "    }\n",
       "\n",
       "    .dataframe thead th {\n",
       "        text-align: right;\n",
       "    }\n",
       "</style>\n",
       "<table border=\"1\" class=\"dataframe\">\n",
       "  <thead>\n",
       "    <tr style=\"text-align: right;\">\n",
       "      <th></th>\n",
       "      <th>login_dt</th>\n",
       "      <th>id</th>\n",
       "    </tr>\n",
       "  </thead>\n",
       "  <tbody>\n",
       "    <tr>\n",
       "      <th>0</th>\n",
       "      <td>2018-01-01</td>\n",
       "      <td>1</td>\n",
       "    </tr>\n",
       "    <tr>\n",
       "      <th>1</th>\n",
       "      <td>2018-01-01</td>\n",
       "      <td>2</td>\n",
       "    </tr>\n",
       "    <tr>\n",
       "      <th>2</th>\n",
       "      <td>2018-01-01</td>\n",
       "      <td>3</td>\n",
       "    </tr>\n",
       "    <tr>\n",
       "      <th>3</th>\n",
       "      <td>2018-01-01</td>\n",
       "      <td>4</td>\n",
       "    </tr>\n",
       "    <tr>\n",
       "      <th>4</th>\n",
       "      <td>2018-01-01</td>\n",
       "      <td>5</td>\n",
       "    </tr>\n",
       "  </tbody>\n",
       "</table>\n",
       "</div>"
      ],
      "text/plain": [
       "    login_dt  id\n",
       "0 2018-01-01   1\n",
       "1 2018-01-01   2\n",
       "2 2018-01-01   3\n",
       "3 2018-01-01   4\n",
       "4 2018-01-01   5"
      ]
     },
     "execution_count": 102,
     "metadata": {},
     "output_type": "execute_result"
    }
   ],
   "source": [
    "logins.head()"
   ]
  },
  {
   "cell_type": "code",
   "execution_count": 103,
   "id": "29fac12d",
   "metadata": {},
   "outputs": [
    {
     "name": "stdout",
     "output_type": "stream",
     "text": [
      "2018-01-01 00:00:00\n",
      "2018-06-29 00:00:00\n"
     ]
    }
   ],
   "source": [
    "print(logins['login_dt'].min(), logins['login_dt'].max(), sep='\\n')"
   ]
  },
  {
   "cell_type": "code",
   "execution_count": 104,
   "id": "4224e85b",
   "metadata": {},
   "outputs": [],
   "source": [
    "l = logins.groupby('id')['login_dt'].count().sort_values(ascending=False)"
   ]
  },
  {
   "cell_type": "code",
   "execution_count": 105,
   "id": "31f0d76a",
   "metadata": {},
   "outputs": [
    {
     "data": {
      "image/png": "[encoded data removed]",
      "text/plain": [
       "<Figure size 432x288 with 1 Axes>"
      ]
     },
     "metadata": {
      "needs_background": "light"
     },
     "output_type": "display_data"
    }
   ],
   "source": [
    "l.hist();"
   ]
  },
  {
   "cell_type": "code",
   "execution_count": 106,
   "id": "ab07817d",
   "metadata": {},
   "outputs": [],
   "source": [
    "l = logins.groupby('login_dt')['id'].count().sort_values(\n",
    "    ascending=False).reset_index().rename(\n",
    "    columns={'id': 'n_logins'})"
   ]
  },
  {
   "cell_type": "code",
   "execution_count": 107,
   "id": "c267badd",
   "metadata": {},
   "outputs": [
    {
     "data": {
      "text/html": [
       "<div>\n",
       "<style scoped>\n",
       "    .dataframe tbody tr th:only-of-type {\n",
       "        vertical-align: middle;\n",
       "    }\n",
       "\n",
       "    .dataframe tbody tr th {\n",
       "        vertical-align: top;\n",
       "    }\n",
       "\n",
       "    .dataframe thead th {\n",
       "        text-align: right;\n",
       "    }\n",
       "</style>\n",
       "<table border=\"1\" class=\"dataframe\">\n",
       "  <thead>\n",
       "    <tr style=\"text-align: right;\">\n",
       "      <th></th>\n",
       "      <th>login_dt</th>\n",
       "      <th>n_logins</th>\n",
       "    </tr>\n",
       "  </thead>\n",
       "  <tbody>\n",
       "    <tr>\n",
       "      <th>0</th>\n",
       "      <td>2018-03-11</td>\n",
       "      <td>35313</td>\n",
       "    </tr>\n",
       "    <tr>\n",
       "      <th>1</th>\n",
       "      <td>2018-03-17</td>\n",
       "      <td>35188</td>\n",
       "    </tr>\n",
       "    <tr>\n",
       "      <th>2</th>\n",
       "      <td>2018-03-12</td>\n",
       "      <td>35185</td>\n",
       "    </tr>\n",
       "    <tr>\n",
       "      <th>3</th>\n",
       "      <td>2018-03-21</td>\n",
       "      <td>35075</td>\n",
       "    </tr>\n",
       "    <tr>\n",
       "      <th>4</th>\n",
       "      <td>2018-03-30</td>\n",
       "      <td>34943</td>\n",
       "    </tr>\n",
       "    <tr>\n",
       "      <th>...</th>\n",
       "      <td>...</td>\n",
       "      <td>...</td>\n",
       "    </tr>\n",
       "    <tr>\n",
       "      <th>175</th>\n",
       "      <td>2018-06-25</td>\n",
       "      <td>232</td>\n",
       "    </tr>\n",
       "    <tr>\n",
       "      <th>176</th>\n",
       "      <td>2018-06-26</td>\n",
       "      <td>191</td>\n",
       "    </tr>\n",
       "    <tr>\n",
       "      <th>177</th>\n",
       "      <td>2018-06-27</td>\n",
       "      <td>133</td>\n",
       "    </tr>\n",
       "    <tr>\n",
       "      <th>178</th>\n",
       "      <td>2018-06-28</td>\n",
       "      <td>90</td>\n",
       "    </tr>\n",
       "    <tr>\n",
       "      <th>179</th>\n",
       "      <td>2018-06-29</td>\n",
       "      <td>43</td>\n",
       "    </tr>\n",
       "  </tbody>\n",
       "</table>\n",
       "<p>180 rows × 2 columns</p>\n",
       "</div>"
      ],
      "text/plain": [
       "      login_dt  n_logins\n",
       "0   2018-03-11     35313\n",
       "1   2018-03-17     35188\n",
       "2   2018-03-12     35185\n",
       "3   2018-03-21     35075\n",
       "4   2018-03-30     34943\n",
       "..         ...       ...\n",
       "175 2018-06-25       232\n",
       "176 2018-06-26       191\n",
       "177 2018-06-27       133\n",
       "178 2018-06-28        90\n",
       "179 2018-06-29        43\n",
       "\n",
       "[180 rows x 2 columns]"
      ]
     },
     "execution_count": 107,
     "metadata": {},
     "output_type": "execute_result"
    }
   ],
   "source": [
    "l"
   ]
  },
  {
   "cell_type": "code",
   "execution_count": 108,
   "id": "b63e6a62",
   "metadata": {},
   "outputs": [
    {
     "data": {
      "image/png": "[encoded data removed]",
      "text/plain": [
       "<Figure size 432x288 with 1 Axes>"
      ]
     },
     "metadata": {
      "needs_background": "light"
     },
     "output_type": "display_data"
    }
   ],
   "source": [
    "l.plot(x='login_dt', y='n_logins');"
   ]
  },
  {
   "cell_type": "code",
   "execution_count": 109,
   "id": "87d18a90",
   "metadata": {},
   "outputs": [],
   "source": [
    "j = temp.merge(l, how='left', left_on='pay_dt', right_on='login_dt')"
   ]
  },
  {
   "cell_type": "code",
   "execution_count": 110,
   "id": "bdf4444a",
   "metadata": {},
   "outputs": [
    {
     "data": {
      "text/html": [
       "<div>\n",
       "<style scoped>\n",
       "    .dataframe tbody tr th:only-of-type {\n",
       "        vertical-align: middle;\n",
       "    }\n",
       "\n",
       "    .dataframe tbody tr th {\n",
       "        vertical-align: top;\n",
       "    }\n",
       "\n",
       "    .dataframe thead th {\n",
       "        text-align: right;\n",
       "    }\n",
       "</style>\n",
       "<table border=\"1\" class=\"dataframe\">\n",
       "  <thead>\n",
       "    <tr style=\"text-align: right;\">\n",
       "      <th></th>\n",
       "      <th>pay_dt</th>\n",
       "      <th>revenue_in_usd</th>\n",
       "      <th>pay_month</th>\n",
       "      <th>pay_day</th>\n",
       "      <th>dt</th>\n",
       "      <th>user_count</th>\n",
       "      <th>spends_usd</th>\n",
       "      <th>spend_month</th>\n",
       "      <th>spend_day</th>\n",
       "      <th>cost_per_user</th>\n",
       "      <th>login_dt</th>\n",
       "      <th>n_logins</th>\n",
       "    </tr>\n",
       "  </thead>\n",
       "  <tbody>\n",
       "    <tr>\n",
       "      <th>0</th>\n",
       "      <td>2018-01-01</td>\n",
       "      <td>2.107607</td>\n",
       "      <td>1</td>\n",
       "      <td>1</td>\n",
       "      <td>2018-01-01</td>\n",
       "      <td>1871.0</td>\n",
       "      <td>1687.170085</td>\n",
       "      <td>1.0</td>\n",
       "      <td>1.0</td>\n",
       "      <td>0.90</td>\n",
       "      <td>2018-01-01</td>\n",
       "      <td>1871</td>\n",
       "    </tr>\n",
       "    <tr>\n",
       "      <th>1</th>\n",
       "      <td>2018-01-02</td>\n",
       "      <td>5.301488</td>\n",
       "      <td>1</td>\n",
       "      <td>2</td>\n",
       "      <td>2018-01-02</td>\n",
       "      <td>1645.0</td>\n",
       "      <td>1752.709034</td>\n",
       "      <td>1.0</td>\n",
       "      <td>2.0</td>\n",
       "      <td>1.07</td>\n",
       "      <td>2018-01-02</td>\n",
       "      <td>3135</td>\n",
       "    </tr>\n",
       "    <tr>\n",
       "      <th>2</th>\n",
       "      <td>2018-01-03</td>\n",
       "      <td>21.587329</td>\n",
       "      <td>1</td>\n",
       "      <td>3</td>\n",
       "      <td>2018-01-03</td>\n",
       "      <td>1814.0</td>\n",
       "      <td>2081.399414</td>\n",
       "      <td>1.0</td>\n",
       "      <td>3.0</td>\n",
       "      <td>1.15</td>\n",
       "      <td>2018-01-03</td>\n",
       "      <td>4446</td>\n",
       "    </tr>\n",
       "    <tr>\n",
       "      <th>3</th>\n",
       "      <td>2018-01-04</td>\n",
       "      <td>10.893795</td>\n",
       "      <td>1</td>\n",
       "      <td>4</td>\n",
       "      <td>2018-01-04</td>\n",
       "      <td>1824.0</td>\n",
       "      <td>1862.847898</td>\n",
       "      <td>1.0</td>\n",
       "      <td>4.0</td>\n",
       "      <td>1.02</td>\n",
       "      <td>2018-01-04</td>\n",
       "      <td>5936</td>\n",
       "    </tr>\n",
       "    <tr>\n",
       "      <th>4</th>\n",
       "      <td>2018-01-05</td>\n",
       "      <td>14.788244</td>\n",
       "      <td>1</td>\n",
       "      <td>5</td>\n",
       "      <td>2018-01-05</td>\n",
       "      <td>2273.0</td>\n",
       "      <td>1920.828185</td>\n",
       "      <td>1.0</td>\n",
       "      <td>5.0</td>\n",
       "      <td>0.85</td>\n",
       "      <td>2018-01-05</td>\n",
       "      <td>7642</td>\n",
       "    </tr>\n",
       "    <tr>\n",
       "      <th>...</th>\n",
       "      <td>...</td>\n",
       "      <td>...</td>\n",
       "      <td>...</td>\n",
       "      <td>...</td>\n",
       "      <td>...</td>\n",
       "      <td>...</td>\n",
       "      <td>...</td>\n",
       "      <td>...</td>\n",
       "      <td>...</td>\n",
       "      <td>...</td>\n",
       "      <td>...</td>\n",
       "      <td>...</td>\n",
       "    </tr>\n",
       "    <tr>\n",
       "      <th>164</th>\n",
       "      <td>2018-06-15</td>\n",
       "      <td>4.101767</td>\n",
       "      <td>6</td>\n",
       "      <td>15</td>\n",
       "      <td>NaT</td>\n",
       "      <td>NaN</td>\n",
       "      <td>NaN</td>\n",
       "      <td>NaN</td>\n",
       "      <td>NaN</td>\n",
       "      <td>NaN</td>\n",
       "      <td>2018-06-15</td>\n",
       "      <td>1049</td>\n",
       "    </tr>\n",
       "    <tr>\n",
       "      <th>165</th>\n",
       "      <td>2018-06-18</td>\n",
       "      <td>1.736037</td>\n",
       "      <td>6</td>\n",
       "      <td>18</td>\n",
       "      <td>NaT</td>\n",
       "      <td>NaN</td>\n",
       "      <td>NaN</td>\n",
       "      <td>NaN</td>\n",
       "      <td>NaN</td>\n",
       "      <td>NaN</td>\n",
       "      <td>2018-06-18</td>\n",
       "      <td>731</td>\n",
       "    </tr>\n",
       "    <tr>\n",
       "      <th>166</th>\n",
       "      <td>2018-06-20</td>\n",
       "      <td>1.253464</td>\n",
       "      <td>6</td>\n",
       "      <td>20</td>\n",
       "      <td>NaT</td>\n",
       "      <td>NaN</td>\n",
       "      <td>NaN</td>\n",
       "      <td>NaN</td>\n",
       "      <td>NaN</td>\n",
       "      <td>NaN</td>\n",
       "      <td>2018-06-20</td>\n",
       "      <td>594</td>\n",
       "    </tr>\n",
       "    <tr>\n",
       "      <th>167</th>\n",
       "      <td>2018-06-23</td>\n",
       "      <td>2.110436</td>\n",
       "      <td>6</td>\n",
       "      <td>23</td>\n",
       "      <td>NaT</td>\n",
       "      <td>NaN</td>\n",
       "      <td>NaN</td>\n",
       "      <td>NaN</td>\n",
       "      <td>NaN</td>\n",
       "      <td>NaN</td>\n",
       "      <td>2018-06-23</td>\n",
       "      <td>372</td>\n",
       "    </tr>\n",
       "    <tr>\n",
       "      <th>168</th>\n",
       "      <td>2018-06-26</td>\n",
       "      <td>0.616869</td>\n",
       "      <td>6</td>\n",
       "      <td>26</td>\n",
       "      <td>NaT</td>\n",
       "      <td>NaN</td>\n",
       "      <td>NaN</td>\n",
       "      <td>NaN</td>\n",
       "      <td>NaN</td>\n",
       "      <td>NaN</td>\n",
       "      <td>2018-06-26</td>\n",
       "      <td>191</td>\n",
       "    </tr>\n",
       "  </tbody>\n",
       "</table>\n",
       "<p>169 rows × 12 columns</p>\n",
       "</div>"
      ],
      "text/plain": [
       "        pay_dt  revenue_in_usd  pay_month  pay_day         dt  user_count  \\\n",
       "0   2018-01-01        2.107607          1        1 2018-01-01      1871.0   \n",
       "1   2018-01-02        5.301488          1        2 2018-01-02      1645.0   \n",
       "2   2018-01-03       21.587329          1        3 2018-01-03      1814.0   \n",
       "3   2018-01-04       10.893795          1        4 2018-01-04      1824.0   \n",
       "4   2018-01-05       14.788244          1        5 2018-01-05      2273.0   \n",
       "..         ...             ...        ...      ...        ...         ...   \n",
       "164 2018-06-15        4.101767          6       15        NaT         NaN   \n",
       "165 2018-06-18        1.736037          6       18        NaT         NaN   \n",
       "166 2018-06-20        1.253464          6       20        NaT         NaN   \n",
       "167 2018-06-23        2.110436          6       23        NaT         NaN   \n",
       "168 2018-06-26        0.616869          6       26        NaT         NaN   \n",
       "\n",
       "      spends_usd  spend_month  spend_day  cost_per_user   login_dt  n_logins  \n",
       "0    1687.170085          1.0        1.0           0.90 2018-01-01      1871  \n",
       "1    1752.709034          1.0        2.0           1.07 2018-01-02      3135  \n",
       "2    2081.399414          1.0        3.0           1.15 2018-01-03      4446  \n",
       "3    1862.847898          1.0        4.0           1.02 2018-01-04      5936  \n",
       "4    1920.828185          1.0        5.0           0.85 2018-01-05      7642  \n",
       "..           ...          ...        ...            ...        ...       ...  \n",
       "164          NaN          NaN        NaN            NaN 2018-06-15      1049  \n",
       "165          NaN          NaN        NaN            NaN 2018-06-18       731  \n",
       "166          NaN          NaN        NaN            NaN 2018-06-20       594  \n",
       "167          NaN          NaN        NaN            NaN 2018-06-23       372  \n",
       "168          NaN          NaN        NaN            NaN 2018-06-26       191  \n",
       "\n",
       "[169 rows x 12 columns]"
      ]
     },
     "execution_count": 110,
     "metadata": {},
     "output_type": "execute_result"
    }
   ],
   "source": [
    "j"
   ]
  },
  {
   "cell_type": "code",
   "execution_count": 111,
   "id": "ac6f088c",
   "metadata": {},
   "outputs": [
    {
     "data": {
      "text/html": [
       "<div>\n",
       "<style scoped>\n",
       "    .dataframe tbody tr th:only-of-type {\n",
       "        vertical-align: middle;\n",
       "    }\n",
       "\n",
       "    .dataframe tbody tr th {\n",
       "        vertical-align: top;\n",
       "    }\n",
       "\n",
       "    .dataframe thead th {\n",
       "        text-align: right;\n",
       "    }\n",
       "</style>\n",
       "<table border=\"1\" class=\"dataframe\">\n",
       "  <thead>\n",
       "    <tr style=\"text-align: right;\">\n",
       "      <th></th>\n",
       "      <th>revenue_in_usd</th>\n",
       "      <th>pay_month</th>\n",
       "      <th>pay_day</th>\n",
       "      <th>user_count</th>\n",
       "      <th>spends_usd</th>\n",
       "      <th>spend_month</th>\n",
       "      <th>spend_day</th>\n",
       "      <th>cost_per_user</th>\n",
       "      <th>n_logins</th>\n",
       "    </tr>\n",
       "  </thead>\n",
       "  <tbody>\n",
       "    <tr>\n",
       "      <th>revenue_in_usd</th>\n",
       "      <td>1.000000</td>\n",
       "      <td>-4.828900e-01</td>\n",
       "      <td>2.142839e-02</td>\n",
       "      <td>-0.125427</td>\n",
       "      <td>-0.076702</td>\n",
       "      <td>6.262525e-01</td>\n",
       "      <td>1.935200e-01</td>\n",
       "      <td>0.098018</td>\n",
       "      <td>0.846488</td>\n",
       "    </tr>\n",
       "    <tr>\n",
       "      <th>pay_month</th>\n",
       "      <td>-0.482890</td>\n",
       "      <td>1.000000e+00</td>\n",
       "      <td>-7.669768e-02</td>\n",
       "      <td>-0.392641</td>\n",
       "      <td>-0.348441</td>\n",
       "      <td>1.000000e+00</td>\n",
       "      <td>1.910774e-17</td>\n",
       "      <td>0.047388</td>\n",
       "      <td>-0.481060</td>\n",
       "    </tr>\n",
       "    <tr>\n",
       "      <th>pay_day</th>\n",
       "      <td>0.021428</td>\n",
       "      <td>-7.669768e-02</td>\n",
       "      <td>1.000000e+00</td>\n",
       "      <td>-0.234010</td>\n",
       "      <td>-0.251426</td>\n",
       "      <td>-3.275613e-17</td>\n",
       "      <td>1.000000e+00</td>\n",
       "      <td>-0.071159</td>\n",
       "      <td>0.044430</td>\n",
       "    </tr>\n",
       "    <tr>\n",
       "      <th>user_count</th>\n",
       "      <td>-0.125427</td>\n",
       "      <td>-3.926408e-01</td>\n",
       "      <td>-2.340100e-01</td>\n",
       "      <td>1.000000</td>\n",
       "      <td>0.897623</td>\n",
       "      <td>-3.926408e-01</td>\n",
       "      <td>-2.340100e-01</td>\n",
       "      <td>-0.110124</td>\n",
       "      <td>-0.301527</td>\n",
       "    </tr>\n",
       "    <tr>\n",
       "      <th>spends_usd</th>\n",
       "      <td>-0.076702</td>\n",
       "      <td>-3.484411e-01</td>\n",
       "      <td>-2.514255e-01</td>\n",
       "      <td>0.897623</td>\n",
       "      <td>1.000000</td>\n",
       "      <td>-3.484411e-01</td>\n",
       "      <td>-2.514255e-01</td>\n",
       "      <td>0.331602</td>\n",
       "      <td>-0.262013</td>\n",
       "    </tr>\n",
       "    <tr>\n",
       "      <th>spend_month</th>\n",
       "      <td>0.626252</td>\n",
       "      <td>1.000000e+00</td>\n",
       "      <td>-3.275613e-17</td>\n",
       "      <td>-0.392641</td>\n",
       "      <td>-0.348441</td>\n",
       "      <td>1.000000e+00</td>\n",
       "      <td>1.910774e-17</td>\n",
       "      <td>0.047388</td>\n",
       "      <td>0.893052</td>\n",
       "    </tr>\n",
       "    <tr>\n",
       "      <th>spend_day</th>\n",
       "      <td>0.193520</td>\n",
       "      <td>1.910774e-17</td>\n",
       "      <td>1.000000e+00</td>\n",
       "      <td>-0.234010</td>\n",
       "      <td>-0.251426</td>\n",
       "      <td>1.910774e-17</td>\n",
       "      <td>1.000000e+00</td>\n",
       "      <td>-0.071159</td>\n",
       "      <td>0.257157</td>\n",
       "    </tr>\n",
       "    <tr>\n",
       "      <th>cost_per_user</th>\n",
       "      <td>0.098018</td>\n",
       "      <td>4.738808e-02</td>\n",
       "      <td>-7.115882e-02</td>\n",
       "      <td>-0.110124</td>\n",
       "      <td>0.331602</td>\n",
       "      <td>4.738808e-02</td>\n",
       "      <td>-7.115882e-02</td>\n",
       "      <td>1.000000</td>\n",
       "      <td>0.052397</td>\n",
       "    </tr>\n",
       "    <tr>\n",
       "      <th>n_logins</th>\n",
       "      <td>0.846488</td>\n",
       "      <td>-4.810595e-01</td>\n",
       "      <td>4.442997e-02</td>\n",
       "      <td>-0.301527</td>\n",
       "      <td>-0.262013</td>\n",
       "      <td>8.930515e-01</td>\n",
       "      <td>2.571565e-01</td>\n",
       "      <td>0.052397</td>\n",
       "      <td>1.000000</td>\n",
       "    </tr>\n",
       "  </tbody>\n",
       "</table>\n",
       "</div>"
      ],
      "text/plain": [
       "                revenue_in_usd     pay_month       pay_day  user_count  \\\n",
       "revenue_in_usd        1.000000 -4.828900e-01  2.142839e-02   -0.125427   \n",
       "pay_month            -0.482890  1.000000e+00 -7.669768e-02   -0.392641   \n",
       "pay_day               0.021428 -7.669768e-02  1.000000e+00   -0.234010   \n",
       "user_count           -0.125427 -3.926408e-01 -2.340100e-01    1.000000   \n",
       "spends_usd           -0.076702 -3.484411e-01 -2.514255e-01    0.897623   \n",
       "spend_month           0.626252  1.000000e+00 -3.275613e-17   -0.392641   \n",
       "spend_day             0.193520  1.910774e-17  1.000000e+00   -0.234010   \n",
       "cost_per_user         0.098018  4.738808e-02 -7.115882e-02   -0.110124   \n",
       "n_logins              0.846488 -4.810595e-01  4.442997e-02   -0.301527   \n",
       "\n",
       "                spends_usd   spend_month     spend_day  cost_per_user  \\\n",
       "revenue_in_usd   -0.076702  6.262525e-01  1.935200e-01       0.098018   \n",
       "pay_month        -0.348441  1.000000e+00  1.910774e-17       0.047388   \n",
       "pay_day          -0.251426 -3.275613e-17  1.000000e+00      -0.071159   \n",
       "user_count        0.897623 -3.926408e-01 -2.340100e-01      -0.110124   \n",
       "spends_usd        1.000000 -3.484411e-01 -2.514255e-01       0.331602   \n",
       "spend_month      -0.348441  1.000000e+00  1.910774e-17       0.047388   \n",
       "spend_day        -0.251426  1.910774e-17  1.000000e+00      -0.071159   \n",
       "cost_per_user     0.331602  4.738808e-02 -7.115882e-02       1.000000   \n",
       "n_logins         -0.262013  8.930515e-01  2.571565e-01       0.052397   \n",
       "\n",
       "                n_logins  \n",
       "revenue_in_usd  0.846488  \n",
       "pay_month      -0.481060  \n",
       "pay_day         0.044430  \n",
       "user_count     -0.301527  \n",
       "spends_usd     -0.262013  \n",
       "spend_month     0.893052  \n",
       "spend_day       0.257157  \n",
       "cost_per_user   0.052397  \n",
       "n_logins        1.000000  "
      ]
     },
     "execution_count": 111,
     "metadata": {},
     "output_type": "execute_result"
    }
   ],
   "source": [
    "j.corr()"
   ]
  },
  {
   "cell_type": "code",
   "execution_count": 112,
   "id": "e33c10de",
   "metadata": {},
   "outputs": [
    {
     "data": {
      "image/png": "[encoded data removed]",
      "text/plain": [
       "<Figure size 720x720 with 2 Axes>"
      ]
     },
     "metadata": {},
     "output_type": "display_data"
    }
   ],
   "source": [
    "sns.set(rc={'figure.figsize':(10, 10)})\n",
    "sns.heatmap(j.corr(), annot=True);"
   ]
  },
  {
   "cell_type": "markdown",
   "id": "efe8c765",
   "metadata": {},
   "source": [
    "Connection between the daily number of logins and revenue amount."
   ]
  },
  {
   "cell_type": "code",
   "execution_count": 113,
   "id": "e373a641",
   "metadata": {
    "scrolled": false
   },
   "outputs": [
    {
     "data": {
      "text/html": [
       "<div>\n",
       "<style scoped>\n",
       "    .dataframe tbody tr th:only-of-type {\n",
       "        vertical-align: middle;\n",
       "    }\n",
       "\n",
       "    .dataframe tbody tr th {\n",
       "        vertical-align: top;\n",
       "    }\n",
       "\n",
       "    .dataframe thead th {\n",
       "        text-align: right;\n",
       "    }\n",
       "</style>\n",
       "<table border=\"1\" class=\"dataframe\">\n",
       "  <thead>\n",
       "    <tr style=\"text-align: right;\">\n",
       "      <th></th>\n",
       "      <th></th>\n",
       "      <th>n_logins</th>\n",
       "      <th>revenue_in_usd</th>\n",
       "    </tr>\n",
       "    <tr>\n",
       "      <th>pay_month</th>\n",
       "      <th>pay_day</th>\n",
       "      <th></th>\n",
       "      <th></th>\n",
       "    </tr>\n",
       "  </thead>\n",
       "  <tbody>\n",
       "    <tr>\n",
       "      <th>2</th>\n",
       "      <th>15</th>\n",
       "      <td>31524</td>\n",
       "      <td>107.185191</td>\n",
       "    </tr>\n",
       "    <tr>\n",
       "      <th rowspan=\"4\" valign=\"top\">3</th>\n",
       "      <th>25</th>\n",
       "      <td>34886</td>\n",
       "      <td>106.691571</td>\n",
       "    </tr>\n",
       "    <tr>\n",
       "      <th>4</th>\n",
       "      <td>34482</td>\n",
       "      <td>101.839046</td>\n",
       "    </tr>\n",
       "    <tr>\n",
       "      <th>1</th>\n",
       "      <td>33545</td>\n",
       "      <td>96.990222</td>\n",
       "    </tr>\n",
       "    <tr>\n",
       "      <th>9</th>\n",
       "      <td>34524</td>\n",
       "      <td>94.072066</td>\n",
       "    </tr>\n",
       "    <tr>\n",
       "      <th>...</th>\n",
       "      <th>...</th>\n",
       "      <td>...</td>\n",
       "      <td>...</td>\n",
       "    </tr>\n",
       "    <tr>\n",
       "      <th>5</th>\n",
       "      <th>25</th>\n",
       "      <td>4262</td>\n",
       "      <td>0.633973</td>\n",
       "    </tr>\n",
       "    <tr>\n",
       "      <th rowspan=\"3\" valign=\"top\">6</th>\n",
       "      <th>26</th>\n",
       "      <td>191</td>\n",
       "      <td>0.616869</td>\n",
       "    </tr>\n",
       "    <tr>\n",
       "      <th>10</th>\n",
       "      <td>1591</td>\n",
       "      <td>0.512790</td>\n",
       "    </tr>\n",
       "    <tr>\n",
       "      <th>11</th>\n",
       "      <td>1424</td>\n",
       "      <td>0.386407</td>\n",
       "    </tr>\n",
       "    <tr>\n",
       "      <th>5</th>\n",
       "      <th>28</th>\n",
       "      <td>3659</td>\n",
       "      <td>0.353869</td>\n",
       "    </tr>\n",
       "  </tbody>\n",
       "</table>\n",
       "<p>169 rows × 2 columns</p>\n",
       "</div>"
      ],
      "text/plain": [
       "                   n_logins  revenue_in_usd\n",
       "pay_month pay_day                          \n",
       "2         15          31524      107.185191\n",
       "3         25          34886      106.691571\n",
       "          4           34482      101.839046\n",
       "          1           33545       96.990222\n",
       "          9           34524       94.072066\n",
       "...                     ...             ...\n",
       "5         25           4262        0.633973\n",
       "6         26            191        0.616869\n",
       "          10           1591        0.512790\n",
       "          11           1424        0.386407\n",
       "5         28           3659        0.353869\n",
       "\n",
       "[169 rows x 2 columns]"
      ]
     },
     "execution_count": 113,
     "metadata": {},
     "output_type": "execute_result"
    }
   ],
   "source": [
    "j.pivot_table(index=['pay_month', 'pay_day'], \n",
    "              values=['n_logins', 'revenue_in_usd'], \n",
    "              aggfunc='sum').sort_values(['revenue_in_usd', 'n_logins'], ascending=False)"
   ]
  },
  {
   "cell_type": "code",
   "execution_count": 115,
   "id": "687a5a1a",
   "metadata": {},
   "outputs": [
    {
     "data": {
      "text/html": [
       "<div>\n",
       "<style scoped>\n",
       "    .dataframe tbody tr th:only-of-type {\n",
       "        vertical-align: middle;\n",
       "    }\n",
       "\n",
       "    .dataframe tbody tr th {\n",
       "        vertical-align: top;\n",
       "    }\n",
       "\n",
       "    .dataframe thead th {\n",
       "        text-align: right;\n",
       "    }\n",
       "</style>\n",
       "<table border=\"1\" class=\"dataframe\">\n",
       "  <thead>\n",
       "    <tr style=\"text-align: right;\">\n",
       "      <th></th>\n",
       "      <th>pay_dt</th>\n",
       "      <th>id</th>\n",
       "      <th>revenue</th>\n",
       "      <th>currency</th>\n",
       "      <th>pay_month</th>\n",
       "      <th>revenue_in_usd</th>\n",
       "    </tr>\n",
       "  </thead>\n",
       "  <tbody>\n",
       "    <tr>\n",
       "      <th>0</th>\n",
       "      <td>2018-01-01</td>\n",
       "      <td>186</td>\n",
       "      <td>64.910968</td>\n",
       "      <td>RUB</td>\n",
       "      <td>1</td>\n",
       "      <td>1.036916</td>\n",
       "    </tr>\n",
       "    <tr>\n",
       "      <th>1</th>\n",
       "      <td>2018-01-01</td>\n",
       "      <td>393</td>\n",
       "      <td>1.070690</td>\n",
       "      <td>USD</td>\n",
       "      <td>1</td>\n",
       "      <td>1.070690</td>\n",
       "    </tr>\n",
       "    <tr>\n",
       "      <th>2</th>\n",
       "      <td>2018-01-02</td>\n",
       "      <td>305</td>\n",
       "      <td>0.249002</td>\n",
       "      <td>EUR</td>\n",
       "      <td>1</td>\n",
       "      <td>0.207501</td>\n",
       "    </tr>\n",
       "    <tr>\n",
       "      <th>3</th>\n",
       "      <td>2018-01-02</td>\n",
       "      <td>358</td>\n",
       "      <td>0.314238</td>\n",
       "      <td>USD</td>\n",
       "      <td>1</td>\n",
       "      <td>0.314238</td>\n",
       "    </tr>\n",
       "    <tr>\n",
       "      <th>4</th>\n",
       "      <td>2018-01-02</td>\n",
       "      <td>2256</td>\n",
       "      <td>0.555161</td>\n",
       "      <td>USD</td>\n",
       "      <td>1</td>\n",
       "      <td>0.555161</td>\n",
       "    </tr>\n",
       "    <tr>\n",
       "      <th>...</th>\n",
       "      <td>...</td>\n",
       "      <td>...</td>\n",
       "      <td>...</td>\n",
       "      <td>...</td>\n",
       "      <td>...</td>\n",
       "      <td>...</td>\n",
       "    </tr>\n",
       "    <tr>\n",
       "      <th>4047</th>\n",
       "      <td>2018-06-20</td>\n",
       "      <td>149309</td>\n",
       "      <td>0.656961</td>\n",
       "      <td>USD</td>\n",
       "      <td>6</td>\n",
       "      <td>0.656961</td>\n",
       "    </tr>\n",
       "    <tr>\n",
       "      <th>4048</th>\n",
       "      <td>2018-06-20</td>\n",
       "      <td>153857</td>\n",
       "      <td>0.715804</td>\n",
       "      <td>EUR</td>\n",
       "      <td>6</td>\n",
       "      <td>0.596504</td>\n",
       "    </tr>\n",
       "    <tr>\n",
       "      <th>4049</th>\n",
       "      <td>2018-06-23</td>\n",
       "      <td>155881</td>\n",
       "      <td>1.789419</td>\n",
       "      <td>USD</td>\n",
       "      <td>6</td>\n",
       "      <td>1.789419</td>\n",
       "    </tr>\n",
       "    <tr>\n",
       "      <th>4050</th>\n",
       "      <td>2018-06-23</td>\n",
       "      <td>157399</td>\n",
       "      <td>0.385221</td>\n",
       "      <td>EUR</td>\n",
       "      <td>6</td>\n",
       "      <td>0.321018</td>\n",
       "    </tr>\n",
       "    <tr>\n",
       "      <th>4051</th>\n",
       "      <td>2018-06-26</td>\n",
       "      <td>160737</td>\n",
       "      <td>0.616869</td>\n",
       "      <td>USD</td>\n",
       "      <td>6</td>\n",
       "      <td>0.616869</td>\n",
       "    </tr>\n",
       "  </tbody>\n",
       "</table>\n",
       "<p>4052 rows × 6 columns</p>\n",
       "</div>"
      ],
      "text/plain": [
       "         pay_dt      id    revenue currency  pay_month  revenue_in_usd\n",
       "0    2018-01-01     186  64.910968      RUB          1        1.036916\n",
       "1    2018-01-01     393   1.070690      USD          1        1.070690\n",
       "2    2018-01-02     305   0.249002      EUR          1        0.207501\n",
       "3    2018-01-02     358   0.314238      USD          1        0.314238\n",
       "4    2018-01-02    2256   0.555161      USD          1        0.555161\n",
       "...         ...     ...        ...      ...        ...             ...\n",
       "4047 2018-06-20  149309   0.656961      USD          6        0.656961\n",
       "4048 2018-06-20  153857   0.715804      EUR          6        0.596504\n",
       "4049 2018-06-23  155881   1.789419      USD          6        1.789419\n",
       "4050 2018-06-23  157399   0.385221      EUR          6        0.321018\n",
       "4051 2018-06-26  160737   0.616869      USD          6        0.616869\n",
       "\n",
       "[4052 rows x 6 columns]"
      ]
     },
     "execution_count": 115,
     "metadata": {},
     "output_type": "execute_result"
    }
   ],
   "source": [
    "revenue"
   ]
  },
  {
   "cell_type": "markdown",
   "id": "1bef6f73",
   "metadata": {},
   "source": [
    "Number of logins/each day per user."
   ]
  },
  {
   "cell_type": "code",
   "execution_count": 289,
   "id": "b2141633",
   "metadata": {},
   "outputs": [],
   "source": [
    "x = logins.groupby(['id', 'login_dt'])['login_dt'].count().to_frame().rename(\n",
    "    columns={'login_dt': 'n_logins'}).reset_index()"
   ]
  },
  {
   "cell_type": "code",
   "execution_count": 290,
   "id": "01536f7d",
   "metadata": {},
   "outputs": [
    {
     "data": {
      "text/html": [
       "<div>\n",
       "<style scoped>\n",
       "    .dataframe tbody tr th:only-of-type {\n",
       "        vertical-align: middle;\n",
       "    }\n",
       "\n",
       "    .dataframe tbody tr th {\n",
       "        vertical-align: top;\n",
       "    }\n",
       "\n",
       "    .dataframe thead th {\n",
       "        text-align: right;\n",
       "    }\n",
       "</style>\n",
       "<table border=\"1\" class=\"dataframe\">\n",
       "  <thead>\n",
       "    <tr style=\"text-align: right;\">\n",
       "      <th></th>\n",
       "      <th>id</th>\n",
       "      <th>login_dt</th>\n",
       "      <th>n_logins</th>\n",
       "    </tr>\n",
       "  </thead>\n",
       "  <tbody>\n",
       "    <tr>\n",
       "      <th>0</th>\n",
       "      <td>1</td>\n",
       "      <td>2018-01-01</td>\n",
       "      <td>1</td>\n",
       "    </tr>\n",
       "    <tr>\n",
       "      <th>2123215</th>\n",
       "      <td>112363</td>\n",
       "      <td>2018-04-12</td>\n",
       "      <td>1</td>\n",
       "    </tr>\n",
       "    <tr>\n",
       "      <th>2123193</th>\n",
       "      <td>112362</td>\n",
       "      <td>2018-03-29</td>\n",
       "      <td>1</td>\n",
       "    </tr>\n",
       "    <tr>\n",
       "      <th>2123194</th>\n",
       "      <td>112362</td>\n",
       "      <td>2018-04-22</td>\n",
       "      <td>1</td>\n",
       "    </tr>\n",
       "    <tr>\n",
       "      <th>2123195</th>\n",
       "      <td>112362</td>\n",
       "      <td>2018-04-28</td>\n",
       "      <td>1</td>\n",
       "    </tr>\n",
       "    <tr>\n",
       "      <th>...</th>\n",
       "      <td>...</td>\n",
       "      <td>...</td>\n",
       "      <td>...</td>\n",
       "    </tr>\n",
       "    <tr>\n",
       "      <th>1061603</th>\n",
       "      <td>63313</td>\n",
       "      <td>2018-02-10</td>\n",
       "      <td>1</td>\n",
       "    </tr>\n",
       "    <tr>\n",
       "      <th>1061604</th>\n",
       "      <td>63313</td>\n",
       "      <td>2018-02-11</td>\n",
       "      <td>1</td>\n",
       "    </tr>\n",
       "    <tr>\n",
       "      <th>1061605</th>\n",
       "      <td>63313</td>\n",
       "      <td>2018-02-14</td>\n",
       "      <td>1</td>\n",
       "    </tr>\n",
       "    <tr>\n",
       "      <th>1061606</th>\n",
       "      <td>63313</td>\n",
       "      <td>2018-02-21</td>\n",
       "      <td>1</td>\n",
       "    </tr>\n",
       "    <tr>\n",
       "      <th>3184798</th>\n",
       "      <td>161435</td>\n",
       "      <td>2018-06-23</td>\n",
       "      <td>1</td>\n",
       "    </tr>\n",
       "  </tbody>\n",
       "</table>\n",
       "<p>3184799 rows × 3 columns</p>\n",
       "</div>"
      ],
      "text/plain": [
       "             id   login_dt  n_logins\n",
       "0             1 2018-01-01         1\n",
       "2123215  112363 2018-04-12         1\n",
       "2123193  112362 2018-03-29         1\n",
       "2123194  112362 2018-04-22         1\n",
       "2123195  112362 2018-04-28         1\n",
       "...         ...        ...       ...\n",
       "1061603   63313 2018-02-10         1\n",
       "1061604   63313 2018-02-11         1\n",
       "1061605   63313 2018-02-14         1\n",
       "1061606   63313 2018-02-21         1\n",
       "3184798  161435 2018-06-23         1\n",
       "\n",
       "[3184799 rows x 3 columns]"
      ]
     },
     "execution_count": 290,
     "metadata": {},
     "output_type": "execute_result"
    }
   ],
   "source": [
    "x.sort_values('n_logins', ascending=False)"
   ]
  },
  {
   "cell_type": "markdown",
   "id": "bc1c363e",
   "metadata": {},
   "source": [
    "Very strange. There is no one user with $>1$ login per day."
   ]
  },
  {
   "cell_type": "code",
   "execution_count": 291,
   "id": "d548c6cd",
   "metadata": {},
   "outputs": [],
   "source": [
    "r = x.merge(revenue, how='left', left_on=['id', 'login_dt'], right_on=['id', 'pay_dt'])"
   ]
  },
  {
   "cell_type": "code",
   "execution_count": 292,
   "id": "9f95e76d",
   "metadata": {},
   "outputs": [
    {
     "data": {
      "text/html": [
       "<div>\n",
       "<style scoped>\n",
       "    .dataframe tbody tr th:only-of-type {\n",
       "        vertical-align: middle;\n",
       "    }\n",
       "\n",
       "    .dataframe tbody tr th {\n",
       "        vertical-align: top;\n",
       "    }\n",
       "\n",
       "    .dataframe thead th {\n",
       "        text-align: right;\n",
       "    }\n",
       "</style>\n",
       "<table border=\"1\" class=\"dataframe\">\n",
       "  <thead>\n",
       "    <tr style=\"text-align: right;\">\n",
       "      <th></th>\n",
       "      <th>id</th>\n",
       "      <th>login_dt</th>\n",
       "      <th>n_logins</th>\n",
       "      <th>pay_dt</th>\n",
       "      <th>revenue</th>\n",
       "      <th>currency</th>\n",
       "      <th>pay_month</th>\n",
       "      <th>revenue_in_usd</th>\n",
       "    </tr>\n",
       "  </thead>\n",
       "  <tbody>\n",
       "    <tr>\n",
       "      <th>0</th>\n",
       "      <td>1</td>\n",
       "      <td>2018-01-01</td>\n",
       "      <td>1</td>\n",
       "      <td>NaT</td>\n",
       "      <td>NaN</td>\n",
       "      <td>NaN</td>\n",
       "      <td>NaN</td>\n",
       "      <td>NaN</td>\n",
       "    </tr>\n",
       "    <tr>\n",
       "      <th>1</th>\n",
       "      <td>1</td>\n",
       "      <td>2018-01-02</td>\n",
       "      <td>1</td>\n",
       "      <td>NaT</td>\n",
       "      <td>NaN</td>\n",
       "      <td>NaN</td>\n",
       "      <td>NaN</td>\n",
       "      <td>NaN</td>\n",
       "    </tr>\n",
       "    <tr>\n",
       "      <th>2</th>\n",
       "      <td>1</td>\n",
       "      <td>2018-01-03</td>\n",
       "      <td>1</td>\n",
       "      <td>NaT</td>\n",
       "      <td>NaN</td>\n",
       "      <td>NaN</td>\n",
       "      <td>NaN</td>\n",
       "      <td>NaN</td>\n",
       "    </tr>\n",
       "    <tr>\n",
       "      <th>3</th>\n",
       "      <td>1</td>\n",
       "      <td>2018-01-04</td>\n",
       "      <td>1</td>\n",
       "      <td>NaT</td>\n",
       "      <td>NaN</td>\n",
       "      <td>NaN</td>\n",
       "      <td>NaN</td>\n",
       "      <td>NaN</td>\n",
       "    </tr>\n",
       "    <tr>\n",
       "      <th>4</th>\n",
       "      <td>1</td>\n",
       "      <td>2018-01-05</td>\n",
       "      <td>1</td>\n",
       "      <td>NaT</td>\n",
       "      <td>NaN</td>\n",
       "      <td>NaN</td>\n",
       "      <td>NaN</td>\n",
       "      <td>NaN</td>\n",
       "    </tr>\n",
       "  </tbody>\n",
       "</table>\n",
       "</div>"
      ],
      "text/plain": [
       "   id   login_dt  n_logins pay_dt  revenue currency  pay_month  revenue_in_usd\n",
       "0   1 2018-01-01         1    NaT      NaN      NaN        NaN             NaN\n",
       "1   1 2018-01-02         1    NaT      NaN      NaN        NaN             NaN\n",
       "2   1 2018-01-03         1    NaT      NaN      NaN        NaN             NaN\n",
       "3   1 2018-01-04         1    NaT      NaN      NaN        NaN             NaN\n",
       "4   1 2018-01-05         1    NaT      NaN      NaN        NaN             NaN"
      ]
     },
     "execution_count": 292,
     "metadata": {},
     "output_type": "execute_result"
    }
   ],
   "source": [
    "r.head()"
   ]
  },
  {
   "cell_type": "code",
   "execution_count": 293,
   "id": "37b3f67c",
   "metadata": {},
   "outputs": [],
   "source": [
    "r = r.groupby('id').agg({'n_logins': 'count', \n",
    "                         'revenue_in_usd': 'sum'}).sort_values(\n",
    "                            ['revenue_in_usd'], ascending=False).reset_index()"
   ]
  },
  {
   "cell_type": "code",
   "execution_count": 294,
   "id": "f9236bf8",
   "metadata": {},
   "outputs": [
    {
     "data": {
      "text/html": [
       "<div>\n",
       "<style scoped>\n",
       "    .dataframe tbody tr th:only-of-type {\n",
       "        vertical-align: middle;\n",
       "    }\n",
       "\n",
       "    .dataframe tbody tr th {\n",
       "        vertical-align: top;\n",
       "    }\n",
       "\n",
       "    .dataframe thead th {\n",
       "        text-align: right;\n",
       "    }\n",
       "</style>\n",
       "<table border=\"1\" class=\"dataframe\">\n",
       "  <thead>\n",
       "    <tr style=\"text-align: right;\">\n",
       "      <th></th>\n",
       "      <th>id</th>\n",
       "      <th>n_logins</th>\n",
       "      <th>revenue_in_usd</th>\n",
       "    </tr>\n",
       "  </thead>\n",
       "  <tbody>\n",
       "    <tr>\n",
       "      <th>0</th>\n",
       "      <td>139445</td>\n",
       "      <td>23</td>\n",
       "      <td>44.393400</td>\n",
       "    </tr>\n",
       "    <tr>\n",
       "      <th>1</th>\n",
       "      <td>61026</td>\n",
       "      <td>22</td>\n",
       "      <td>43.253018</td>\n",
       "    </tr>\n",
       "    <tr>\n",
       "      <th>2</th>\n",
       "      <td>42415</td>\n",
       "      <td>5</td>\n",
       "      <td>35.710251</td>\n",
       "    </tr>\n",
       "    <tr>\n",
       "      <th>3</th>\n",
       "      <td>142563</td>\n",
       "      <td>24</td>\n",
       "      <td>33.346365</td>\n",
       "    </tr>\n",
       "    <tr>\n",
       "      <th>4</th>\n",
       "      <td>151572</td>\n",
       "      <td>18</td>\n",
       "      <td>29.672764</td>\n",
       "    </tr>\n",
       "  </tbody>\n",
       "</table>\n",
       "</div>"
      ],
      "text/plain": [
       "       id  n_logins  revenue_in_usd\n",
       "0  139445        23       44.393400\n",
       "1   61026        22       43.253018\n",
       "2   42415         5       35.710251\n",
       "3  142563        24       33.346365\n",
       "4  151572        18       29.672764"
      ]
     },
     "execution_count": 294,
     "metadata": {},
     "output_type": "execute_result"
    }
   ],
   "source": [
    "r.head()"
   ]
  },
  {
   "cell_type": "code",
   "execution_count": 295,
   "id": "40726ff0",
   "metadata": {},
   "outputs": [],
   "source": [
    "r = r.pivot_table(index='n_logins', \n",
    "                  values=['revenue_in_usd', 'id'], \n",
    "                  aggfunc={'id': 'count', \n",
    "                           'revenue_in_usd': ['sum', 'mean']}).reset_index()"
   ]
  },
  {
   "cell_type": "code",
   "execution_count": 296,
   "id": "f75c17c7",
   "metadata": {},
   "outputs": [],
   "source": [
    "r.columns = r.columns.droplevel()"
   ]
  },
  {
   "cell_type": "code",
   "execution_count": 298,
   "id": "223df076",
   "metadata": {},
   "outputs": [],
   "source": [
    "r.columns = ['n_logins', 'n_users', 'mean', 'sum']"
   ]
  },
  {
   "cell_type": "code",
   "execution_count": 299,
   "id": "751ff5de",
   "metadata": {
    "scrolled": false
   },
   "outputs": [
    {
     "data": {
      "text/html": [
       "<div>\n",
       "<style scoped>\n",
       "    .dataframe tbody tr th:only-of-type {\n",
       "        vertical-align: middle;\n",
       "    }\n",
       "\n",
       "    .dataframe tbody tr th {\n",
       "        vertical-align: top;\n",
       "    }\n",
       "\n",
       "    .dataframe thead th {\n",
       "        text-align: right;\n",
       "    }\n",
       "</style>\n",
       "<table border=\"1\" class=\"dataframe\">\n",
       "  <thead>\n",
       "    <tr style=\"text-align: right;\">\n",
       "      <th></th>\n",
       "      <th>n_logins</th>\n",
       "      <th>n_users</th>\n",
       "      <th>mean</th>\n",
       "      <th>sum</th>\n",
       "    </tr>\n",
       "  </thead>\n",
       "  <tbody>\n",
       "    <tr>\n",
       "      <th>0</th>\n",
       "      <td>1</td>\n",
       "      <td>237</td>\n",
       "      <td>0.011746</td>\n",
       "      <td>2.783859</td>\n",
       "    </tr>\n",
       "    <tr>\n",
       "      <th>1</th>\n",
       "      <td>2</td>\n",
       "      <td>1187</td>\n",
       "      <td>0.023014</td>\n",
       "      <td>27.317129</td>\n",
       "    </tr>\n",
       "    <tr>\n",
       "      <th>2</th>\n",
       "      <td>3</td>\n",
       "      <td>2522</td>\n",
       "      <td>0.035588</td>\n",
       "      <td>89.751679</td>\n",
       "    </tr>\n",
       "    <tr>\n",
       "      <th>3</th>\n",
       "      <td>4</td>\n",
       "      <td>3517</td>\n",
       "      <td>0.040342</td>\n",
       "      <td>141.882650</td>\n",
       "    </tr>\n",
       "    <tr>\n",
       "      <th>4</th>\n",
       "      <td>5</td>\n",
       "      <td>3701</td>\n",
       "      <td>0.041260</td>\n",
       "      <td>152.703860</td>\n",
       "    </tr>\n",
       "    <tr>\n",
       "      <th>5</th>\n",
       "      <td>6</td>\n",
       "      <td>3133</td>\n",
       "      <td>0.025479</td>\n",
       "      <td>79.825473</td>\n",
       "    </tr>\n",
       "    <tr>\n",
       "      <th>6</th>\n",
       "      <td>7</td>\n",
       "      <td>2108</td>\n",
       "      <td>0.024926</td>\n",
       "      <td>52.544187</td>\n",
       "    </tr>\n",
       "    <tr>\n",
       "      <th>7</th>\n",
       "      <td>8</td>\n",
       "      <td>1186</td>\n",
       "      <td>0.024697</td>\n",
       "      <td>29.291128</td>\n",
       "    </tr>\n",
       "    <tr>\n",
       "      <th>8</th>\n",
       "      <td>9</td>\n",
       "      <td>584</td>\n",
       "      <td>0.019197</td>\n",
       "      <td>11.211284</td>\n",
       "    </tr>\n",
       "    <tr>\n",
       "      <th>9</th>\n",
       "      <td>10</td>\n",
       "      <td>271</td>\n",
       "      <td>0.076238</td>\n",
       "      <td>20.660418</td>\n",
       "    </tr>\n",
       "    <tr>\n",
       "      <th>10</th>\n",
       "      <td>11</td>\n",
       "      <td>225</td>\n",
       "      <td>0.018659</td>\n",
       "      <td>4.198264</td>\n",
       "    </tr>\n",
       "    <tr>\n",
       "      <th>11</th>\n",
       "      <td>12</td>\n",
       "      <td>390</td>\n",
       "      <td>0.038604</td>\n",
       "      <td>15.055545</td>\n",
       "    </tr>\n",
       "    <tr>\n",
       "      <th>12</th>\n",
       "      <td>13</td>\n",
       "      <td>822</td>\n",
       "      <td>0.029659</td>\n",
       "      <td>24.379868</td>\n",
       "    </tr>\n",
       "    <tr>\n",
       "      <th>13</th>\n",
       "      <td>14</td>\n",
       "      <td>1547</td>\n",
       "      <td>0.046928</td>\n",
       "      <td>72.596925</td>\n",
       "    </tr>\n",
       "    <tr>\n",
       "      <th>14</th>\n",
       "      <td>15</td>\n",
       "      <td>2834</td>\n",
       "      <td>0.044585</td>\n",
       "      <td>126.353275</td>\n",
       "    </tr>\n",
       "    <tr>\n",
       "      <th>15</th>\n",
       "      <td>16</td>\n",
       "      <td>4771</td>\n",
       "      <td>0.033568</td>\n",
       "      <td>160.153314</td>\n",
       "    </tr>\n",
       "    <tr>\n",
       "      <th>16</th>\n",
       "      <td>17</td>\n",
       "      <td>7298</td>\n",
       "      <td>0.036226</td>\n",
       "      <td>264.376960</td>\n",
       "    </tr>\n",
       "    <tr>\n",
       "      <th>17</th>\n",
       "      <td>18</td>\n",
       "      <td>9888</td>\n",
       "      <td>0.041109</td>\n",
       "      <td>406.488367</td>\n",
       "    </tr>\n",
       "    <tr>\n",
       "      <th>18</th>\n",
       "      <td>19</td>\n",
       "      <td>12548</td>\n",
       "      <td>0.031767</td>\n",
       "      <td>398.613145</td>\n",
       "    </tr>\n",
       "    <tr>\n",
       "      <th>19</th>\n",
       "      <td>20</td>\n",
       "      <td>14705</td>\n",
       "      <td>0.041650</td>\n",
       "      <td>612.464638</td>\n",
       "    </tr>\n",
       "    <tr>\n",
       "      <th>20</th>\n",
       "      <td>21</td>\n",
       "      <td>15770</td>\n",
       "      <td>0.036040</td>\n",
       "      <td>568.351618</td>\n",
       "    </tr>\n",
       "    <tr>\n",
       "      <th>21</th>\n",
       "      <td>22</td>\n",
       "      <td>15551</td>\n",
       "      <td>0.051323</td>\n",
       "      <td>798.126683</td>\n",
       "    </tr>\n",
       "    <tr>\n",
       "      <th>22</th>\n",
       "      <td>23</td>\n",
       "      <td>14211</td>\n",
       "      <td>0.042897</td>\n",
       "      <td>609.611411</td>\n",
       "    </tr>\n",
       "    <tr>\n",
       "      <th>23</th>\n",
       "      <td>24</td>\n",
       "      <td>12373</td>\n",
       "      <td>0.037899</td>\n",
       "      <td>468.922466</td>\n",
       "    </tr>\n",
       "    <tr>\n",
       "      <th>24</th>\n",
       "      <td>25</td>\n",
       "      <td>9896</td>\n",
       "      <td>0.035984</td>\n",
       "      <td>356.096533</td>\n",
       "    </tr>\n",
       "    <tr>\n",
       "      <th>25</th>\n",
       "      <td>26</td>\n",
       "      <td>7315</td>\n",
       "      <td>0.028108</td>\n",
       "      <td>205.608607</td>\n",
       "    </tr>\n",
       "    <tr>\n",
       "      <th>26</th>\n",
       "      <td>27</td>\n",
       "      <td>5103</td>\n",
       "      <td>0.036707</td>\n",
       "      <td>187.314660</td>\n",
       "    </tr>\n",
       "    <tr>\n",
       "      <th>27</th>\n",
       "      <td>28</td>\n",
       "      <td>3329</td>\n",
       "      <td>0.029681</td>\n",
       "      <td>98.808740</td>\n",
       "    </tr>\n",
       "    <tr>\n",
       "      <th>28</th>\n",
       "      <td>29</td>\n",
       "      <td>2044</td>\n",
       "      <td>0.043865</td>\n",
       "      <td>89.659807</td>\n",
       "    </tr>\n",
       "    <tr>\n",
       "      <th>29</th>\n",
       "      <td>30</td>\n",
       "      <td>1229</td>\n",
       "      <td>0.040652</td>\n",
       "      <td>49.961291</td>\n",
       "    </tr>\n",
       "    <tr>\n",
       "      <th>30</th>\n",
       "      <td>31</td>\n",
       "      <td>613</td>\n",
       "      <td>0.017277</td>\n",
       "      <td>10.590977</td>\n",
       "    </tr>\n",
       "    <tr>\n",
       "      <th>31</th>\n",
       "      <td>32</td>\n",
       "      <td>283</td>\n",
       "      <td>0.060442</td>\n",
       "      <td>17.105189</td>\n",
       "    </tr>\n",
       "    <tr>\n",
       "      <th>32</th>\n",
       "      <td>33</td>\n",
       "      <td>122</td>\n",
       "      <td>0.053143</td>\n",
       "      <td>6.483423</td>\n",
       "    </tr>\n",
       "    <tr>\n",
       "      <th>33</th>\n",
       "      <td>34</td>\n",
       "      <td>76</td>\n",
       "      <td>0.051156</td>\n",
       "      <td>3.887875</td>\n",
       "    </tr>\n",
       "    <tr>\n",
       "      <th>34</th>\n",
       "      <td>35</td>\n",
       "      <td>30</td>\n",
       "      <td>0.000000</td>\n",
       "      <td>0.000000</td>\n",
       "    </tr>\n",
       "    <tr>\n",
       "      <th>35</th>\n",
       "      <td>36</td>\n",
       "      <td>9</td>\n",
       "      <td>0.628991</td>\n",
       "      <td>5.660917</td>\n",
       "    </tr>\n",
       "    <tr>\n",
       "      <th>36</th>\n",
       "      <td>37</td>\n",
       "      <td>3</td>\n",
       "      <td>0.000000</td>\n",
       "      <td>0.000000</td>\n",
       "    </tr>\n",
       "    <tr>\n",
       "      <th>37</th>\n",
       "      <td>38</td>\n",
       "      <td>3</td>\n",
       "      <td>0.000000</td>\n",
       "      <td>0.000000</td>\n",
       "    </tr>\n",
       "    <tr>\n",
       "      <th>38</th>\n",
       "      <td>40</td>\n",
       "      <td>1</td>\n",
       "      <td>0.000000</td>\n",
       "      <td>0.000000</td>\n",
       "    </tr>\n",
       "  </tbody>\n",
       "</table>\n",
       "</div>"
      ],
      "text/plain": [
       "    n_logins  n_users      mean         sum\n",
       "0          1      237  0.011746    2.783859\n",
       "1          2     1187  0.023014   27.317129\n",
       "2          3     2522  0.035588   89.751679\n",
       "3          4     3517  0.040342  141.882650\n",
       "4          5     3701  0.041260  152.703860\n",
       "5          6     3133  0.025479   79.825473\n",
       "6          7     2108  0.024926   52.544187\n",
       "7          8     1186  0.024697   29.291128\n",
       "8          9      584  0.019197   11.211284\n",
       "9         10      271  0.076238   20.660418\n",
       "10        11      225  0.018659    4.198264\n",
       "11        12      390  0.038604   15.055545\n",
       "12        13      822  0.029659   24.379868\n",
       "13        14     1547  0.046928   72.596925\n",
       "14        15     2834  0.044585  126.353275\n",
       "15        16     4771  0.033568  160.153314\n",
       "16        17     7298  0.036226  264.376960\n",
       "17        18     9888  0.041109  406.488367\n",
       "18        19    12548  0.031767  398.613145\n",
       "19        20    14705  0.041650  612.464638\n",
       "20        21    15770  0.036040  568.351618\n",
       "21        22    15551  0.051323  798.126683\n",
       "22        23    14211  0.042897  609.611411\n",
       "23        24    12373  0.037899  468.922466\n",
       "24        25     9896  0.035984  356.096533\n",
       "25        26     7315  0.028108  205.608607\n",
       "26        27     5103  0.036707  187.314660\n",
       "27        28     3329  0.029681   98.808740\n",
       "28        29     2044  0.043865   89.659807\n",
       "29        30     1229  0.040652   49.961291\n",
       "30        31      613  0.017277   10.590977\n",
       "31        32      283  0.060442   17.105189\n",
       "32        33      122  0.053143    6.483423\n",
       "33        34       76  0.051156    3.887875\n",
       "34        35       30  0.000000    0.000000\n",
       "35        36        9  0.628991    5.660917\n",
       "36        37        3  0.000000    0.000000\n",
       "37        38        3  0.000000    0.000000\n",
       "38        40        1  0.000000    0.000000"
      ]
     },
     "execution_count": 299,
     "metadata": {},
     "output_type": "execute_result"
    }
   ],
   "source": [
    "r"
   ]
  },
  {
   "cell_type": "code",
   "execution_count": 310,
   "id": "b0f12512",
   "metadata": {},
   "outputs": [
    {
     "data": {
      "image/png": "[encoded data removed]",
      "text/plain": [
       "<Figure size 430.225x360 with 1 Axes>"
      ]
     },
     "metadata": {},
     "output_type": "display_data"
    },
    {
     "data": {
      "image/png": "[encoded data removed]",
      "text/plain": [
       "<Figure size 430.225x360 with 1 Axes>"
      ]
     },
     "metadata": {},
     "output_type": "display_data"
    }
   ],
   "source": [
    "# sum\n",
    "sns.relplot(data=r, \n",
    "            x='n_logins', y='sum', \n",
    "            size='n_users', \n",
    "            sizes=(15, 200))\n",
    "\n",
    "# mean\n",
    "sns.relplot(data=r, \n",
    "            x='n_logins', y='mean', \n",
    "            size='n_users', \n",
    "            sizes=(15, 200));"
   ]
  },
  {
   "cell_type": "markdown",
   "id": "7da7b0ff",
   "metadata": {},
   "source": [
    "So, it looks like most hardcore users, which have the highest number of logins don't spend a lot of money. The highest spend has users who have 20-25 logins per tracked period."
   ]
  }
 ],
 "metadata": {
  "celltoolbar": "Необработанный формат ячейки",
  "colab": {
   "collapsed_sections": [
    "eddaf082",
    "wIqMGPUXPQSM",
    "6iG7ArpZsvvr",
    "lTVWUgKos0oS",
    "8620fb92",
    "e8820c64",
    "8f247a62",
    "401d2954",
    "24e14a63"
   ],
   "provenance": []
  },
  "kernelspec": {
   "display_name": "Python 3 (ipykernel)",
   "language": "python",
   "name": "python3"
  },
  "language_info": {
   "codemirror_mode": {
    "name": "ipython",
    "version": 3
   },
   "file_extension": ".py",
   "mimetype": "text/x-python",
   "name": "python",
   "nbconvert_exporter": "python",
   "pygments_lexer": "ipython3",
   "version": "3.9.7"
  }
 },
 "nbformat": 4,
 "nbformat_minor": 5
}
